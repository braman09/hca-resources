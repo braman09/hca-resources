{
 "cells": [
  {
   "cell_type": "markdown",
   "metadata": {},
   "source": [
    "## HotChili Analytics trading notebook template\n",
    "#### Configure by setting ALGO_NAME in cell below.\n",
    "#### Run various options (backtest, ingest, live) by uncommenting one cell "
   ]
  },
  {
   "cell_type": "code",
   "execution_count": 1,
   "metadata": {},
   "outputs": [
    {
     "name": "stderr",
     "output_type": "stream",
     "text": [
      "/home/hca-r2-001/miniconda3/envs/hca/lib/python3.6/site-packages/h5py/__init__.py:36: FutureWarning: Conversion of the second argument of issubdtype from `float` to `np.floating` is deprecated. In future, it will be treated as `np.float64 == np.dtype(float).type`.\n",
      "  from ._conv import register_converters as _register_converters\n",
      "/home/hca-r2-001/miniconda3/envs/hca/lib/python3.6/site-packages/odo/backends/pandas.py:94: FutureWarning: pandas.tslib is deprecated and will be removed in a future version.\n",
      "You can access NaTType as type(pandas.NaT)\n",
      "  @convert.register((pd.Timestamp, pd.Timedelta), (pd.tslib.NaTType, type(None)))\n",
      "WARNING (theano.configdefaults): install mkl with `conda install mkl-service`: No module named 'mkl'\n"
     ]
    }
   ],
   "source": [
    "%matplotlib inline\n",
    "%load_ext zipline\n",
    "\n",
    "import numpy as np\n",
    "import matplotlib.pyplot as plt\n",
    "from matplotlib.pyplot import figure\n",
    "\n",
    "import pandas as pd\n",
    "import pyfolio as pf\n",
    "import hca_mrevonez as mr"
   ]
  },
  {
   "cell_type": "code",
   "execution_count": 2,
   "metadata": {},
   "outputs": [],
   "source": [
    "import pandas as pd\n",
    "\n",
    "# Options you can uncomment and set:\n",
    "\n",
    "# pd.set_option(\"max_colwidth\", 300)\n",
    "# pd.set_option(\"display.max_rows\", 300)\n",
    "# pd.set_option(\"display.max_columns\", 50)\n",
    "# pd.set_option('precision', 2)\n",
    "# pd.options.display.float_format = '{:20,.2f}'.format"
   ]
  },
  {
   "cell_type": "code",
   "execution_count": 3,
   "metadata": {},
   "outputs": [
    {
     "name": "stdout",
     "output_type": "stream",
     "text": [
      "hca_root_path = /home/hca-ws2004/hca\n"
     ]
    }
   ],
   "source": [
    "import os\n",
    "\n",
    "hca_root_path = os.environ['HCA_ROOT']\n",
    "print(f\"hca_root_path = {hca_root_path}\")"
   ]
  },
  {
   "cell_type": "markdown",
   "metadata": {},
   "source": [
    "# Construct algorithm strategy path names\n",
    "\n",
    "Assumptions:\n",
    "\n",
    "- the strategy is in a directory with the same name as the strategy in `ALGO_NAME` below\n",
    "- the strategy is located in the hca-resources directory, which is located relative to `hca_root_path`, found above"
   ]
  },
  {
   "cell_type": "code",
   "execution_count": 4,
   "metadata": {},
   "outputs": [],
   "source": [
    "ALGO_NAME = \"HCA_Mean_Reversion\" # <--- Supply name here"
   ]
  },
  {
   "cell_type": "markdown",
   "metadata": {},
   "source": [
    "Other variables are derived from `ALGO_NAME`:"
   ]
  },
  {
   "cell_type": "code",
   "execution_count": 5,
   "metadata": {},
   "outputs": [
    {
     "name": "stdout",
     "output_type": "stream",
     "text": [
      "\n",
      "ALGO_NAME          = HCA_Mean_Reversion\n",
      "HCA_RESOURCES_PATH = /home/hca-ws2004/hca/hca-resources/\n",
      "ALGO_PATH          = /home/hca-ws2004/hca/hca-resources/HCA_Mean_Reversion/\n",
      "ALGO_BT            = /home/hca-ws2004/hca/hca-resources/HCA_Mean_Reversion/HCA_Mean_Reversion.py\n",
      "ALGO_BT_OUT        = /home/hca-ws2004/hca/hca-resources/HCA_Mean_Reversion/HCA_Mean_Reversion.pkl\n",
      "ALGO_LIVE          = /home/hca-ws2004/hca/hca-resources/HCA_Mean_Reversion/HCA_Mean_Reversion_Live.py\n",
      "\n",
      "Contents of algo directory:\n",
      "\n",
      "ARKK.csv\t\t      hca_mrevonez.py\t\t __pycache__  TSLA.csv\n",
      "HCA_Mean_Reversion_Bot\t      mean_reversion.ipynb\t spy.csv\n",
      "HCA_Mean_Reversion.ipynb      mean_reversion_profit.csv  SPY.csv\n",
      "HCA_Mean_Reversion_old.ipynb  mytable.png\t\t summary.png\n"
     ]
    }
   ],
   "source": [
    "HCA_RESOURCES_PATH = hca_root_path + \"/hca-resources/\" \n",
    "ALGO_PATH          = HCA_RESOURCES_PATH + ALGO_NAME + \"/\" \n",
    "ALGO_BT            = ALGO_PATH + ALGO_NAME + \".py\"\n",
    "ALGO_BT_OUT        = ALGO_PATH + ALGO_NAME + \".pkl\"\n",
    "ALGO_LIVE          = ALGO_PATH + ALGO_NAME + \"_Live\" + \".py\"\n",
    "\n",
    "print(f\"\"\"\n",
    "ALGO_NAME          = {ALGO_NAME}\n",
    "HCA_RESOURCES_PATH = {HCA_RESOURCES_PATH}\n",
    "ALGO_PATH          = {ALGO_PATH}\n",
    "ALGO_BT            = {ALGO_BT}\n",
    "ALGO_BT_OUT        = {ALGO_BT_OUT}\n",
    "ALGO_LIVE          = {ALGO_LIVE}\n",
    "\n",
    "Contents of algo directory:\n",
    "\"\"\")\n",
    "\n",
    "!ls $ALGO_PATH"
   ]
  },
  {
   "cell_type": "markdown",
   "metadata": {},
   "source": [
    "## Backtest: \n",
    "\n",
    "- Method: Jupyter magic cell (%%) \n",
    "- Execution of zipline code in cell containing command line command\n",
    "- Uncomment first line and hit (shift-enter) inside the cell to run simulation backtest"
   ]
  },
  {
   "cell_type": "code",
   "execution_count": 6,
   "metadata": {},
   "outputs": [
    {
     "name": "stdout",
     "output_type": "stream",
     "text": [
      "start=2019-04-12 end=2021-04-11 simdays=730 tail_days=10\n",
      "Stats for equity from 2019-04-12 00:00:00 - 2021-04-09 00:00:00\n",
      "Annual risk-free rate considered: 0.00%\n",
      "Summary:\n",
      "Total Return      Sharpe  CAGR    Max Drawdown\n",
      "--------------  --------  ------  --------------\n",
      "-                   0.51  4.28%   -8.55%\n",
      "\n",
      "Annualized Returns:\n",
      "mtd    3m     6m     ytd    1y     3y     5y    10y    incep.\n",
      "-----  -----  -----  -----  -----  -----  ----  -----  --------\n",
      "1.13%  1.63%  5.06%  2.50%  5.99%  4.28%  -     -      4.28%\n",
      "\n",
      "Periodic:\n",
      "        daily    monthly    yearly\n",
      "------  -------  ---------  --------\n",
      "sharpe  0.51     0.79       1.59\n",
      "mean    4.60%    4.31%      4.50%\n",
      "vol     9.04%    5.46%      2.84%\n",
      "skew    2.90     0.65       -\n",
      "kurt    79.97    0.64       -\n",
      "best    7.48%    4.20%      6.51%\n",
      "worst   -5.61%   -2.29%     2.50%\n",
      "\n",
      "Drawdowns:\n",
      "max     avg       # days\n",
      "------  ------  --------\n",
      "-8.55%  -3.10%     66.33\n",
      "\n",
      "Misc:\n",
      "---------------  -------\n",
      "avg. up month    1.86%\n",
      "avg. down month  -0.54%\n",
      "up year %        100.00%\n",
      "12m up %         100.00%\n",
      "---------------  -------\n",
      "\n",
      "\n",
      "Last 10 of strategy\n",
      "\n",
      "\n",
      "                 Close         money  amount        equity\n",
      "Date                                                      \n",
      "2021-03-26  136.955682  10746.045847     0.0  10746.045847\n",
      "2021-03-29  136.476327  10746.045847     0.0  10746.045847\n",
      "2021-03-30  135.317886  10746.045847     0.0  10746.045847\n",
      "2021-03-31  136.026932  10746.045847     0.0  10746.045847\n",
      "2021-04-01  135.267953  10746.045847     0.0  10746.045847\n",
      "2021-04-05  137.510000  21471.825847   -78.0  10746.045847\n",
      "2021-04-06  136.910000  10792.845847     0.0  10792.845847\n",
      "2021-04-07  137.840000  21544.365847   -78.0  10792.845847\n",
      "2021-04-08  136.880000  10867.725847     0.0  10867.725847\n",
      "2021-04-09  138.010000  21770.515847   -79.0  10867.725847\n"
     ]
    }
   ],
   "source": [
    "equity='TLT' #'ARKK' #'TSLA'\n",
    "strat_name = 'MeanRevOneZ'\n",
    "sim_days = 730\n",
    "tail_days = 10\n",
    "\n",
    "end_dt  = pd.datetime.today()\n",
    "strt_dt = end_dt - pd.DateOffset(days=sim_days)                    \n",
    "strt_ts =  strt_dt.strftime(\"%Y-%m-%d\")\n",
    "end_ts  = end_dt.strftime(\"%Y-%m-%d\")\n",
    "print(\"start={} end={} simdays={} tail_days={}\".format(strt_ts, end_ts, sim_days, tail_days))\n",
    "\n",
    "\n",
    "\n",
    "msg     = ['Using equity ',\n",
    "           equity,\n",
    "           'with strategy:',\n",
    "           strat_name,\n",
    "           'during period:',\n",
    "           '['+ strt_ts + ', ' + end_ts +']'\n",
    "           ]\n",
    "\n",
    "strat = mr.MeanRevOneSymZ(strt_ts, end_ts)\n",
    "strat.asset_sym = equity\n",
    "stock      = strat.get_asset_data(strat.av_key, strat.asset_sym, strt_ts, end_ts)\n",
    "\n",
    "bt_df      = strat.mr_trade(stock, strat.window_len)\n",
    "\n",
    "perf       = bt_df['equity'].calc_stats()\n",
    "\n",
    "perf_ret = pd.Series(bt_df['equity'])\n",
    "perf_ret = perf_ret.replace([np.inf, -np.inf], np.nan)\n",
    "perf_ret = perf_ret.fillna(0).diff().fillna(0)\n",
    "#.fillna(0).pct_change()\n",
    "\n",
    "perf.display()\n",
    "\n",
    "#perf_equity_md = perf.stats.as_format('.3f').to_markdown()\n",
    "stats_disp =None\n",
    "if tail_days >0:\n",
    "    stats_disp = bt_df[['Close','money','amount','equity']].tail(tail_days)\n",
    "\n",
    "msg2= f\"\\n\\nLast {tail_days} of strategy\\n\\n\"\n",
    "print(msg2)\n",
    "print(stats_disp)\n"
   ]
  },
  {
   "cell_type": "code",
   "execution_count": 7,
   "metadata": {},
   "outputs": [
    {
     "data": {
      "text/plain": [
       "<matplotlib.axes._subplots.AxesSubplot at 0x7f47151662e8>"
      ]
     },
     "execution_count": 7,
     "metadata": {},
     "output_type": "execute_result"
    },
    {
     "data": {
      "image/png": "[encoded data removed]",
      "text/plain": [
       "<Figure size 432x288 with 1 Axes>"
      ]
     },
     "metadata": {
      "needs_background": "light"
     },
     "output_type": "display_data"
    }
   ],
   "source": [
    "(bt_df[['equity']].pct_change()+1.).cumprod().plot()"
   ]
  },
  {
   "cell_type": "markdown",
   "metadata": {},
   "source": [
    "## Ingest Sharadar funds assets for today"
   ]
  },
  {
   "cell_type": "code",
   "execution_count": 8,
   "metadata": {},
   "outputs": [
    {
     "name": "stdout",
     "output_type": "stream",
     "text": [
      "TODAY = 2021-04-11\n"
     ]
    }
   ],
   "source": [
    "TODAY = pd.datetime.today().strftime(\"%Y-%m-%d\")\n",
    "print(\"TODAY = {}\".format(TODAY))"
   ]
  }
 ],
 "metadata": {
  "hide_input": false,
  "kernelspec": {
   "display_name": "hca-py3.6.7",
   "language": "python",
   "name": "hca"
  },
  "language_info": {
   "codemirror_mode": {
    "name": "ipython",
    "version": 3
   },
   "file_extension": ".py",
   "mimetype": "text/x-python",
   "name": "python",
   "nbconvert_exporter": "python",
   "pygments_lexer": "ipython3",
   "version": "3.6.7"
  }
 },
 "nbformat": 4,
 "nbformat_minor": 4
}
