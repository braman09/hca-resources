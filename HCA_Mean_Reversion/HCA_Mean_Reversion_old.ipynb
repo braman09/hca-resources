{
 "cells": [
  {
   "cell_type": "markdown",
   "metadata": {},
   "source": [
    "# A simple Mean Reversion System\n",
    "Most of the following imports are mainstream, well known Python libraries.\n",
    "\n",
    "alpha_vantage and fix_yahoo are specialist libraries to download stock data free.  To use alpha_vantage you will need to obtain your own key from the providers https://www.alphavantage.co/\n",
    "\n",
    "ffn is a specialist library to report trading systems statistics"
   ]
  },
  {
   "cell_type": "code",
   "execution_count": 1,
   "metadata": {},
   "outputs": [
    {
     "ename": "ModuleNotFoundError",
     "evalue": "No module named 'fix_yahoo_finance'",
     "output_type": "error",
     "traceback": [
      "\u001b[0;31m---------------------------------------------------------------------------\u001b[0m",
      "\u001b[0;31mModuleNotFoundError\u001b[0m                       Traceback (most recent call last)",
      "\u001b[0;32m<ipython-input-1-c5166fe93ed4>\u001b[0m in \u001b[0;36m<module>\u001b[0;34m\u001b[0m\n\u001b[1;32m      5\u001b[0m \u001b[0;32mimport\u001b[0m \u001b[0mpandas\u001b[0m \u001b[0;32mas\u001b[0m \u001b[0mpd\u001b[0m\u001b[0;34m\u001b[0m\u001b[0;34m\u001b[0m\u001b[0m\n\u001b[1;32m      6\u001b[0m \u001b[0;32mfrom\u001b[0m \u001b[0malpha_vantage\u001b[0m\u001b[0;34m.\u001b[0m\u001b[0mtimeseries\u001b[0m \u001b[0;32mimport\u001b[0m \u001b[0mTimeSeries\u001b[0m\u001b[0;34m\u001b[0m\u001b[0;34m\u001b[0m\u001b[0m\n\u001b[0;32m----> 7\u001b[0;31m \u001b[0;32mimport\u001b[0m \u001b[0mfix_yahoo_finance\u001b[0m \u001b[0;32mas\u001b[0m \u001b[0myf\u001b[0m\u001b[0;34m\u001b[0m\u001b[0;34m\u001b[0m\u001b[0m\n\u001b[0m\u001b[1;32m      8\u001b[0m \u001b[0;31m#because the is_list_like is moved to pandas.api.types\u001b[0m\u001b[0;34m\u001b[0m\u001b[0;34m\u001b[0m\u001b[0;34m\u001b[0m\u001b[0m\n\u001b[1;32m      9\u001b[0m \u001b[0mpd\u001b[0m\u001b[0;34m.\u001b[0m\u001b[0mcore\u001b[0m\u001b[0;34m.\u001b[0m\u001b[0mcommon\u001b[0m\u001b[0;34m.\u001b[0m\u001b[0mis_list_like\u001b[0m \u001b[0;34m=\u001b[0m \u001b[0mpd\u001b[0m\u001b[0;34m.\u001b[0m\u001b[0mapi\u001b[0m\u001b[0;34m.\u001b[0m\u001b[0mtypes\u001b[0m\u001b[0;34m.\u001b[0m\u001b[0mis_list_like\u001b[0m\u001b[0;34m\u001b[0m\u001b[0;34m\u001b[0m\u001b[0m\n",
      "\u001b[0;31mModuleNotFoundError\u001b[0m: No module named 'fix_yahoo_finance'"
     ]
    }
   ],
   "source": [
    "import numpy as np\n",
    "import matplotlib.pyplot as plt\n",
    "from matplotlib.pyplot import figure\n",
    "%matplotlib notebook\n",
    "import pandas as pd\n",
    "from alpha_vantage.timeseries import TimeSeries\n",
    "import fix_yahoo_finance as yf\n",
    "#because the is_list_like is moved to pandas.api.types\n",
    "pd.core.common.is_list_like = pd.api.types.is_list_like\n",
    "import ffn\n",
    "#import pixiedust"
   ]
  },
  {
   "cell_type": "markdown",
   "metadata": {},
   "source": [
    "## The following two cells can be used to download stock data and then blanked out again once the data has been saved to csv.\n",
    "\n"
   ]
  },
  {
   "cell_type": "code",
   "execution_count": null,
   "metadata": {},
   "outputs": [],
   "source": [
    "ts = TimeSeries(key='HK7Q1K6I2EIFKTVL', output_format='pandas')\n",
    "data, meta_data = ts.get_daily_adjusted(symbol='SPY', outputsize='full')\n",
    "data = yf.download(\"SPY\", start=\"2019-01-01\", end=\"2021-03-12\")"
   ]
  },
  {
   "cell_type": "markdown",
   "metadata": {},
   "source": [
    "## The following line is to create split adjusted Open prices since only the adjusted close is provided:\n",
    "\n",
    "data['Adj_Open']=data.Open*(data.Adj_Close/data.Close)\n",
    "\n",
    "Useful if you want to test taking signal from previous close and trading at the next open."
   ]
  },
  {
   "cell_type": "code",
   "execution_count": null,
   "metadata": {},
   "outputs": [],
   "source": [
    "data.rename(columns={'Adj Close': 'Adj_Close'}, inplace=True)\n",
    "data['Adj_Open']=data.Open*(data.Adj_Close/data.Close)\n",
    "data.to_csv('spy.csv')\n",
    "#data.to_csv('../data/Stocks/spy.csv')\n",
    "#data.head()"
   ]
  },
  {
   "cell_type": "markdown",
   "metadata": {},
   "source": [
    "Chart the data to check there are no obvious problems with the split adjusted data."
   ]
  },
  {
   "cell_type": "code",
   "execution_count": null,
   "metadata": {
    "scrolled": true
   },
   "outputs": [],
   "source": [
    "pricing = pd.read_csv(\n",
    "    'spy.csv',\n",
    "    #'../data/Stocks/spy.csv',\n",
    "    header=0,\n",
    "    parse_dates=[\"Date\"],\n",
    "    #index_col=0,\n",
    "    usecols=['Date','Adj_Open', 'Adj_Close'])\n",
    "#figure(num=None, figsize=(6, 4), dpi=80, facecolor='w', edgecolor='k')\n",
    "#plt.plot(pricing.Adj_Open, label='Spy Open')\n",
    "#plt.plot(pricing.Adj_Close, label='Spy Close')\n",
    "#plt.xlabel('Date')\n",
    "#plt.ylabel('Price')\n",
    "#plt.legend();"
   ]
  },
  {
   "cell_type": "markdown",
   "metadata": {},
   "source": [
    "## Visual inspection of the DataFrame. \n",
    "\n",
    "Adjust to see wider and different selection of rows.  e.g pricing.tail(10) shows \n",
    "the final ten rows of data. See 10 Minutes to Pandas https://pandas.pydata.org/pandas-docs/stable/10min.html \n",
    "or the Pandas Cheat Sheet https://pandas.pydata.org/Pandas_Cheat_Sheet.pdf"
   ]
  },
  {
   "cell_type": "code",
   "execution_count": null,
   "metadata": {},
   "outputs": [],
   "source": [
    "#pricing.head(),pricing.tail()"
   ]
  },
  {
   "cell_type": "markdown",
   "metadata": {},
   "source": [
    "## Shift the Adjusted Close down one row \n",
    "\n",
    "so that it aligns with the next day's Adjusted Open.  That way we can calculate the signals using the previous day's Close and enter the trade on the next day's Open"
   ]
  },
  {
   "cell_type": "code",
   "execution_count": null,
   "metadata": {},
   "outputs": [],
   "source": [
    "stock=pricing.copy()\n",
    "stock.Adj_Close=stock.Adj_Close.shift(1)\n",
    "\n",
    "#stock.tail()"
   ]
  },
  {
   "cell_type": "markdown",
   "metadata": {},
   "source": [
    "## Create three or more separate blocks of data for testing. \n",
    "\n",
    "Reserve one of these for out of sample testing."
   ]
  },
  {
   "cell_type": "code",
   "execution_count": null,
   "metadata": {},
   "outputs": [],
   "source": [
    "#stock_1=stock.iloc[0:2170].copy()\n",
    "#stock_2=stock.iloc[2170:4342].copy().reset_index(drop=True)\n",
    "#stock_3=stock.iloc[4342:6513].copy().reset_index(drop=True) \n",
    "#stock_2.head()"
   ]
  },
  {
   "cell_type": "markdown",
   "metadata": {},
   "source": [
    "## Here is the code for the function which loops through the stock data and executes the trades.  \n",
    "\n",
    "You can experiment with different parameters such as changing the maximum position size or starting capital.\n",
    "\n",
    "Experiment with changing references:\n",
    "\n",
    "1.from both trading and signal generation at the Close; to \n",
    "\n",
    "2.signal generation at the Close but trading at the next Open. \n",
    "\n",
    "You will not be happy with the result suggesting you may need to automate trading to generate signals and trade intraday so you can execute a trade immediately a signal is given."
   ]
  },
  {
   "cell_type": "code",
   "execution_count": null,
   "metadata": {
    "pixiedust": {
     "displayParams": {}
    }
   },
   "outputs": [],
   "source": [
    "# Trade using a simple mean-reversion strategy\n",
    "def trade(stock, length):\n",
    "\n",
    "    temp_dict = {}\n",
    "    # If window length is 0, algorithm doesn't make sense, so exit\n",
    "    if length == 0:\n",
    "        return 0\n",
    "\n",
    "    # Compute rolling means and rolling standard deviation\n",
    "    #sma and lma are filters to prevent taking long or short positions against the longer term trend\n",
    "    rolling_window = stock.Adj_Close.rolling(window=length)\n",
    "    mu = rolling_window.mean()\n",
    "    sma = stock.Adj_Close.rolling(window=length*1).mean()\n",
    "    lma = stock.Adj_Close.rolling(window=length * 10).mean()\n",
    "    std = rolling_window.std()\n",
    "\n",
    "    #If you don't use a maximum position size the positions will keep on pyramidding.\n",
    "    #Set max_position to a high number (1000?) to disable this parameter\n",
    "    #Need to beware of unintended leverage\n",
    "    max_position = 1\n",
    "    percent_per_trade = 1.0\n",
    "\n",
    "    #Slippage and commission adjustment  - simply reduces equity by a percentage guess\n",
    "    # a setting of 1 means no slippage, a setting of 0.999 gives 0.1% slippage\n",
    "    slippage_adj = 1\n",
    "\n",
    "    # Compute the z-scores for each day using the historical data up to that day\n",
    "    zscores = (stock.Adj_Close - mu) / std\n",
    "\n",
    "    # Simulate trading\n",
    "    # Start with your chosen starting capital and no positions\n",
    "    money = 10000.00\n",
    "    position_count = 0\n",
    "\n",
    "    for i, row in enumerate(stock.itertuples(), 0):\n",
    "\n",
    "        #set up position size so that each position is a fixed position of your account equity\n",
    "        equity = money + (stock.Adj_Close[i] * position_count)\n",
    "        if equity > 0:\n",
    "            fixed_frac = (equity * percent_per_trade) / stock.Adj_Close[i]\n",
    "        else:\n",
    "            fixed_frac = 0\n",
    "        fixed_frac = int(round(fixed_frac))\n",
    "\n",
    "        #exit all positions if zscore flips from positive to negative or vice versa without going through\n",
    "        #the neutral zone\n",
    "        if i > 0:\n",
    "            if (zscores[i - 1] > 0.5\n",
    "                    and zscores[i] < -0.5) or (zscores[i - 1] < -0.5\n",
    "                                               and zscores[i] > 0.5):\n",
    "\n",
    "                if position_count > 0:\n",
    "                    money += position_count * stock.Adj_Close[i] * slippage_adj\n",
    "                elif position_count < 0:\n",
    "                    money += position_count * stock.Adj_Close[i] * (\n",
    "                        1 / slippage_adj)\n",
    "                position_count = 0\n",
    "\n",
    "        # Sell short if the z-score is > 1 and if the longer term trend is negative\n",
    "        if (zscores[i] > 1) & (position_count > max_position * -1) & (sma[i] <\n",
    "                                                                      lma[i]):\n",
    "\n",
    "            position_count -= fixed_frac\n",
    "            money += fixed_frac * stock.Adj_Close[i] * slippage_adj\n",
    "\n",
    "        # Buy long if the z-score is < 1 and the longer term trend is positive\n",
    "        elif zscores[i] < -1 and position_count < max_position and sma[i] > lma[i]:\n",
    "\n",
    "            position_count += fixed_frac\n",
    "            money -= fixed_frac * stock.Adj_Close[i] * (1 / slippage_adj)\n",
    "\n",
    "        # Clear positions if the z-score between -.5 and .5\n",
    "        elif abs(zscores[i]) < 0.5:\n",
    "            #money += position_count * stock.Adj_Close[i]\n",
    "            if position_count > 0:\n",
    "                money += position_count * stock.Adj_Close[i] * slippage_adj\n",
    "            elif position_count < 0:\n",
    "                money += position_count * stock.Adj_Close[i] * (\n",
    "                    1 / slippage_adj)\n",
    "            position_count = 0\n",
    "\n",
    "        #fill dictionary with the trading results.\n",
    "        temp_dict[stock.Date[i]] = [\n",
    "            stock.Adj_Open[i], stock.Adj_Close[i], mu[i], std[i], zscores[i],\n",
    "            money, position_count, fixed_frac, sma[i], lma[i]\n",
    "        ]\n",
    "    #create a dataframe to return for use in calculating and charting the trading results\n",
    "    pr = pd.DataFrame(data=temp_dict).T\n",
    "    pr.index.name = 'Date'\n",
    "    pr.index = pd.to_datetime(pr.index)\n",
    "    pr.columns = [\n",
    "        'Open', 'Close', 'mu', 'std', 'zscores', 'money', 'position_count',\n",
    "        'fixed_frac', 'sma', 'lma'\n",
    "    ]\n",
    "    pr['equity'] = pr.money + (pr.Close * pr.position_count)\n",
    "    #\n",
    "    return pr"
   ]
  },
  {
   "cell_type": "markdown",
   "metadata": {},
   "source": [
    "## The next cell calls the function. \n",
    "\n",
    "Experiment with different moving averages by altering the number in brackets.\n",
    "\n",
    "profit = trade(stock, moving_average) runs the back test with the entire price series\n",
    "profit = trade(stock_1, moving_average) runs the test using only the first third of the data and so forth through \n",
    "stock_2 and stock_3\n",
    "\n",
    "You will need to amend the function \"profit.to_csv\" to your own raletive or absolute file address"
   ]
  },
  {
   "cell_type": "code",
   "execution_count": null,
   "metadata": {
    "pixiedust": {
     "displayParams": {}
    }
   },
   "outputs": [],
   "source": [
    "moving_average=10\n",
    "profit = trade(stock, moving_average)\n",
    "profit.to_csv('mean_reversion_profit.csv')\n",
    "#profit.to_csv('../data/mean_reversion_profit.csv')"
   ]
  },
  {
   "cell_type": "markdown",
   "metadata": {},
   "source": [
    "## Inspect the reults data frame"
   ]
  },
  {
   "cell_type": "code",
   "execution_count": null,
   "metadata": {},
   "outputs": [],
   "source": [
    "#profit.head() , profit.tail()"
   ]
  },
  {
   "cell_type": "markdown",
   "metadata": {},
   "source": [
    "## Create a new dataframe \n",
    "\n",
    "which contains trhe equity curve as its only column to feed to FFN the stats library"
   ]
  },
  {
   "cell_type": "code",
   "execution_count": null,
   "metadata": {},
   "outputs": [],
   "source": [
    "series=profit[['equity']].copy()"
   ]
  },
  {
   "cell_type": "markdown",
   "metadata": {},
   "source": [
    "## Stats and Charts\n",
    "\n",
    "The following charts and stats are allproduced by the FFN Library"
   ]
  },
  {
   "cell_type": "code",
   "execution_count": null,
   "metadata": {},
   "outputs": [],
   "source": [
    "#stats = series.calc_stats()\n",
    "#stats.display()\n",
    "#stats.stats"
   ]
  },
  {
   "cell_type": "code",
   "execution_count": null,
   "metadata": {},
   "outputs": [],
   "source": [
    "#prices =series\n",
    "#ax = stats.prices.to_drawdown_series().plot(figsize=(15, 8),title='Drawdown')"
   ]
  },
  {
   "cell_type": "code",
   "execution_count": null,
   "metadata": {},
   "outputs": [],
   "source": [
    "#ax = prices.plot(logy=True,figsize=(15, 8),title='Equity Curve')"
   ]
  },
  {
   "cell_type": "code",
   "execution_count": null,
   "metadata": {},
   "outputs": [],
   "source": [
    "#profit['position_count'].diff().plot()\n",
    "#profit['position_count'].plot()\n"
   ]
  },
  {
   "cell_type": "code",
   "execution_count": null,
   "metadata": {},
   "outputs": [],
   "source": [
    "#stats.plot()\n",
    "#stats.plot_correlation()\n",
    "#st_disp = stats.stats\n"
   ]
  },
  {
   "cell_type": "markdown",
   "metadata": {},
   "source": [
    "## Output Telegram Bot files.\n"
   ]
  },
  {
   "cell_type": "code",
   "execution_count": null,
   "metadata": {},
   "outputs": [],
   "source": [
    "#perf = stats.stats\n"
   ]
  },
  {
   "cell_type": "code",
   "execution_count": null,
   "metadata": {},
   "outputs": [],
   "source": [
    "import sys, os, inspect\n",
    "from distutils.util import strtobool\n",
    "import logbook\n",
    "import pathlib as pl\n",
    "\n",
    "from pathlib import Path\n",
    "import pprint as pp\n",
    "\n",
    "def get_script_dir(follow_symlinks=True):\n",
    "    if getattr(sys, 'frozen', False): # py2exe, PyInstaller, cx_Freeze\n",
    "        path = os.path.abspath(sys.executable)\n",
    "    else:\n",
    "        path = inspect.getabsfile(get_script_dir)\n",
    "    if follow_symlinks:\n",
    "        path = os.path.realpath(path)\n",
    "    return os.path.dirname(path)\n",
    "\n",
    "path = get_script_dir()\n",
    "#LOCAL_BOT_LIVE_PATH=Path(path).parent / \"telegram\"\n",
    "LOCAL_BOT_LIVE_PATH = Path(path) / (Path(path).stem + \"_Bot\")\n",
    "sys.path.append(os.path.abspath(LOCAL_BOT_LIVE_PATH))\n",
    "\n",
    "pp.pprint(f'path={path} bot_path={LOCAL_BOT_LIVE_PATH}')\n",
    "\n",
    "# Write output exhaust to  Bot dir\n",
    "profit.to_csv(str(LOCAL_BOT_LIVE_PATH) + '/mr.csv')\n",
    "# SPY series. May need to be shifted down by one, like profit\n",
    "data.to_csv(str(LOCAL_BOT_LIVE_PATH) + '/spy.csv')"
   ]
  },
  {
   "cell_type": "code",
   "execution_count": null,
   "metadata": {},
   "outputs": [],
   "source": []
  }
 ],
 "metadata": {
  "celltoolbar": "Raw Cell Format",
  "kernelspec": {
   "display_name": "Python 3",
   "language": "python",
   "name": "python3"
  },
  "language_info": {
   "codemirror_mode": {
    "name": "ipython",
    "version": 3
   },
   "file_extension": ".py",
   "mimetype": "text/x-python",
   "name": "python",
   "nbconvert_exporter": "python",
   "pygments_lexer": "ipython3",
   "version": "3.6.7"
  }
 },
 "nbformat": 4,
 "nbformat_minor": 4
}
