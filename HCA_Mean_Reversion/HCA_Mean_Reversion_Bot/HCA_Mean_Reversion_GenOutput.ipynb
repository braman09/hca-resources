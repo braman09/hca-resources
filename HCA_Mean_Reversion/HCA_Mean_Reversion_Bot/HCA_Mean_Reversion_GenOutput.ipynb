{
 "cells": [
  {
   "cell_type": "code",
   "execution_count": 2,
   "id": "becoming-tender",
   "metadata": {},
   "outputs": [
    {
     "name": "stdout",
     "output_type": "stream",
     "text": [
      "hca_root_path = /home/hca-ws001/hca\n",
      "('path=/home/hca-ws001/hca/hca-resources/HCA_Mean_Reversion/HCA_Mean_Reversion_Bot '\n",
      " 'bot_path=/home/hca-ws001/hca/hca-resources/HCA_Mean_Reversion/HCA_Mean_Reversion_Bot')\n"
     ]
    }
   ],
   "source": [
    "import os\n",
    "hca_root_path = os.environ['HCA_ROOT']\n",
    "print(f\"hca_root_path = {hca_root_path}\")\n",
    "\n",
    "import subprocess\n",
    "import sys, os, inspect\n",
    "from distutils.util import strtobool\n",
    "import logbook\n",
    "import pathlib as pl\n",
    "import pandas as pd\n",
    "\n",
    "from pathlib import Path\n",
    "import pprint as pp\n",
    "\n",
    "def get_script_dir(follow_symlinks=True):\n",
    "    if getattr(sys, 'frozen', False): # py2exe, PyInstaller, cx_Freeze\n",
    "        path = os.path.abspath(sys.executable)\n",
    "    else:\n",
    "        path = inspect.getabsfile(get_script_dir)\n",
    "    if follow_symlinks:\n",
    "        path = os.path.realpath(path)\n",
    "    return os.path.dirname(path)\n",
    "\n",
    "path = get_script_dir()\n",
    "#LOCAL_BOT_LIVE_PATH=Path(path).parent / \"telegram\"\n",
    "LOCAL_BOT_LIVE_PATH = Path(path)\n",
    "#LOCAL_BOT_LIVE_PATH = Path(path) / (Path(path).stem + \"_Bot\")\n",
    "sys.path.append(os.path.abspath(LOCAL_BOT_LIVE_PATH))\n",
    "\n",
    "pp.pprint(f'path={path} bot_path={LOCAL_BOT_LIVE_PATH}')\n",
    "\n",
    "\n",
    "# Write output exhaust to  Bot dir\n",
    "profit = pd.read_csv(str(LOCAL_BOT_LIVE_PATH) + '/mr.csv')\n",
    "# SPY series. May need to be shifted down by one, like profit\n",
    "data = pd.read_csv(str(LOCAL_BOT_LIVE_PATH) + '/spy.csv')\n",
    "\n",
    "\n",
    "series=profit[['equity']].copy()\n",
    "\n",
    "\n"
   ]
  },
  {
   "cell_type": "code",
   "execution_count": 8,
   "id": "frank-lobby",
   "metadata": {},
   "outputs": [
    {
     "ename": "AttributeError",
     "evalue": "'DataFrame' object has no attribute 'to_mark_down'",
     "output_type": "error",
     "traceback": [
      "\u001b[0;31m---------------------------------------------------------------------------\u001b[0m",
      "\u001b[0;31mAttributeError\u001b[0m                            Traceback (most recent call last)",
      "\u001b[0;32m<ipython-input-8-f8ce1fae33d3>\u001b[0m in \u001b[0;36m<module>\u001b[0;34m\u001b[0m\n\u001b[1;32m      1\u001b[0m \u001b[0;31m#series\u001b[0m\u001b[0;34m\u001b[0m\u001b[0;34m\u001b[0m\u001b[0;34m\u001b[0m\u001b[0m\n\u001b[0;32m----> 2\u001b[0;31m \u001b[0mprofit\u001b[0m\u001b[0;34m[\u001b[0m\u001b[0;34m[\u001b[0m\u001b[0;34m'Date'\u001b[0m\u001b[0;34m,\u001b[0m\u001b[0;34m'Close'\u001b[0m\u001b[0;34m,\u001b[0m\u001b[0;34m'position_count'\u001b[0m\u001b[0;34m,\u001b[0m\u001b[0;34m'equity'\u001b[0m\u001b[0;34m]\u001b[0m\u001b[0;34m]\u001b[0m\u001b[0;34m.\u001b[0m\u001b[0mtail\u001b[0m\u001b[0;34m(\u001b[0m\u001b[0;34m)\u001b[0m\u001b[0;34m.\u001b[0m\u001b[0mto_mark_down\u001b[0m\u001b[0;34m(\u001b[0m\u001b[0;34m)\u001b[0m\u001b[0;34m\u001b[0m\u001b[0;34m\u001b[0m\u001b[0m\n\u001b[0m",
      "\u001b[0;32m/home/hca-r2-001/miniconda3/envs/hca/lib/python3.6/site-packages/pandas/core/generic.py\u001b[0m in \u001b[0;36m__getattr__\u001b[0;34m(self, name)\u001b[0m\n\u001b[1;32m   5139\u001b[0m             \u001b[0;32mif\u001b[0m \u001b[0mself\u001b[0m\u001b[0;34m.\u001b[0m\u001b[0m_info_axis\u001b[0m\u001b[0;34m.\u001b[0m\u001b[0m_can_hold_identifiers_and_holds_name\u001b[0m\u001b[0;34m(\u001b[0m\u001b[0mname\u001b[0m\u001b[0;34m)\u001b[0m\u001b[0;34m:\u001b[0m\u001b[0;34m\u001b[0m\u001b[0;34m\u001b[0m\u001b[0m\n\u001b[1;32m   5140\u001b[0m                 \u001b[0;32mreturn\u001b[0m \u001b[0mself\u001b[0m\u001b[0;34m[\u001b[0m\u001b[0mname\u001b[0m\u001b[0;34m]\u001b[0m\u001b[0;34m\u001b[0m\u001b[0;34m\u001b[0m\u001b[0m\n\u001b[0;32m-> 5141\u001b[0;31m             \u001b[0;32mreturn\u001b[0m \u001b[0mobject\u001b[0m\u001b[0;34m.\u001b[0m\u001b[0m__getattribute__\u001b[0m\u001b[0;34m(\u001b[0m\u001b[0mself\u001b[0m\u001b[0;34m,\u001b[0m \u001b[0mname\u001b[0m\u001b[0;34m)\u001b[0m\u001b[0;34m\u001b[0m\u001b[0;34m\u001b[0m\u001b[0m\n\u001b[0m\u001b[1;32m   5142\u001b[0m \u001b[0;34m\u001b[0m\u001b[0m\n\u001b[1;32m   5143\u001b[0m     \u001b[0;32mdef\u001b[0m \u001b[0m__setattr__\u001b[0m\u001b[0;34m(\u001b[0m\u001b[0mself\u001b[0m\u001b[0;34m,\u001b[0m \u001b[0mname\u001b[0m\u001b[0;34m:\u001b[0m \u001b[0mstr\u001b[0m\u001b[0;34m,\u001b[0m \u001b[0mvalue\u001b[0m\u001b[0;34m)\u001b[0m \u001b[0;34m->\u001b[0m \u001b[0;32mNone\u001b[0m\u001b[0;34m:\u001b[0m\u001b[0;34m\u001b[0m\u001b[0;34m\u001b[0m\u001b[0m\n",
      "\u001b[0;31mAttributeError\u001b[0m: 'DataFrame' object has no attribute 'to_mark_down'"
     ]
    }
   ],
   "source": [
    "#series\n",
    "profit[['Date','Close','position_count','equity']].tail().to_mark_down()\n"
   ]
  },
  {
   "cell_type": "code",
   "execution_count": null,
   "id": "productive-bride",
   "metadata": {},
   "outputs": [],
   "source": [
    "from IPython.core.display import display, HTML\n",
    "HTML_PATH = LOCAL_BOT_LIVE_PATH / 'perf.html'\n",
    "perf_html = perf.to_html()\n",
    "with open(HTML_PATH, 'w') as fo:\n",
    "    perf.to_html(fo)\n",
    "\n",
    "dir(LOCAL_BOT_LIVE_PATH.absolute)\n",
    "\n",
    "#stats.to_csv(str(LOCAL_BOT_LIVE_PATH) + '/stats.csv')\n",
    "df=perf\n",
    "import matplotlib.pyplot as plt\n",
    "import pandas as pd\n",
    "#pd.options.display.float_format = \"{:,.2f}\".format\n",
    "from pandas.plotting import table\n",
    "ax = plt.subplot(111, frame_on=False) # no visible frame\n",
    "ax.xaxis.set_visible(False)  # hide the x axis\n",
    "ax.yaxis.set_visible(False)  # hide the y axis\n",
    "df= df.round(3)\n",
    "#pd.options.display.float_format = lambda x : '{:.0f}'.format(x) if round(x,0) == x else '{:,.2f}'.format(x)\n",
    "table(ax, df)  # where df is your data frame\n",
    "plt.savefig(str(LOCAL_BOT_LIVE_PATH) + \"/stats.png\")\n",
    "\n"
   ]
  }
 ],
 "metadata": {
  "kernelspec": {
   "display_name": "Python 3",
   "language": "python",
   "name": "python3"
  },
  "language_info": {
   "codemirror_mode": {
    "name": "ipython",
    "version": 3
   },
   "file_extension": ".py",
   "mimetype": "text/x-python",
   "name": "python",
   "nbconvert_exporter": "python",
   "pygments_lexer": "ipython3",
   "version": "3.6.7"
  }
 },
 "nbformat": 4,
 "nbformat_minor": 5
}
