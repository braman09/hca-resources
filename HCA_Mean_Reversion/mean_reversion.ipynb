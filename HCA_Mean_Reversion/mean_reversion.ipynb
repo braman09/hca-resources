{
 "cells": [
  {
   "cell_type": "markdown",
   "metadata": {},
   "source": [
    "# A simple Mean Reversion System\n",
    "Most of the following imports are mainstream, well known Python libraries.\n",
    "\n",
    "alpha_vantage and fix_yahoo are specialist libraries to download stock data free.  To use alpha_vantage you will need to obtain your own key from the providers https://www.alphavantage.co/\n",
    "\n",
    "ffn is a specialist library to report trading systems statistics"
   ]
  },
  {
   "cell_type": "code",
   "execution_count": 2,
   "metadata": {},
   "outputs": [],
   "source": [
    "import numpy as np\n",
    "import matplotlib.pyplot as plt\n",
    "from matplotlib.pyplot import figure\n",
    "%matplotlib notebook\n",
    "import pandas as pd\n",
    "from alpha_vantage.timeseries import TimeSeries\n",
    "# import fix_yahoo_finance as yf\n",
    "#because the is_list_like is moved to pandas.api.types\n",
    "pd.core.common.is_list_like = pd.api.types.is_list_like\n",
    "#import ffn\n",
    "#import pixiedust"
   ]
  },
  {
   "cell_type": "markdown",
   "metadata": {},
   "source": [
    "## The following two cells can be used to download stock data and then blanked out again once the data has been saved to csv.\n",
    "\n"
   ]
  },
  {
   "cell_type": "code",
   "execution_count": 9,
   "metadata": {},
   "outputs": [
    {
     "data": {
      "text/html": [
       "<div>\n",
       "<style scoped>\n",
       "    .dataframe tbody tr th:only-of-type {\n",
       "        vertical-align: middle;\n",
       "    }\n",
       "\n",
       "    .dataframe tbody tr th {\n",
       "        vertical-align: top;\n",
       "    }\n",
       "\n",
       "    .dataframe thead th {\n",
       "        text-align: right;\n",
       "    }\n",
       "</style>\n",
       "<table border=\"1\" class=\"dataframe\">\n",
       "  <thead>\n",
       "    <tr style=\"text-align: right;\">\n",
       "      <th></th>\n",
       "      <th>1. open</th>\n",
       "      <th>2. high</th>\n",
       "      <th>3. low</th>\n",
       "      <th>4. close</th>\n",
       "      <th>5. adjusted close</th>\n",
       "      <th>6. volume</th>\n",
       "      <th>7. dividend amount</th>\n",
       "      <th>8. split coefficient</th>\n",
       "    </tr>\n",
       "    <tr>\n",
       "      <th>date</th>\n",
       "      <th></th>\n",
       "      <th></th>\n",
       "      <th></th>\n",
       "      <th></th>\n",
       "      <th></th>\n",
       "      <th></th>\n",
       "      <th></th>\n",
       "      <th></th>\n",
       "    </tr>\n",
       "  </thead>\n",
       "  <tbody>\n",
       "    <tr>\n",
       "      <th>2020-11-06</th>\n",
       "      <td>349.93</td>\n",
       "      <td>351.5100</td>\n",
       "      <td>347.65</td>\n",
       "      <td>350.16</td>\n",
       "      <td>347.527635</td>\n",
       "      <td>74972973.0</td>\n",
       "      <td>0.0</td>\n",
       "      <td>1.0</td>\n",
       "    </tr>\n",
       "    <tr>\n",
       "      <th>2020-11-09</th>\n",
       "      <td>363.97</td>\n",
       "      <td>364.3800</td>\n",
       "      <td>354.06</td>\n",
       "      <td>354.56</td>\n",
       "      <td>351.894557</td>\n",
       "      <td>172304203.0</td>\n",
       "      <td>0.0</td>\n",
       "      <td>1.0</td>\n",
       "    </tr>\n",
       "    <tr>\n",
       "      <th>2020-11-10</th>\n",
       "      <td>353.49</td>\n",
       "      <td>355.1800</td>\n",
       "      <td>350.51</td>\n",
       "      <td>354.04</td>\n",
       "      <td>351.378466</td>\n",
       "      <td>85552022.0</td>\n",
       "      <td>0.0</td>\n",
       "      <td>1.0</td>\n",
       "    </tr>\n",
       "    <tr>\n",
       "      <th>2020-11-11</th>\n",
       "      <td>356.40</td>\n",
       "      <td>357.5600</td>\n",
       "      <td>355.06</td>\n",
       "      <td>356.67</td>\n",
       "      <td>353.988695</td>\n",
       "      <td>58649048.0</td>\n",
       "      <td>0.0</td>\n",
       "      <td>1.0</td>\n",
       "    </tr>\n",
       "    <tr>\n",
       "      <th>2020-11-12</th>\n",
       "      <td>355.58</td>\n",
       "      <td>356.7182</td>\n",
       "      <td>351.26</td>\n",
       "      <td>353.21</td>\n",
       "      <td>350.554706</td>\n",
       "      <td>68118563.0</td>\n",
       "      <td>0.0</td>\n",
       "      <td>1.0</td>\n",
       "    </tr>\n",
       "  </tbody>\n",
       "</table>\n",
       "</div>"
      ],
      "text/plain": [
       "            1. open   2. high  3. low  4. close  5. adjusted close  \\\n",
       "date                                                                 \n",
       "2020-11-06   349.93  351.5100  347.65    350.16         347.527635   \n",
       "2020-11-09   363.97  364.3800  354.06    354.56         351.894557   \n",
       "2020-11-10   353.49  355.1800  350.51    354.04         351.378466   \n",
       "2020-11-11   356.40  357.5600  355.06    356.67         353.988695   \n",
       "2020-11-12   355.58  356.7182  351.26    353.21         350.554706   \n",
       "\n",
       "              6. volume  7. dividend amount  8. split coefficient  \n",
       "date                                                               \n",
       "2020-11-06   74972973.0                 0.0                   1.0  \n",
       "2020-11-09  172304203.0                 0.0                   1.0  \n",
       "2020-11-10   85552022.0                 0.0                   1.0  \n",
       "2020-11-11   58649048.0                 0.0                   1.0  \n",
       "2020-11-12   68118563.0                 0.0                   1.0  "
      ]
     },
     "execution_count": 9,
     "metadata": {},
     "output_type": "execute_result"
    }
   ],
   "source": [
    "ts = TimeSeries(key='HK7Q1K6I2EIFKTVL', output_format='pandas')\n",
    "data, meta_data = ts.get_daily_adjusted(symbol='SPY')\n",
    "#data, meta_data = ts.get_daily_adjusted(symbol='SPY', outputsize='full')\n",
    "\n",
    "#data = yf.download(\"SPY\", start=\"2019-01-01\", end=\"2021-03-12\")\n",
    "data.head()"
   ]
  },
  {
   "cell_type": "code",
   "execution_count": 8,
   "metadata": {},
   "outputs": [
    {
     "data": {
      "text/plain": [
       "['_ALPHA_VANTAGE_API_URL',\n",
       " '_ALPHA_VANTAGE_DIGITAL_CURRENCY_LIST',\n",
       " '_ALPHA_VANTAGE_MATH_MAP',\n",
       " '_RAPIDAPI_URL',\n",
       " '__class__',\n",
       " '__delattr__',\n",
       " '__dict__',\n",
       " '__dir__',\n",
       " '__doc__',\n",
       " '__eq__',\n",
       " '__format__',\n",
       " '__ge__',\n",
       " '__getattribute__',\n",
       " '__gt__',\n",
       " '__hash__',\n",
       " '__init__',\n",
       " '__init_subclass__',\n",
       " '__le__',\n",
       " '__lt__',\n",
       " '__module__',\n",
       " '__ne__',\n",
       " '__new__',\n",
       " '__reduce__',\n",
       " '__reduce_ex__',\n",
       " '__repr__',\n",
       " '__setattr__',\n",
       " '__sizeof__',\n",
       " '__str__',\n",
       " '__subclasshook__',\n",
       " '__weakref__',\n",
       " '_call_api_on_func',\n",
       " '_handle_api_call',\n",
       " '_output_format',\n",
       " '_output_format_sector',\n",
       " 'get_daily',\n",
       " 'get_daily_adjusted',\n",
       " 'get_intraday',\n",
       " 'get_intraday_extended',\n",
       " 'get_monthly',\n",
       " 'get_monthly_adjusted',\n",
       " 'get_quote_endpoint',\n",
       " 'get_symbol_search',\n",
       " 'get_weekly',\n",
       " 'get_weekly_adjusted',\n",
       " 'map_to_matype',\n",
       " 'set_proxy']"
      ]
     },
     "execution_count": 8,
     "metadata": {},
     "output_type": "execute_result"
    }
   ],
   "source": [
    "dir(TimeSeries)\n"
   ]
  },
  {
   "cell_type": "code",
   "execution_count": 6,
   "metadata": {},
   "outputs": [
    {
     "name": "stdout",
     "output_type": "stream",
     "text": [
      "<class 'pandas.core.frame.DataFrame'>\n",
      "DatetimeIndex: 5389 entries, 1999-11-01 to 2021-04-01\n",
      "Data columns (total 8 columns):\n",
      "1. open                 5389 non-null float64\n",
      "2. high                 5389 non-null float64\n",
      "3. low                  5389 non-null float64\n",
      "4. close                5389 non-null float64\n",
      "5. adjusted close       5389 non-null float64\n",
      "6. volume               5389 non-null float64\n",
      "7. dividend amount      5389 non-null float64\n",
      "8. split coefficient    5389 non-null float64\n",
      "dtypes: float64(8)\n",
      "memory usage: 378.9 KB\n"
     ]
    }
   ],
   "source": [
    "data.info()"
   ]
  },
  {
   "cell_type": "markdown",
   "metadata": {},
   "source": [
    "## The following line is to create split adjusted Open prices since only the adjusted close is provided:\n",
    "\n",
    "data['Adj_Open']=data.Open*(data.Adj_Close/data.Close)\n",
    "\n",
    "Useful if you want to test taking signal from previous close and trading at the next open."
   ]
  },
  {
   "cell_type": "code",
   "execution_count": 3,
   "metadata": {},
   "outputs": [
    {
     "data": {
      "text/html": [
       "<div>\n",
       "<style scoped>\n",
       "    .dataframe tbody tr th:only-of-type {\n",
       "        vertical-align: middle;\n",
       "    }\n",
       "\n",
       "    .dataframe tbody tr th {\n",
       "        vertical-align: top;\n",
       "    }\n",
       "\n",
       "    .dataframe thead th {\n",
       "        text-align: right;\n",
       "    }\n",
       "</style>\n",
       "<table border=\"1\" class=\"dataframe\">\n",
       "  <thead>\n",
       "    <tr style=\"text-align: right;\">\n",
       "      <th></th>\n",
       "      <th>Open</th>\n",
       "      <th>High</th>\n",
       "      <th>Low</th>\n",
       "      <th>Close</th>\n",
       "      <th>Adj_Close</th>\n",
       "      <th>Volume</th>\n",
       "      <th>Adj_Open</th>\n",
       "    </tr>\n",
       "    <tr>\n",
       "      <th>Date</th>\n",
       "      <th></th>\n",
       "      <th></th>\n",
       "      <th></th>\n",
       "      <th></th>\n",
       "      <th></th>\n",
       "      <th></th>\n",
       "      <th></th>\n",
       "    </tr>\n",
       "  </thead>\n",
       "  <tbody>\n",
       "    <tr>\n",
       "      <th>2019-01-02</th>\n",
       "      <td>245.98</td>\n",
       "      <td>251.21</td>\n",
       "      <td>245.95</td>\n",
       "      <td>250.18</td>\n",
       "      <td>241.03</td>\n",
       "      <td>126925200</td>\n",
       "      <td>236.983609</td>\n",
       "    </tr>\n",
       "    <tr>\n",
       "      <th>2019-01-03</th>\n",
       "      <td>248.23</td>\n",
       "      <td>248.57</td>\n",
       "      <td>243.67</td>\n",
       "      <td>244.21</td>\n",
       "      <td>235.28</td>\n",
       "      <td>144140700</td>\n",
       "      <td>239.153001</td>\n",
       "    </tr>\n",
       "    <tr>\n",
       "      <th>2019-01-04</th>\n",
       "      <td>247.59</td>\n",
       "      <td>253.11</td>\n",
       "      <td>247.17</td>\n",
       "      <td>252.39</td>\n",
       "      <td>243.16</td>\n",
       "      <td>142628800</td>\n",
       "      <td>238.535538</td>\n",
       "    </tr>\n",
       "    <tr>\n",
       "      <th>2019-01-07</th>\n",
       "      <td>252.69</td>\n",
       "      <td>255.95</td>\n",
       "      <td>251.69</td>\n",
       "      <td>254.38</td>\n",
       "      <td>245.08</td>\n",
       "      <td>103139100</td>\n",
       "      <td>243.451786</td>\n",
       "    </tr>\n",
       "    <tr>\n",
       "      <th>2019-01-08</th>\n",
       "      <td>256.82</td>\n",
       "      <td>257.31</td>\n",
       "      <td>254.00</td>\n",
       "      <td>256.77</td>\n",
       "      <td>247.38</td>\n",
       "      <td>102512600</td>\n",
       "      <td>247.428172</td>\n",
       "    </tr>\n",
       "  </tbody>\n",
       "</table>\n",
       "</div>"
      ],
      "text/plain": [
       "              Open    High     Low   Close  Adj_Close     Volume    Adj_Open\n",
       "Date                                                                        \n",
       "2019-01-02  245.98  251.21  245.95  250.18     241.03  126925200  236.983609\n",
       "2019-01-03  248.23  248.57  243.67  244.21     235.28  144140700  239.153001\n",
       "2019-01-04  247.59  253.11  247.17  252.39     243.16  142628800  238.535538\n",
       "2019-01-07  252.69  255.95  251.69  254.38     245.08  103139100  243.451786\n",
       "2019-01-08  256.82  257.31  254.00  256.77     247.38  102512600  247.428172"
      ]
     },
     "execution_count": 3,
     "metadata": {},
     "output_type": "execute_result"
    }
   ],
   "source": [
    "data.rename(columns={'Adj Close': 'Adj_Close'}, inplace=True)\n",
    "data['Adj_Open']=data.Open*(data.Adj_Close/data.Close)\n",
    "data.to_csv('spy.csv')\n",
    "#data.to_csv('../data/Stocks/spy.csv')\n",
    "data.head()"
   ]
  },
  {
   "cell_type": "markdown",
   "metadata": {},
   "source": [
    "Chart the data to check there are no obvious problems with the split adjusted data."
   ]
  },
  {
   "cell_type": "code",
   "execution_count": 4,
   "metadata": {
    "scrolled": true
   },
   "outputs": [
    {
     "data": {
      "image/png": "[encoded data removed]",
      "text/plain": [
       "<Figure size 480x320 with 1 Axes>"
      ]
     },
     "metadata": {},
     "output_type": "display_data"
    }
   ],
   "source": [
    "pricing = pd.read_csv(\n",
    "    'spy.csv',\n",
    "#    '../data/Stocks/spy.csv',\n",
    "    header=0,\n",
    "    parse_dates=[\"Date\"],\n",
    "    #index_col=0,\n",
    "    usecols=['Date','Adj_Open', 'Adj_Close'])\n",
    "figure(num=None, figsize=(6, 4), dpi=80, facecolor='w', edgecolor='k')\n",
    "plt.plot(pricing.Adj_Open, label='Spy Open')\n",
    "plt.plot(pricing.Adj_Close, label='Spy Close')\n",
    "plt.xlabel('Date')\n",
    "plt.ylabel('Price')\n",
    "plt.legend();"
   ]
  },
  {
   "cell_type": "markdown",
   "metadata": {},
   "source": [
    "## Visual inspection of the DataFrame. \n",
    "\n",
    "Adjust to see wider and different selection of rows.  e.g pricing.tail(10) shows \n",
    "the final ten rows of data. See 10 Minutes to Pandas https://pandas.pydata.org/pandas-docs/stable/10min.html \n",
    "or the Pandas Cheat Sheet https://pandas.pydata.org/Pandas_Cheat_Sheet.pdf"
   ]
  },
  {
   "cell_type": "code",
   "execution_count": 5,
   "metadata": {},
   "outputs": [
    {
     "data": {
      "text/plain": [
       "(        Date  Adj_Close    Adj_Open\n",
       " 0 2019-01-02     241.03  236.983609\n",
       " 1 2019-01-03     235.28  239.153001\n",
       " 2 2019-01-04     243.16  238.535538\n",
       " 3 2019-01-07     245.08  243.451786\n",
       " 4 2019-01-08     247.38  247.428172,           Date  Adj_Close  Adj_Open\n",
       " 547 2021-03-05     383.63    380.46\n",
       " 548 2021-03-08     381.72    384.66\n",
       " 549 2021-03-09     387.17    385.85\n",
       " 550 2021-03-10     389.58    389.69\n",
       " 551 2021-03-11     393.53    392.23)"
      ]
     },
     "execution_count": 5,
     "metadata": {},
     "output_type": "execute_result"
    }
   ],
   "source": [
    "pricing.head(),pricing.tail()"
   ]
  },
  {
   "cell_type": "markdown",
   "metadata": {},
   "source": [
    "## Shift the Adjusted Close down one row \n",
    "\n",
    "so that it aligns with the next day's Adjusted Open.  That way we can calculate the signals using the previous day's Close and enter the trade on the next day's Open"
   ]
  },
  {
   "cell_type": "code",
   "execution_count": 6,
   "metadata": {},
   "outputs": [
    {
     "data": {
      "text/html": [
       "<div>\n",
       "<style scoped>\n",
       "    .dataframe tbody tr th:only-of-type {\n",
       "        vertical-align: middle;\n",
       "    }\n",
       "\n",
       "    .dataframe tbody tr th {\n",
       "        vertical-align: top;\n",
       "    }\n",
       "\n",
       "    .dataframe thead th {\n",
       "        text-align: right;\n",
       "    }\n",
       "</style>\n",
       "<table border=\"1\" class=\"dataframe\">\n",
       "  <thead>\n",
       "    <tr style=\"text-align: right;\">\n",
       "      <th></th>\n",
       "      <th>Date</th>\n",
       "      <th>Adj_Close</th>\n",
       "      <th>Adj_Open</th>\n",
       "    </tr>\n",
       "  </thead>\n",
       "  <tbody>\n",
       "    <tr>\n",
       "      <th>547</th>\n",
       "      <td>2021-03-05</td>\n",
       "      <td>376.70</td>\n",
       "      <td>380.46</td>\n",
       "    </tr>\n",
       "    <tr>\n",
       "      <th>548</th>\n",
       "      <td>2021-03-08</td>\n",
       "      <td>383.63</td>\n",
       "      <td>384.66</td>\n",
       "    </tr>\n",
       "    <tr>\n",
       "      <th>549</th>\n",
       "      <td>2021-03-09</td>\n",
       "      <td>381.72</td>\n",
       "      <td>385.85</td>\n",
       "    </tr>\n",
       "    <tr>\n",
       "      <th>550</th>\n",
       "      <td>2021-03-10</td>\n",
       "      <td>387.17</td>\n",
       "      <td>389.69</td>\n",
       "    </tr>\n",
       "    <tr>\n",
       "      <th>551</th>\n",
       "      <td>2021-03-11</td>\n",
       "      <td>389.58</td>\n",
       "      <td>392.23</td>\n",
       "    </tr>\n",
       "  </tbody>\n",
       "</table>\n",
       "</div>"
      ],
      "text/plain": [
       "          Date  Adj_Close  Adj_Open\n",
       "547 2021-03-05     376.70    380.46\n",
       "548 2021-03-08     383.63    384.66\n",
       "549 2021-03-09     381.72    385.85\n",
       "550 2021-03-10     387.17    389.69\n",
       "551 2021-03-11     389.58    392.23"
      ]
     },
     "execution_count": 6,
     "metadata": {},
     "output_type": "execute_result"
    }
   ],
   "source": [
    "stock=pricing.copy()\n",
    "stock.Adj_Close=stock.Adj_Close.shift(1)\n",
    "\n",
    "stock.tail()"
   ]
  },
  {
   "cell_type": "markdown",
   "metadata": {},
   "source": [
    "## Create three or more separate blocks of data for testing. \n",
    "\n",
    "Reserve one of these for out of sample testing."
   ]
  },
  {
   "cell_type": "code",
   "execution_count": 7,
   "metadata": {},
   "outputs": [
    {
     "data": {
      "text/html": [
       "<div>\n",
       "<style scoped>\n",
       "    .dataframe tbody tr th:only-of-type {\n",
       "        vertical-align: middle;\n",
       "    }\n",
       "\n",
       "    .dataframe tbody tr th {\n",
       "        vertical-align: top;\n",
       "    }\n",
       "\n",
       "    .dataframe thead th {\n",
       "        text-align: right;\n",
       "    }\n",
       "</style>\n",
       "<table border=\"1\" class=\"dataframe\">\n",
       "  <thead>\n",
       "    <tr style=\"text-align: right;\">\n",
       "      <th></th>\n",
       "      <th>Date</th>\n",
       "      <th>Adj_Close</th>\n",
       "      <th>Adj_Open</th>\n",
       "    </tr>\n",
       "  </thead>\n",
       "  <tbody>\n",
       "  </tbody>\n",
       "</table>\n",
       "</div>"
      ],
      "text/plain": [
       "Empty DataFrame\n",
       "Columns: [Date, Adj_Close, Adj_Open]\n",
       "Index: []"
      ]
     },
     "execution_count": 7,
     "metadata": {},
     "output_type": "execute_result"
    }
   ],
   "source": [
    "stock_1=stock.iloc[0:2170].copy()\n",
    "stock_2=stock.iloc[2170:4342].copy().reset_index(drop=True)\n",
    "stock_3=stock.iloc[4342:6513].copy().reset_index(drop=True) \n",
    "stock_2.head()"
   ]
  },
  {
   "cell_type": "markdown",
   "metadata": {},
   "source": [
    "## Here is the code for the function which loops through the stock data and executes the trades.  \n",
    "\n",
    "You can experiment with different parameters such as changing the maximum position size or starting capital.\n",
    "\n",
    "Experiment with changing references:\n",
    "\n",
    "1.from both trading and signal generation at the Close; to \n",
    "\n",
    "2.signal generation at the Close but trading at the next Open. \n",
    "\n",
    "You will not be happy with the result suggesting you may need to automate trading to generate signals and trade intraday so you can execute a trade immediately a signal is given."
   ]
  },
  {
   "cell_type": "code",
   "execution_count": 8,
   "metadata": {
    "pixiedust": {
     "displayParams": {}
    }
   },
   "outputs": [],
   "source": [
    "# Trade using a simple mean-reversion strategy\n",
    "def trade(stock, length):\n",
    "\n",
    "    temp_dict = {}\n",
    "    # If window length is 0, algorithm doesn't make sense, so exit\n",
    "    if length == 0:\n",
    "        return 0\n",
    "\n",
    "    # Compute rolling means and rolling standard deviation\n",
    "    #sma and lma are filters to prevent taking long or short positions against the longer term trend\n",
    "    rolling_window = stock.Adj_Close.rolling(window=length)\n",
    "    mu = rolling_window.mean()\n",
    "    sma = stock.Adj_Close.rolling(window=length*1).mean()\n",
    "    lma = stock.Adj_Close.rolling(window=length * 10).mean()\n",
    "    std = rolling_window.std()\n",
    "\n",
    "    #If you don't use a maximum position size the positions will keep on pyramidding.\n",
    "    #Set max_position to a high number (1000?) to disable this parameter\n",
    "    #Need to beware of unintended leverage\n",
    "    max_position = 1\n",
    "    percent_per_trade = 1.0\n",
    "\n",
    "    #Slippage and commission adjustment  - simply reduces equity by a percentage guess\n",
    "    # a setting of 1 means no slippage, a setting of 0.999 gives 0.1% slippage\n",
    "    slippage_adj = 1\n",
    "\n",
    "    # Compute the z-scores for each day using the historical data up to that day\n",
    "    zscores = (stock.Adj_Close - mu) / std\n",
    "\n",
    "    # Simulate trading\n",
    "    # Start with your chosen starting capital and no positions\n",
    "    money = 10000.00\n",
    "    position_count = 0\n",
    "\n",
    "    for i, row in enumerate(stock.itertuples(), 0):\n",
    "\n",
    "        #set up position size so that each position is a fixed position of your account equity\n",
    "        equity = money + (stock.Adj_Close[i] * position_count)\n",
    "        if equity > 0:\n",
    "            fixed_frac = (equity * percent_per_trade) / stock.Adj_Close[i]\n",
    "        else:\n",
    "            fixed_frac = 0\n",
    "        fixed_frac = int(round(fixed_frac))\n",
    "\n",
    "        #exit all positions if zscore flips from positive to negative or vice versa without going through\n",
    "        #the neutral zone\n",
    "        if i > 0:\n",
    "            if (zscores[i - 1] > 0.5\n",
    "                    and zscores[i] < -0.5) or (zscores[i - 1] < -0.5\n",
    "                                               and zscores[i] > 0.5):\n",
    "\n",
    "                if position_count > 0:\n",
    "                    money += position_count * stock.Adj_Close[i] * slippage_adj\n",
    "                elif position_count < 0:\n",
    "                    money += position_count * stock.Adj_Close[i] * (\n",
    "                        1 / slippage_adj)\n",
    "                position_count = 0\n",
    "\n",
    "        # Sell short if the z-score is > 1 and if the longer term trend is negative\n",
    "        if (zscores[i] > 1) & (position_count > max_position * -1) & (sma[i] <\n",
    "                                                                      lma[i]):\n",
    "\n",
    "            position_count -= fixed_frac\n",
    "            money += fixed_frac * stock.Adj_Close[i] * slippage_adj\n",
    "\n",
    "        # Buy long if the z-score is < 1 and the longer term trend is positive\n",
    "        elif zscores[i] < -1 and position_count < max_position and sma[i] > lma[i]:\n",
    "\n",
    "            position_count += fixed_frac\n",
    "            money -= fixed_frac * stock.Adj_Close[i] * (1 / slippage_adj)\n",
    "\n",
    "        # Clear positions if the z-score between -.5 and .5\n",
    "        elif abs(zscores[i]) < 0.5:\n",
    "            #money += position_count * stock.Adj_Close[i]\n",
    "            if position_count > 0:\n",
    "                money += position_count * stock.Adj_Close[i] * slippage_adj\n",
    "            elif position_count < 0:\n",
    "                money += position_count * stock.Adj_Close[i] * (\n",
    "                    1 / slippage_adj)\n",
    "            position_count = 0\n",
    "\n",
    "        #fill dictionary with the trading results.\n",
    "        temp_dict[stock.Date[i]] = [\n",
    "            stock.Adj_Open[i], stock.Adj_Close[i], mu[i], std[i], zscores[i],\n",
    "            money, position_count, fixed_frac, sma[i], lma[i]\n",
    "        ]\n",
    "    #create a dataframe to return for use in calculating and charting the trading results\n",
    "    pr = pd.DataFrame(data=temp_dict).T\n",
    "    pr.index.name = 'Date'\n",
    "    pr.index = pd.to_datetime(pr.index)\n",
    "    pr.columns = [\n",
    "        'Open', 'Close', 'mu', 'std', 'zscores', 'money', 'position_count',\n",
    "        'fixed_frac', 'sma', 'lma'\n",
    "    ]\n",
    "    pr['equity'] = pr.money + (pr.Close * pr.position_count)\n",
    "    #\n",
    "    return pr"
   ]
  },
  {
   "cell_type": "markdown",
   "metadata": {},
   "source": [
    "## The next cell calls the function. \n",
    "\n",
    "Experiment with different moving averages by altering the number in brackets.\n",
    "\n",
    "profit = trade(stock, moving_average) runs the back test with the entire price series\n",
    "profit = trade(stock_1, moving_average) runs the test using only the first third of the data and so forth through \n",
    "stock_2 and stock_3\n",
    "\n",
    "You will need to amend the function \"profit.to_csv\" to your own raletive or absolute file address"
   ]
  },
  {
   "cell_type": "code",
   "execution_count": 9,
   "metadata": {
    "pixiedust": {
     "displayParams": {}
    }
   },
   "outputs": [],
   "source": [
    "moving_average=10\n",
    "profit = trade(stock, moving_average)\n",
    "profit.to_csv('mean_reversion_profit.csv')\n",
    "#profit.to_csv('../data/mean_reversion_profit.csv')"
   ]
  },
  {
   "cell_type": "markdown",
   "metadata": {},
   "source": [
    "## Inspect the reults data frame"
   ]
  },
  {
   "cell_type": "code",
   "execution_count": 10,
   "metadata": {},
   "outputs": [
    {
     "data": {
      "text/plain": [
       "(                  Open   Close  mu  std  zscores    money  position_count  \\\n",
       " Date                                                                        \n",
       " 2019-01-02  236.983609     NaN NaN  NaN      NaN  10000.0             0.0   \n",
       " 2019-01-03  239.153001  241.03 NaN  NaN      NaN  10000.0             0.0   \n",
       " 2019-01-04  238.535538  235.28 NaN  NaN      NaN  10000.0             0.0   \n",
       " 2019-01-07  243.451786  243.16 NaN  NaN      NaN  10000.0             0.0   \n",
       " 2019-01-08  247.428172  245.08 NaN  NaN      NaN  10000.0             0.0   \n",
       " \n",
       "             fixed_frac  sma  lma   equity  \n",
       " Date                                       \n",
       " 2019-01-02         0.0  NaN  NaN      NaN  \n",
       " 2019-01-03        41.0  NaN  NaN  10000.0  \n",
       " 2019-01-04        43.0  NaN  NaN  10000.0  \n",
       " 2019-01-07        41.0  NaN  NaN  10000.0  \n",
       " 2019-01-08        41.0  NaN  NaN  10000.0  ,\n",
       "               Open   Close       mu       std   zscores     money  \\\n",
       " Date                                                                \n",
       " 2021-03-05  380.46  376.70  385.326  4.878010 -1.768344   -110.34   \n",
       " 2021-03-08  384.66  383.63  384.686  4.604438 -0.229344  11782.19   \n",
       " 2021-03-09  385.85  381.72  384.155  4.610265 -0.528169  11782.19   \n",
       " 2021-03-10  389.69  387.17  384.122  4.584771  0.664810  11782.19   \n",
       " 2021-03-11  392.23  389.58  383.903  4.216362  1.346421  11782.19   \n",
       " \n",
       "             position_count  fixed_frac      sma       lma    equity  \n",
       " Date                                                                 \n",
       " 2021-03-05            31.0        31.0  385.326  366.8347  11567.36  \n",
       " 2021-03-08             0.0        31.0  384.686  367.2172  11782.19  \n",
       " 2021-03-09             0.0        31.0  384.155  367.5251  11782.19  \n",
       " 2021-03-10             0.0        30.0  384.122  367.9104  11782.19  \n",
       " 2021-03-11             0.0        30.0  383.903  368.3417  11782.19  )"
      ]
     },
     "execution_count": 10,
     "metadata": {},
     "output_type": "execute_result"
    }
   ],
   "source": [
    "profit.head() , profit.tail()"
   ]
  },
  {
   "cell_type": "markdown",
   "metadata": {},
   "source": [
    "## Create a new dataframe \n",
    "\n",
    "which contains trhe equity curve as its only column to feed to FFN the stats library"
   ]
  },
  {
   "cell_type": "code",
   "execution_count": 11,
   "metadata": {},
   "outputs": [],
   "source": [
    "series=profit[['equity']].copy()"
   ]
  },
  {
   "cell_type": "markdown",
   "metadata": {},
   "source": [
    "## Stats and Charts\n",
    "\n",
    "The following charts and stats are allproduced by the FFN Library"
   ]
  },
  {
   "cell_type": "code",
   "execution_count": 12,
   "metadata": {},
   "outputs": [
    {
     "name": "stdout",
     "output_type": "stream",
     "text": [
      "Stat                 equity\n",
      "-------------------  ----------\n",
      "Start                2019-01-03\n",
      "End                  2021-03-11\n",
      "Risk-free rate       0.00%\n",
      "\n",
      "Total Return         17.82%\n",
      "Daily Sharpe         0.63\n",
      "Daily Sortino        0.97\n",
      "CAGR                 7.80%\n",
      "Max Drawdown         -11.27%\n",
      "Calmar Ratio         0.69\n",
      "\n",
      "MTD                  2.49%\n",
      "3m                   7.14%\n",
      "6m                   8.39%\n",
      "YTD                  5.72%\n",
      "1Y                   17.45%\n",
      "3Y (ann.)            7.80%\n",
      "5Y (ann.)            -\n",
      "10Y (ann.)           -\n",
      "Since Incep. (ann.)  7.80%\n",
      "\n",
      "Daily Sharpe         0.63\n",
      "Daily Sortino        0.97\n",
      "Daily Mean (ann.)    8.41%\n",
      "Daily Vol (ann.)     13.44%\n",
      "Daily Skew           0.77\n",
      "Daily Kurt           16.50\n",
      "Best Day             6.89%\n",
      "Worst Day            -4.54%\n",
      "\n",
      "Monthly Sharpe       0.88\n",
      "Monthly Sortino      1.31\n",
      "Monthly Mean (ann.)  8.00%\n",
      "Monthly Vol (ann.)   9.06%\n",
      "Monthly Skew         -1.43\n",
      "Monthly Kurt         7.32\n",
      "Best Month           6.48%\n",
      "Worst Month          -8.87%\n",
      "\n",
      "Yearly Sharpe        4.39\n",
      "Yearly Sortino       inf\n",
      "Yearly Mean          6.82%\n",
      "Yearly Vol           1.55%\n",
      "Yearly Skew          -\n",
      "Yearly Kurt          -\n",
      "Best Year            7.92%\n",
      "Worst Year           5.72%\n",
      "\n",
      "Avg. Drawdown        -3.97%\n",
      "Avg. Drawdown Days   35.30\n",
      "Avg. Up Month        1.75%\n",
      "Avg. Down Month      -1.39%\n",
      "Win Year %           100.00%\n",
      "Win 12m %            93.75%\n"
     ]
    },
    {
     "name": "stderr",
     "output_type": "stream",
     "text": [
      "/home/hca-r2-001/miniconda3/envs/hca/lib/python3.6/site-packages/ffn/core.py:2163: RuntimeWarning: divide by zero encountered in true_divide\n",
      "  res = np.divide(er.mean(), std)\n"
     ]
    }
   ],
   "source": [
    "stats = series.calc_stats()\n",
    "stats.display()"
   ]
  },
  {
   "cell_type": "code",
   "execution_count": 13,
   "metadata": {},
   "outputs": [
    {
     "data": {
      "image/png": "[encoded data removed]",
      "text/plain": [
       "<Figure size 1080x576 with 1 Axes>"
      ]
     },
     "metadata": {
      "needs_background": "light"
     },
     "output_type": "display_data"
    }
   ],
   "source": [
    "prices =series\n",
    "ax = stats.prices.to_drawdown_series().plot(figsize=(15, 8),title='Drawdown')"
   ]
  },
  {
   "cell_type": "code",
   "execution_count": 14,
   "metadata": {},
   "outputs": [
    {
     "data": {
      "image/png": "[encoded data removed]",
      "text/plain": [
       "<Figure size 1080x576 with 1 Axes>"
      ]
     },
     "metadata": {
      "needs_background": "light"
     },
     "output_type": "display_data"
    }
   ],
   "source": [
    "ax = prices.plot(logy=True,figsize=(15, 8),title='Equity Curve')"
   ]
  },
  {
   "cell_type": "code",
   "execution_count": null,
   "metadata": {},
   "outputs": [],
   "source": []
  },
  {
   "cell_type": "code",
   "execution_count": null,
   "metadata": {},
   "outputs": [],
   "source": []
  }
 ],
 "metadata": {
  "celltoolbar": "Raw Cell Format",
  "kernelspec": {
   "display_name": "Python 3",
   "language": "python",
   "name": "python3"
  },
  "language_info": {
   "codemirror_mode": {
    "name": "ipython",
    "version": 3
   },
   "file_extension": ".py",
   "mimetype": "text/x-python",
   "name": "python",
   "nbconvert_exporter": "python",
   "pygments_lexer": "ipython3",
   "version": "3.6.7"
  }
 },
 "nbformat": 4,
 "nbformat_minor": 4
}
