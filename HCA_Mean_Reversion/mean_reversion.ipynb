{
 "cells": [
  {
   "cell_type": "markdown",
   "metadata": {},
   "source": [
    "# A simple Mean Reversion System\n",
    "Most of the following imports are mainstream, well known Python libraries.\n",
    "\n",
    "alpha_vantage and fix_yahoo are specialist libraries to download stock data free.  To use alpha_vantage you will need to obtain your own key from the providers https://www.alphavantage.co/\n",
    "\n",
    "ffn is a specialist library to report trading systems statistics"
   ]
  },
  {
   "cell_type": "code",
   "execution_count": 77,
   "metadata": {},
   "outputs": [],
   "source": [
    "%matplotlib notebook\n",
    "%matplotlib inline\n",
    "import numpy as np\n",
    "import matplotlib.pyplot as plt\n",
    "from matplotlib.pyplot import figure\n",
    "\n",
    "import pandas as pd\n",
    "from alpha_vantage.timeseries import TimeSeries\n",
    "# import fix_yahoo_finance as yf\n",
    "#because the is_list_like is moved to pandas.api.types\n",
    "pd.core.common.is_list_like = pd.api.types.is_list_like\n",
    "import ffn\n",
    "#import pixiedust"
   ]
  },
  {
   "cell_type": "markdown",
   "metadata": {},
   "source": [
    "## The following two cells can be used to download stock data and then blanked out again once the data has been saved to csv.\n",
    "\n"
   ]
  },
  {
   "cell_type": "code",
   "execution_count": 78,
   "metadata": {},
   "outputs": [
    {
     "data": {
      "text/html": [
       "<div>\n",
       "<style scoped>\n",
       "    .dataframe tbody tr th:only-of-type {\n",
       "        vertical-align: middle;\n",
       "    }\n",
       "\n",
       "    .dataframe tbody tr th {\n",
       "        vertical-align: top;\n",
       "    }\n",
       "\n",
       "    .dataframe thead th {\n",
       "        text-align: right;\n",
       "    }\n",
       "</style>\n",
       "<table border=\"1\" class=\"dataframe\">\n",
       "  <thead>\n",
       "    <tr style=\"text-align: right;\">\n",
       "      <th></th>\n",
       "      <th>1. open</th>\n",
       "      <th>2. high</th>\n",
       "      <th>3. low</th>\n",
       "      <th>4. close</th>\n",
       "      <th>5. adjusted close</th>\n",
       "      <th>6. volume</th>\n",
       "      <th>7. dividend amount</th>\n",
       "      <th>8. split coefficient</th>\n",
       "    </tr>\n",
       "    <tr>\n",
       "      <th>date</th>\n",
       "      <th></th>\n",
       "      <th></th>\n",
       "      <th></th>\n",
       "      <th></th>\n",
       "      <th></th>\n",
       "      <th></th>\n",
       "      <th></th>\n",
       "      <th></th>\n",
       "    </tr>\n",
       "  </thead>\n",
       "  <tbody>\n",
       "    <tr>\n",
       "      <th>2020-11-13</th>\n",
       "      <td>355.27</td>\n",
       "      <td>358.90</td>\n",
       "      <td>354.71</td>\n",
       "      <td>358.10</td>\n",
       "      <td>355.407945</td>\n",
       "      <td>62959429.0</td>\n",
       "      <td>0.0</td>\n",
       "      <td>1.0</td>\n",
       "    </tr>\n",
       "    <tr>\n",
       "      <th>2020-11-16</th>\n",
       "      <td>360.98</td>\n",
       "      <td>362.78</td>\n",
       "      <td>359.59</td>\n",
       "      <td>362.57</td>\n",
       "      <td>359.844341</td>\n",
       "      <td>74541138.0</td>\n",
       "      <td>0.0</td>\n",
       "      <td>1.0</td>\n",
       "    </tr>\n",
       "    <tr>\n",
       "      <th>2020-11-17</th>\n",
       "      <td>359.97</td>\n",
       "      <td>361.92</td>\n",
       "      <td>358.34</td>\n",
       "      <td>360.62</td>\n",
       "      <td>357.909000</td>\n",
       "      <td>66111009.0</td>\n",
       "      <td>0.0</td>\n",
       "      <td>1.0</td>\n",
       "    </tr>\n",
       "    <tr>\n",
       "      <th>2020-11-18</th>\n",
       "      <td>360.91</td>\n",
       "      <td>361.50</td>\n",
       "      <td>356.24</td>\n",
       "      <td>356.28</td>\n",
       "      <td>353.601627</td>\n",
       "      <td>70591299.0</td>\n",
       "      <td>0.0</td>\n",
       "      <td>1.0</td>\n",
       "    </tr>\n",
       "    <tr>\n",
       "      <th>2020-11-19</th>\n",
       "      <td>355.60</td>\n",
       "      <td>358.18</td>\n",
       "      <td>354.15</td>\n",
       "      <td>357.78</td>\n",
       "      <td>355.090350</td>\n",
       "      <td>59940947.0</td>\n",
       "      <td>0.0</td>\n",
       "      <td>1.0</td>\n",
       "    </tr>\n",
       "  </tbody>\n",
       "</table>\n",
       "</div>"
      ],
      "text/plain": [
       "            1. open  2. high  3. low  4. close  5. adjusted close   6. volume  \\\n",
       "date                                                                            \n",
       "2020-11-13   355.27   358.90  354.71    358.10         355.407945  62959429.0   \n",
       "2020-11-16   360.98   362.78  359.59    362.57         359.844341  74541138.0   \n",
       "2020-11-17   359.97   361.92  358.34    360.62         357.909000  66111009.0   \n",
       "2020-11-18   360.91   361.50  356.24    356.28         353.601627  70591299.0   \n",
       "2020-11-19   355.60   358.18  354.15    357.78         355.090350  59940947.0   \n",
       "\n",
       "            7. dividend amount  8. split coefficient  \n",
       "date                                                  \n",
       "2020-11-13                 0.0                   1.0  \n",
       "2020-11-16                 0.0                   1.0  \n",
       "2020-11-17                 0.0                   1.0  \n",
       "2020-11-18                 0.0                   1.0  \n",
       "2020-11-19                 0.0                   1.0  "
      ]
     },
     "execution_count": 78,
     "metadata": {},
     "output_type": "execute_result"
    }
   ],
   "source": [
    "asset_sym = 'SPY'.upper()\n",
    "ts = TimeSeries(key='HK7Q1K6I2EIFKTVL', output_format='pandas')\n",
    "data, meta_data = ts.get_daily_adjusted(symbol=asset_sym)\n",
    "#data, meta_data = ts.get_daily_adjusted(symbol='SPY', outputsize='full')\n",
    "\n",
    "#data = yf.download(\"SPY\", start=\"2019-01-01\", end=\"2021-03-12\")\n",
    "data.head()"
   ]
  },
  {
   "cell_type": "code",
   "execution_count": 3,
   "metadata": {},
   "outputs": [],
   "source": [
    "#dir(TimeSeries)\n"
   ]
  },
  {
   "cell_type": "code",
   "execution_count": 79,
   "metadata": {},
   "outputs": [
    {
     "name": "stdout",
     "output_type": "stream",
     "text": [
      "<class 'pandas.core.frame.DataFrame'>\n",
      "DatetimeIndex: 100 entries, 2020-11-13 to 2021-04-09\n",
      "Data columns (total 8 columns):\n",
      "1. open                 100 non-null float64\n",
      "2. high                 100 non-null float64\n",
      "3. low                  100 non-null float64\n",
      "4. close                100 non-null float64\n",
      "5. adjusted close       100 non-null float64\n",
      "6. volume               100 non-null float64\n",
      "7. dividend amount      100 non-null float64\n",
      "8. split coefficient    100 non-null float64\n",
      "dtypes: float64(8)\n",
      "memory usage: 7.0 KB\n"
     ]
    }
   ],
   "source": [
    "data.info()"
   ]
  },
  {
   "cell_type": "markdown",
   "metadata": {},
   "source": [
    "## The following line is to create split adjusted Open prices since only the adjusted close is provided:\n",
    "\n",
    "data['Adj_Open']=data.Open*(data.Adj_Close/data.Close)\n",
    "\n",
    "Useful if you want to test taking signal from previous close and trading at the next open."
   ]
  },
  {
   "cell_type": "code",
   "execution_count": 80,
   "metadata": {},
   "outputs": [
    {
     "data": {
      "text/html": [
       "<div>\n",
       "<style scoped>\n",
       "    .dataframe tbody tr th:only-of-type {\n",
       "        vertical-align: middle;\n",
       "    }\n",
       "\n",
       "    .dataframe tbody tr th {\n",
       "        vertical-align: top;\n",
       "    }\n",
       "\n",
       "    .dataframe thead th {\n",
       "        text-align: right;\n",
       "    }\n",
       "</style>\n",
       "<table border=\"1\" class=\"dataframe\">\n",
       "  <thead>\n",
       "    <tr style=\"text-align: right;\">\n",
       "      <th></th>\n",
       "      <th>Open</th>\n",
       "      <th>2. high</th>\n",
       "      <th>3. low</th>\n",
       "      <th>Close</th>\n",
       "      <th>Adj_Close</th>\n",
       "      <th>6. volume</th>\n",
       "      <th>7. dividend amount</th>\n",
       "      <th>8. split coefficient</th>\n",
       "      <th>Adj_Open</th>\n",
       "    </tr>\n",
       "    <tr>\n",
       "      <th>Date</th>\n",
       "      <th></th>\n",
       "      <th></th>\n",
       "      <th></th>\n",
       "      <th></th>\n",
       "      <th></th>\n",
       "      <th></th>\n",
       "      <th></th>\n",
       "      <th></th>\n",
       "      <th></th>\n",
       "    </tr>\n",
       "  </thead>\n",
       "  <tbody>\n",
       "    <tr>\n",
       "      <th>2020-11-13</th>\n",
       "      <td>355.27</td>\n",
       "      <td>358.90</td>\n",
       "      <td>354.71</td>\n",
       "      <td>358.10</td>\n",
       "      <td>355.407945</td>\n",
       "      <td>62959429.0</td>\n",
       "      <td>0.0</td>\n",
       "      <td>1.0</td>\n",
       "      <td>352.599220</td>\n",
       "    </tr>\n",
       "    <tr>\n",
       "      <th>2020-11-16</th>\n",
       "      <td>360.98</td>\n",
       "      <td>362.78</td>\n",
       "      <td>359.59</td>\n",
       "      <td>362.57</td>\n",
       "      <td>359.844341</td>\n",
       "      <td>74541138.0</td>\n",
       "      <td>0.0</td>\n",
       "      <td>1.0</td>\n",
       "      <td>358.266294</td>\n",
       "    </tr>\n",
       "    <tr>\n",
       "      <th>2020-11-17</th>\n",
       "      <td>359.97</td>\n",
       "      <td>361.92</td>\n",
       "      <td>358.34</td>\n",
       "      <td>360.62</td>\n",
       "      <td>357.909000</td>\n",
       "      <td>66111009.0</td>\n",
       "      <td>0.0</td>\n",
       "      <td>1.0</td>\n",
       "      <td>357.263887</td>\n",
       "    </tr>\n",
       "    <tr>\n",
       "      <th>2020-11-18</th>\n",
       "      <td>360.91</td>\n",
       "      <td>361.50</td>\n",
       "      <td>356.24</td>\n",
       "      <td>356.28</td>\n",
       "      <td>353.601627</td>\n",
       "      <td>70591299.0</td>\n",
       "      <td>0.0</td>\n",
       "      <td>1.0</td>\n",
       "      <td>358.196820</td>\n",
       "    </tr>\n",
       "    <tr>\n",
       "      <th>2020-11-19</th>\n",
       "      <td>355.60</td>\n",
       "      <td>358.18</td>\n",
       "      <td>354.15</td>\n",
       "      <td>357.78</td>\n",
       "      <td>355.090350</td>\n",
       "      <td>59940947.0</td>\n",
       "      <td>0.0</td>\n",
       "      <td>1.0</td>\n",
       "      <td>352.926739</td>\n",
       "    </tr>\n",
       "  </tbody>\n",
       "</table>\n",
       "</div>"
      ],
      "text/plain": [
       "              Open  2. high  3. low   Close   Adj_Close   6. volume  \\\n",
       "Date                                                                  \n",
       "2020-11-13  355.27   358.90  354.71  358.10  355.407945  62959429.0   \n",
       "2020-11-16  360.98   362.78  359.59  362.57  359.844341  74541138.0   \n",
       "2020-11-17  359.97   361.92  358.34  360.62  357.909000  66111009.0   \n",
       "2020-11-18  360.91   361.50  356.24  356.28  353.601627  70591299.0   \n",
       "2020-11-19  355.60   358.18  354.15  357.78  355.090350  59940947.0   \n",
       "\n",
       "            7. dividend amount  8. split coefficient    Adj_Open  \n",
       "Date                                                              \n",
       "2020-11-13                 0.0                   1.0  352.599220  \n",
       "2020-11-16                 0.0                   1.0  358.266294  \n",
       "2020-11-17                 0.0                   1.0  357.263887  \n",
       "2020-11-18                 0.0                   1.0  358.196820  \n",
       "2020-11-19                 0.0                   1.0  352.926739  "
      ]
     },
     "execution_count": 80,
     "metadata": {},
     "output_type": "execute_result"
    }
   ],
   "source": [
    "\n",
    "\n",
    "#data.reset_index(inplace=True)\n",
    "data.rename(columns={'5. adjusted close': 'Adj_Close', '1. open':'Open', '4. close':'Close'}, inplace=True)\n",
    "data.index.name='Date'\n",
    "\n",
    "#data.rename(columns={'5. adjusted close': 'Adj_Close', '1. open': 'Open','4. close': 'Close', 'date':'Date'}, inplace=True)\n",
    "data['Adj_Open']=data.Open*(data.Adj_Close/data.Close)\n",
    "data.to_csv(asset_sym + '.csv')\n",
    "#data.to_csv('../data/Stocks/spy.csv')\n",
    "data.head()"
   ]
  },
  {
   "cell_type": "markdown",
   "metadata": {},
   "source": [
    "Chart the data to check there are no obvious problems with the split adjusted data."
   ]
  },
  {
   "cell_type": "code",
   "execution_count": 81,
   "metadata": {
    "scrolled": true
   },
   "outputs": [],
   "source": [
    "\n",
    "pricing = pd.read_csv(\n",
    "            asset_sym + '.csv',\n",
    "            header=0,\n",
    "            parse_dates=[\"Date\"],\n",
    "            #index_col=0,\n",
    "            usecols=['Date','Adj_Open', 'Adj_Close'])    \n",
    "stock=pricing.copy()\n",
    "stock.Adj_Close=stock.Adj_Close.shift(1)\n",
    "\n",
    "#stock = stock[stock.notnull()]"
   ]
  },
  {
   "cell_type": "code",
   "execution_count": 82,
   "metadata": {},
   "outputs": [
    {
     "data": {
      "image/png": "[encoded data removed]",
      "text/plain": [
       "<Figure size 480x320 with 1 Axes>"
      ]
     },
     "metadata": {},
     "output_type": "display_data"
    }
   ],
   "source": [
    "figure(num=None, figsize=(6, 4), dpi=80, facecolor='w', edgecolor='k')\n",
    "plt.plot(pricing.Adj_Open, label='Spy Open')\n",
    "plt.plot(pricing.Adj_Close, label='Spy Close')\n",
    "plt.xlabel('date')\n",
    "plt.ylabel('Price')\n",
    "plt.legend();"
   ]
  },
  {
   "cell_type": "markdown",
   "metadata": {},
   "source": [
    "## Visual inspection of the DataFrame. \n",
    "\n",
    "Adjust to see wider and different selection of rows.  e.g pricing.tail(10) shows \n",
    "the final ten rows of data. See 10 Minutes to Pandas https://pandas.pydata.org/pandas-docs/stable/10min.html \n",
    "or the Pandas Cheat Sheet https://pandas.pydata.org/Pandas_Cheat_Sheet.pdf"
   ]
  },
  {
   "cell_type": "code",
   "execution_count": 83,
   "metadata": {},
   "outputs": [
    {
     "data": {
      "text/plain": [
       "(        Date   Adj_Close    Adj_Open\n",
       " 0 2020-11-13  355.407945  352.599220\n",
       " 1 2020-11-16  359.844341  358.266294\n",
       " 2 2020-11-17  357.909000  357.263887\n",
       " 3 2020-11-18  353.601627  358.196820\n",
       " 4 2020-11-19  355.090350  352.926739,          Date  Adj_Close  Adj_Open\n",
       " 95 2021-04-05     406.36    403.46\n",
       " 96 2021-04-06     406.12    405.76\n",
       " 97 2021-04-07     406.59    405.94\n",
       " 98 2021-04-08     408.52    407.93\n",
       " 99 2021-04-09     411.49    408.39)"
      ]
     },
     "execution_count": 83,
     "metadata": {},
     "output_type": "execute_result"
    }
   ],
   "source": [
    "pricing.head(),pricing.tail()"
   ]
  },
  {
   "cell_type": "markdown",
   "metadata": {},
   "source": [
    "## Shift the Adjusted Close down one row \n",
    "\n",
    "so that it aligns with the next day's Adjusted Open.  That way we can calculate the signals using the previous day's Close and enter the trade on the next day's Open"
   ]
  },
  {
   "cell_type": "code",
   "execution_count": 23,
   "metadata": {},
   "outputs": [],
   "source": [
    "#stock=pricing.copy()\n",
    "#stock.Adj_Close=stock.Adj_Close.shift(1)\n",
    "\n",
    "#stock.tail()"
   ]
  },
  {
   "cell_type": "markdown",
   "metadata": {},
   "source": [
    "## Create three or more separate blocks of data for testing. \n",
    "\n",
    "Reserve one of these for out of sample testing."
   ]
  },
  {
   "cell_type": "code",
   "execution_count": 24,
   "metadata": {},
   "outputs": [],
   "source": [
    "#stock_1=stock.iloc[0:2170].copy()\n",
    "#stock_2=stock.iloc[2170:4342].copy().reset_index(drop=True)\n",
    "#stock_3=stock.iloc[4342:6513].copy().reset_index(drop=True) \n",
    "#stock_2.head()"
   ]
  },
  {
   "cell_type": "markdown",
   "metadata": {},
   "source": [
    "## Here is the code for the function which loops through the stock data and executes the trades.  \n",
    "\n",
    "You can experiment with different parameters such as changing the maximum position size or starting capital.\n",
    "\n",
    "Experiment with changing references:\n",
    "\n",
    "1.from both trading and signal generation at the Close; to \n",
    "\n",
    "2.signal generation at the Close but trading at the next Open. \n",
    "\n",
    "You will not be happy with the result suggesting you may need to automate trading to generate signals and trade intraday so you can execute a trade immediately a signal is given."
   ]
  },
  {
   "cell_type": "code",
   "execution_count": 84,
   "metadata": {
    "pixiedust": {
     "displayParams": {}
    }
   },
   "outputs": [],
   "source": [
    "# Trade using a simple mean-reversion strategy\n",
    "def trade(stock, length):\n",
    "\n",
    "    temp_dict = {}\n",
    "    # If window length is 0, algorithm doesn't make sense, so exit\n",
    "    if length == 0:\n",
    "        return 0\n",
    "\n",
    "    # Compute rolling means and rolling standard deviation\n",
    "    #sma and lma are filters to prevent taking long or short positions against the longer term trend\n",
    "    rolling_window = stock.Adj_Close.rolling(window=length)\n",
    "    mu = rolling_window.mean()\n",
    "    sma = stock.Adj_Close.rolling(window=length*1).mean()\n",
    "    lma = stock.Adj_Close.rolling(window=length * 10).mean()\n",
    "    std = rolling_window.std()\n",
    "\n",
    "    #If you don't use a maximum position size the positions will keep on pyramidding.\n",
    "    #Set max_position to a high number (1000?) to disable this parameter\n",
    "    #Need to beware of unintended leverage\n",
    "    max_position = 1\n",
    "    percent_per_trade = 1.0\n",
    "\n",
    "    #Slippage and commission adjustment  - simply reduces equity by a percentage guess\n",
    "    # a setting of 1 means no slippage, a setting of 0.999 gives 0.1% slippage\n",
    "    slippage_adj = 1\n",
    "\n",
    "    # Compute the z-scores for each day using the historical data up to that day\n",
    "    zscores = (stock.Adj_Close - mu) / std\n",
    "\n",
    "    # Simulate trading\n",
    "    # Start with your chosen starting capital and no positions\n",
    "    money = 10000.00\n",
    "    position_count = 0\n",
    "\n",
    "    for i, row in enumerate(stock.itertuples(), 0):\n",
    "\n",
    "        #set up position size so that each position is a fixed position of your account equity\n",
    "        equity = money + (stock.Adj_Close[i] * position_count)\n",
    "        if equity > 0:\n",
    "            fixed_frac = (equity * percent_per_trade) / stock.Adj_Close[i]\n",
    "        else:\n",
    "            fixed_frac = 0\n",
    "        fixed_frac = int(round(fixed_frac))\n",
    "\n",
    "        #exit all positions if zscore flips from positive to negative or vice versa without going through\n",
    "        #the neutral zone\n",
    "        if i > 0:\n",
    "            if (zscores[i - 1] > 0.5\n",
    "                    and zscores[i] < -0.5) or (zscores[i - 1] < -0.5\n",
    "                                               and zscores[i] > 0.5):\n",
    "\n",
    "                if position_count > 0:\n",
    "                    money += position_count * stock.Adj_Close[i] * slippage_adj\n",
    "                elif position_count < 0:\n",
    "                    money += position_count * stock.Adj_Close[i] * (\n",
    "                        1 / slippage_adj)\n",
    "                position_count = 0\n",
    "\n",
    "        # Sell short if the z-score is > 1 and if the longer term trend is negative\n",
    "        if (zscores[i] > 1) & (position_count > max_position * -1) & (sma[i] <\n",
    "                                                                      lma[i]):\n",
    "\n",
    "            position_count -= fixed_frac\n",
    "            money += fixed_frac * stock.Adj_Close[i] * slippage_adj\n",
    "\n",
    "        # Buy long if the z-score is < 1 and the longer term trend is positive\n",
    "        elif zscores[i] < -1 and position_count < max_position and sma[i] > lma[i]:\n",
    "\n",
    "            position_count += fixed_frac\n",
    "            money -= fixed_frac * stock.Adj_Close[i] * (1 / slippage_adj)\n",
    "\n",
    "        # Clear positions if the z-score between -.5 and .5\n",
    "        elif abs(zscores[i]) < 0.5:\n",
    "            #money += position_count * stock.Adj_Close[i]\n",
    "            if position_count > 0:\n",
    "                money += position_count * stock.Adj_Close[i] * slippage_adj\n",
    "            elif position_count < 0:\n",
    "                money += position_count * stock.Adj_Close[i] * (\n",
    "                    1 / slippage_adj)\n",
    "            position_count = 0\n",
    "\n",
    "        #fill dictionary with the trading results.\n",
    "        temp_dict[stock.Date[i]] = [\n",
    "            stock.Adj_Open[i], stock.Adj_Close[i], mu[i], std[i], zscores[i],\n",
    "            money, position_count, fixed_frac, sma[i], lma[i]\n",
    "        ]\n",
    "    #create a dataframe to return for use in calculating and charting the trading results\n",
    "    pr = pd.DataFrame(data=temp_dict).T\n",
    "    pr.index.name = 'Date'\n",
    "    pr.index = pd.to_datetime(pr.index)\n",
    "    pr.columns = [\n",
    "        'Open', 'Close', 'mu', 'std', 'zscores', 'money', 'position_count',\n",
    "        'fixed_frac', 'sma', 'lma'\n",
    "    ]\n",
    "    pr['equity'] = pr.money + (pr.Close * pr.position_count)\n",
    "    #\n",
    "    return pr"
   ]
  },
  {
   "cell_type": "markdown",
   "metadata": {},
   "source": [
    "## The next cell calls the function. \n",
    "\n",
    "Experiment with different moving averages by altering the number in brackets.\n",
    "\n",
    "profit = trade(stock, moving_average) runs the back test with the entire price series\n",
    "profit = trade(stock_1, moving_average) runs the test using only the first third of the data and so forth through \n",
    "stock_2 and stock_3\n",
    "\n",
    "You will need to amend the function \"profit.to_csv\" to your own raletive or absolute file address"
   ]
  },
  {
   "cell_type": "code",
   "execution_count": 85,
   "metadata": {
    "pixiedust": {
     "displayParams": {}
    }
   },
   "outputs": [],
   "source": [
    "moving_average=10\n",
    "profit = trade(stock, moving_average)\n",
    "#profit = profit[np.isfinite(profit).all(1)]\n",
    "\n",
    "#profit = profit[profit.notnull()]\n",
    "#mask = profit.notnull()\n",
    "profit.to_csv('mean_reversion_profit.csv')\n",
    "#profit.to_csv('../data/mean_reversion_profit.csv')"
   ]
  },
  {
   "cell_type": "code",
   "execution_count": 86,
   "metadata": {},
   "outputs": [
    {
     "data": {
      "text/plain": [
       "Date\n",
       "2020-11-13        NaN\n",
       "2020-11-16    10000.0\n",
       "2020-11-17    10000.0\n",
       "2020-11-18    10000.0\n",
       "2020-11-19    10000.0\n",
       "2020-11-20    10000.0\n",
       "2020-11-23    10000.0\n",
       "2020-11-24    10000.0\n",
       "2020-11-25    10000.0\n",
       "2020-11-27    10000.0\n",
       "2020-11-30    10000.0\n",
       "2020-12-01    10000.0\n",
       "2020-12-02    10000.0\n",
       "2020-12-03    10000.0\n",
       "2020-12-04    10000.0\n",
       "2020-12-07    10000.0\n",
       "2020-12-08    10000.0\n",
       "2020-12-09    10000.0\n",
       "2020-12-10    10000.0\n",
       "2020-12-11    10000.0\n",
       "2020-12-14    10000.0\n",
       "2020-12-15    10000.0\n",
       "2020-12-16    10000.0\n",
       "2020-12-17    10000.0\n",
       "2020-12-18    10000.0\n",
       "2020-12-21    10000.0\n",
       "2020-12-22    10000.0\n",
       "2020-12-23    10000.0\n",
       "2020-12-24    10000.0\n",
       "2020-12-28    10000.0\n",
       "               ...   \n",
       "2021-02-26    10000.0\n",
       "2021-03-01    10000.0\n",
       "2021-03-02    10000.0\n",
       "2021-03-03    10000.0\n",
       "2021-03-04    10000.0\n",
       "2021-03-05    10000.0\n",
       "2021-03-08    10000.0\n",
       "2021-03-09    10000.0\n",
       "2021-03-10    10000.0\n",
       "2021-03-11    10000.0\n",
       "2021-03-12    10000.0\n",
       "2021-03-15    10000.0\n",
       "2021-03-16    10000.0\n",
       "2021-03-17    10000.0\n",
       "2021-03-18    10000.0\n",
       "2021-03-19    10000.0\n",
       "2021-03-22    10000.0\n",
       "2021-03-23    10000.0\n",
       "2021-03-24    10000.0\n",
       "2021-03-25    10000.0\n",
       "2021-03-26    10000.0\n",
       "2021-03-29    10000.0\n",
       "2021-03-30    10000.0\n",
       "2021-03-31    10000.0\n",
       "2021-04-01    10000.0\n",
       "2021-04-05    10000.0\n",
       "2021-04-06    10000.0\n",
       "2021-04-07    10000.0\n",
       "2021-04-08    10000.0\n",
       "2021-04-09    10000.0\n",
       "Name: equity, Length: 100, dtype: float64"
      ]
     },
     "execution_count": 86,
     "metadata": {},
     "output_type": "execute_result"
    }
   ],
   "source": [
    "profit.equity"
   ]
  },
  {
   "cell_type": "code",
   "execution_count": 72,
   "metadata": {},
   "outputs": [],
   "source": [
    "#profit.notnull().all(1,axis=1)\n",
    "profit.dropna(axis=1,inplace=True)\n",
    "#profit.notnull()"
   ]
  },
  {
   "cell_type": "markdown",
   "metadata": {},
   "source": [
    "## Inspect the reults data frame"
   ]
  },
  {
   "cell_type": "code",
   "execution_count": 73,
   "metadata": {},
   "outputs": [
    {
     "data": {
      "text/plain": [
       "(                  Open    money  position_count  fixed_frac\n",
       " Date                                                       \n",
       " 2020-11-13  352.599220  10000.0             0.0         0.0\n",
       " 2020-11-16  358.266294  10000.0             0.0        28.0\n",
       " 2020-11-17  357.263887  10000.0             0.0        28.0\n",
       " 2020-11-18  358.196820  10000.0             0.0        28.0\n",
       " 2020-11-19  352.926739  10000.0             0.0        28.0,\n",
       "               Open    money  position_count  fixed_frac\n",
       " Date                                                   \n",
       " 2021-04-05  403.46  10000.0             0.0        25.0\n",
       " 2021-04-06  405.76  10000.0             0.0        25.0\n",
       " 2021-04-07  405.94  10000.0             0.0        25.0\n",
       " 2021-04-08  407.93  10000.0             0.0        25.0\n",
       " 2021-04-09  408.39  10000.0             0.0        24.0)"
      ]
     },
     "execution_count": 73,
     "metadata": {},
     "output_type": "execute_result"
    }
   ],
   "source": [
    "profit.head() , profit.tail()"
   ]
  },
  {
   "cell_type": "markdown",
   "metadata": {},
   "source": [
    "## Create a new dataframe \n",
    "\n",
    "which contains trhe equity curve as its only column to feed to FFN the stats library"
   ]
  },
  {
   "cell_type": "code",
   "execution_count": 74,
   "metadata": {},
   "outputs": [
    {
     "ename": "KeyError",
     "evalue": "\"['equity'] not in index\"",
     "output_type": "error",
     "traceback": [
      "\u001b[0;31m---------------------------------------------------------------------------\u001b[0m",
      "\u001b[0;31mKeyError\u001b[0m                                  Traceback (most recent call last)",
      "\u001b[0;32m<ipython-input-74-81739bab56bb>\u001b[0m in \u001b[0;36m<module>\u001b[0;34m\u001b[0m\n\u001b[0;32m----> 1\u001b[0;31m \u001b[0mseries\u001b[0m\u001b[0;34m=\u001b[0m\u001b[0mprofit\u001b[0m\u001b[0;34m[\u001b[0m\u001b[0;34m[\u001b[0m\u001b[0;34m'equity'\u001b[0m\u001b[0;34m]\u001b[0m\u001b[0;34m]\u001b[0m\u001b[0;34m.\u001b[0m\u001b[0mcopy\u001b[0m\u001b[0;34m(\u001b[0m\u001b[0;34m)\u001b[0m\u001b[0;34m\u001b[0m\u001b[0;34m\u001b[0m\u001b[0m\n\u001b[0m",
      "\u001b[0;32m/home/hca-r2-001/miniconda3/envs/hca/lib/python3.6/site-packages/pandas/core/frame.py\u001b[0m in \u001b[0;36m__getitem__\u001b[0;34m(self, key)\u001b[0m\n\u001b[1;32m   2131\u001b[0m         \u001b[0;32mif\u001b[0m \u001b[0misinstance\u001b[0m\u001b[0;34m(\u001b[0m\u001b[0mkey\u001b[0m\u001b[0;34m,\u001b[0m \u001b[0;34m(\u001b[0m\u001b[0mSeries\u001b[0m\u001b[0;34m,\u001b[0m \u001b[0mnp\u001b[0m\u001b[0;34m.\u001b[0m\u001b[0mndarray\u001b[0m\u001b[0;34m,\u001b[0m \u001b[0mIndex\u001b[0m\u001b[0;34m,\u001b[0m \u001b[0mlist\u001b[0m\u001b[0;34m)\u001b[0m\u001b[0;34m)\u001b[0m\u001b[0;34m:\u001b[0m\u001b[0;34m\u001b[0m\u001b[0;34m\u001b[0m\u001b[0m\n\u001b[1;32m   2132\u001b[0m             \u001b[0;31m# either boolean or fancy integer index\u001b[0m\u001b[0;34m\u001b[0m\u001b[0;34m\u001b[0m\u001b[0;34m\u001b[0m\u001b[0m\n\u001b[0;32m-> 2133\u001b[0;31m             \u001b[0;32mreturn\u001b[0m \u001b[0mself\u001b[0m\u001b[0;34m.\u001b[0m\u001b[0m_getitem_array\u001b[0m\u001b[0;34m(\u001b[0m\u001b[0mkey\u001b[0m\u001b[0;34m)\u001b[0m\u001b[0;34m\u001b[0m\u001b[0;34m\u001b[0m\u001b[0m\n\u001b[0m\u001b[1;32m   2134\u001b[0m         \u001b[0;32melif\u001b[0m \u001b[0misinstance\u001b[0m\u001b[0;34m(\u001b[0m\u001b[0mkey\u001b[0m\u001b[0;34m,\u001b[0m \u001b[0mDataFrame\u001b[0m\u001b[0;34m)\u001b[0m\u001b[0;34m:\u001b[0m\u001b[0;34m\u001b[0m\u001b[0;34m\u001b[0m\u001b[0m\n\u001b[1;32m   2135\u001b[0m             \u001b[0;32mreturn\u001b[0m \u001b[0mself\u001b[0m\u001b[0;34m.\u001b[0m\u001b[0m_getitem_frame\u001b[0m\u001b[0;34m(\u001b[0m\u001b[0mkey\u001b[0m\u001b[0;34m)\u001b[0m\u001b[0;34m\u001b[0m\u001b[0;34m\u001b[0m\u001b[0m\n",
      "\u001b[0;32m/home/hca-r2-001/miniconda3/envs/hca/lib/python3.6/site-packages/pandas/core/frame.py\u001b[0m in \u001b[0;36m_getitem_array\u001b[0;34m(self, key)\u001b[0m\n\u001b[1;32m   2175\u001b[0m             \u001b[0;32mreturn\u001b[0m \u001b[0mself\u001b[0m\u001b[0;34m.\u001b[0m\u001b[0m_take\u001b[0m\u001b[0;34m(\u001b[0m\u001b[0mindexer\u001b[0m\u001b[0;34m,\u001b[0m \u001b[0maxis\u001b[0m\u001b[0;34m=\u001b[0m\u001b[0;36m0\u001b[0m\u001b[0;34m,\u001b[0m \u001b[0mconvert\u001b[0m\u001b[0;34m=\u001b[0m\u001b[0;32mFalse\u001b[0m\u001b[0;34m)\u001b[0m\u001b[0;34m\u001b[0m\u001b[0;34m\u001b[0m\u001b[0m\n\u001b[1;32m   2176\u001b[0m         \u001b[0;32melse\u001b[0m\u001b[0;34m:\u001b[0m\u001b[0;34m\u001b[0m\u001b[0;34m\u001b[0m\u001b[0m\n\u001b[0;32m-> 2177\u001b[0;31m             \u001b[0mindexer\u001b[0m \u001b[0;34m=\u001b[0m \u001b[0mself\u001b[0m\u001b[0;34m.\u001b[0m\u001b[0mloc\u001b[0m\u001b[0;34m.\u001b[0m\u001b[0m_convert_to_indexer\u001b[0m\u001b[0;34m(\u001b[0m\u001b[0mkey\u001b[0m\u001b[0;34m,\u001b[0m \u001b[0maxis\u001b[0m\u001b[0;34m=\u001b[0m\u001b[0;36m1\u001b[0m\u001b[0;34m)\u001b[0m\u001b[0;34m\u001b[0m\u001b[0;34m\u001b[0m\u001b[0m\n\u001b[0m\u001b[1;32m   2178\u001b[0m             \u001b[0;32mreturn\u001b[0m \u001b[0mself\u001b[0m\u001b[0;34m.\u001b[0m\u001b[0m_take\u001b[0m\u001b[0;34m(\u001b[0m\u001b[0mindexer\u001b[0m\u001b[0;34m,\u001b[0m \u001b[0maxis\u001b[0m\u001b[0;34m=\u001b[0m\u001b[0;36m1\u001b[0m\u001b[0;34m,\u001b[0m \u001b[0mconvert\u001b[0m\u001b[0;34m=\u001b[0m\u001b[0;32mTrue\u001b[0m\u001b[0;34m)\u001b[0m\u001b[0;34m\u001b[0m\u001b[0;34m\u001b[0m\u001b[0m\n\u001b[1;32m   2179\u001b[0m \u001b[0;34m\u001b[0m\u001b[0m\n",
      "\u001b[0;32m/home/hca-r2-001/miniconda3/envs/hca/lib/python3.6/site-packages/pandas/core/indexing.py\u001b[0m in \u001b[0;36m_convert_to_indexer\u001b[0;34m(self, obj, axis, is_setter)\u001b[0m\n\u001b[1;32m   1267\u001b[0m                 \u001b[0;32mif\u001b[0m \u001b[0mmask\u001b[0m\u001b[0;34m.\u001b[0m\u001b[0many\u001b[0m\u001b[0;34m(\u001b[0m\u001b[0;34m)\u001b[0m\u001b[0;34m:\u001b[0m\u001b[0;34m\u001b[0m\u001b[0;34m\u001b[0m\u001b[0m\n\u001b[1;32m   1268\u001b[0m                     raise KeyError('{mask} not in index'\n\u001b[0;32m-> 1269\u001b[0;31m                                    .format(mask=objarr[mask]))\n\u001b[0m\u001b[1;32m   1270\u001b[0m \u001b[0;34m\u001b[0m\u001b[0m\n\u001b[1;32m   1271\u001b[0m                 \u001b[0;32mreturn\u001b[0m \u001b[0m_values_from_object\u001b[0m\u001b[0;34m(\u001b[0m\u001b[0mindexer\u001b[0m\u001b[0;34m)\u001b[0m\u001b[0;34m\u001b[0m\u001b[0;34m\u001b[0m\u001b[0m\n",
      "\u001b[0;31mKeyError\u001b[0m: \"['equity'] not in index\""
     ]
    }
   ],
   "source": [
    "series=profit[['equity']].copy()"
   ]
  },
  {
   "cell_type": "markdown",
   "metadata": {},
   "source": [
    "## Stats and Charts\n",
    "\n",
    "The following charts and stats are allproduced by the FFN Library"
   ]
  },
  {
   "cell_type": "code",
   "execution_count": 37,
   "metadata": {},
   "outputs": [
    {
     "name": "stdout",
     "output_type": "stream",
     "text": [
      "Stat                 equity\n",
      "-------------------  ----------\n",
      "Start                2020-11-16\n",
      "End                  2021-04-09\n",
      "Risk-free rate       0.00%\n",
      "\n",
      "Total Return         0.00%\n",
      "Daily Sharpe         -\n",
      "Daily Sortino        -\n",
      "CAGR                 0.00%\n",
      "Max Drawdown         0.00%\n",
      "Calmar Ratio         -\n",
      "\n",
      "MTD                  0.00%\n",
      "3m                   0.00%\n",
      "6m                   -\n",
      "YTD                  0.00%\n",
      "1Y                   -\n",
      "3Y (ann.)            0.00%\n",
      "5Y (ann.)            -\n",
      "10Y (ann.)           -\n",
      "Since Incep. (ann.)  0.00%\n",
      "\n",
      "Daily Sharpe         -\n",
      "Daily Sortino        -\n",
      "Daily Mean (ann.)    0.00%\n",
      "Daily Vol (ann.)     0.00%\n",
      "Daily Skew           0.00\n",
      "Daily Kurt           -\n",
      "Best Day             0.00%\n",
      "Worst Day            0.00%\n",
      "\n",
      "Monthly Sharpe       -\n",
      "Monthly Sortino      -\n",
      "Monthly Mean (ann.)  0.00%\n",
      "Monthly Vol (ann.)   0.00%\n",
      "Monthly Skew         0.00\n",
      "Monthly Kurt         -\n",
      "Best Month           0.00%\n",
      "Worst Month          0.00%\n",
      "\n",
      "Yearly Sharpe        -\n",
      "Yearly Sortino       -\n",
      "Yearly Mean          0.00%\n",
      "Yearly Vol           -\n",
      "Yearly Skew          -\n",
      "Yearly Kurt          -\n",
      "Best Year            0.00%\n",
      "Worst Year           0.00%\n",
      "\n",
      "Avg. Drawdown        -\n",
      "Avg. Drawdown Days   -\n",
      "Avg. Up Month        -\n",
      "Avg. Down Month      0.00%\n",
      "Win Year %           0.00%\n",
      "Win 12m %            -\n"
     ]
    }
   ],
   "source": [
    "stats = series.calc_stats()\n",
    "stats.display()"
   ]
  },
  {
   "cell_type": "code",
   "execution_count": 30,
   "metadata": {},
   "outputs": [
    {
     "data": {
      "image/png": "[encoded data removed]",
      "text/plain": [
       "<Figure size 1080x576 with 1 Axes>"
      ]
     },
     "metadata": {
      "needs_background": "light"
     },
     "output_type": "display_data"
    }
   ],
   "source": [
    "prices =series\n",
    "ax = stats.prices.to_drawdown_series().plot(figsize=(15, 8),title='Drawdown')"
   ]
  },
  {
   "cell_type": "code",
   "execution_count": 17,
   "metadata": {},
   "outputs": [
    {
     "data": {
      "image/png": "[encoded data removed]",
      "text/plain": [
       "<Figure size 1080x576 with 1 Axes>"
      ]
     },
     "metadata": {
      "needs_background": "light"
     },
     "output_type": "display_data"
    }
   ],
   "source": [
    "ax = prices.plot(logy=True,figsize=(15, 8),title='Equity Curve')"
   ]
  },
  {
   "cell_type": "code",
   "execution_count": null,
   "metadata": {},
   "outputs": [],
   "source": []
  },
  {
   "cell_type": "code",
   "execution_count": null,
   "metadata": {},
   "outputs": [],
   "source": []
  }
 ],
 "metadata": {
  "celltoolbar": "Raw Cell Format",
  "kernelspec": {
   "display_name": "Python 3",
   "language": "python",
   "name": "python3"
  },
  "language_info": {
   "codemirror_mode": {
    "name": "ipython",
    "version": 3
   },
   "file_extension": ".py",
   "mimetype": "text/x-python",
   "name": "python",
   "nbconvert_exporter": "python",
   "pygments_lexer": "ipython3",
   "version": "3.6.7"
  }
 },
 "nbformat": 4,
 "nbformat_minor": 4
}
