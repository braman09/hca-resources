{
 "cells": [
  {
   "cell_type": "markdown",
   "metadata": {},
   "source": [
    "## HotChili Analytics "
   ]
  },
  {
   "cell_type": "code",
   "execution_count": 34,
   "metadata": {},
   "outputs": [
    {
     "name": "stdout",
     "output_type": "stream",
     "text": [
      "The zipline extension is already loaded. To reload it, use:\n",
      "  %reload_ext zipline\n"
     ]
    }
   ],
   "source": [
    "%matplotlib inline\n",
    "%load_ext zipline"
   ]
  },
  {
   "cell_type": "code",
   "execution_count": 35,
   "metadata": {},
   "outputs": [],
   "source": [
    "import pandas as pd\n",
    "#pd.set_option(\"max_colwidth\", 400)\n",
    "#pd.set_option(\"display.max_rows\", 100000)\n",
    "#pd.set_option(\"display.max_columns\", 1000)\n",
    "#pd.set_option('precision', 2)\n",
    "#pd.options.display.float_format = '{:20,.2f}'.format"
   ]
  },
  {
   "cell_type": "markdown",
   "metadata": {},
   "source": [
    "## Zipline Backtest: Jupyter  Magic Cell (%%) Execution of zipline code in cell containing command line command"
   ]
  },
  {
   "cell_type": "code",
   "execution_count": 36,
   "metadata": {
    "scrolled": false
   },
   "outputs": [],
   "source": [
    "%%zipline --start=2018-1-1 --end=2020-8-10 -b sharadar-eqfd -o /home/hca-blog/hca/hca-live-rel/nb/HCA_Trendfollowing.pkl\n",
    "\n",
    "# Source: adapted from various algos on quantopian\n",
    "# HCA Conversion Date: 08-14-2020\n",
    "# Conversion Author: Anthony garner\n",
    "\n",
    "# Simple trend following portfolio\n",
    "import matplotlib.pyplot as plt\n",
    "import pandas as pd\n",
    "import logging as log\n",
    "\n",
    "from zipline.api import order, cancel_order, get_open_orders, symbol, symbols, date_rules, time_rules, order_target_percent, record, schedule_function, get_datetime\n",
    "from trading_calendars import get_calendar\n",
    "\n",
    "def initialize(context):\n",
    "    schedule_function(func=trade, date_rule=date_rules.every_day(),\n",
    "                      time_rule=time_rules.market_open(),half_days=True)\n",
    "    schedule_function(func=cancel,time_rule=time_rules.market_close(minutes=5),  \n",
    "                      date_rule=date_rules.every_day(),half_days=True)  \n",
    "    schedule_function(func=reorder, time_rule=time_rules.market_open(minutes=5),  \n",
    "                      date_rule=date_rules.every_day(),half_days=True)\n",
    "    context.asserts = symbols('SPY')\n",
    "    context.bonds = symbol('SHY') \n",
    "    context.rebalance_date = 0\n",
    "    context.fired = False\n",
    "    context.rebalance_inteval = 'M'#'Q', #'D', #'M' #'Q' #'Y'\n",
    "    context.top_n_by_momentum = pd.Series()  \n",
    "    #Choose X stocks out of portfolio of Y stocks- how many stocks to hold - top X by momentum \n",
    "    context.stocks=1\n",
    "    #Lookback for momentum calculation\n",
    "    context.momentum_days=60\n",
    "    #set at less than 1 to ensure no leverage\n",
    "    context.leverage_buffer=0.99\n",
    "    #Set to 0 to reject any stocks with negative momentum, set to -1 to accept stocks with negative momentum\n",
    "    context.trend =0.0\n",
    "    context.reorder_dict = {}  \n",
    "\n",
    "\n",
    "    \n",
    "def handle_data(context, data):\n",
    "    record(SPY=data[symbol('SPY')].price)\n",
    "\n",
    "def is_new_day(context, now):\n",
    "    return ( (now.year > context.rebalance_date.year) or (now.month > context.rebalance_date.month) or((now.month == context.rebalance_date.month) and (now.day > context.rebalance_date.day)))             \n",
    "    \n",
    "def is_new_month(context, now):\n",
    "    return ((now.year > context.rebalance_date.year) or ((now.year == context.rebalance_date.year) and (now.month > context.rebalance_date.month)))\n",
    "\n",
    "def is_new_quarter(context, now):\n",
    "    return ((now.year > context.rebalance_date.year) or ((now.year == context.rebalance_date.year) and (now.month == context.rebalance_date.month + 3)))\n",
    "    \n",
    "def is_new_year(context, now):\n",
    "    return (now.year > context.rebalance_date.year)\n",
    "\n",
    "def need_rebalance(context, now):\n",
    "    return ((context.rebalance_inteval == 'Y' and is_new_year(context, now))or \n",
    "           (context.rebalance_inteval == 'Q' and is_new_quarter(context, now)) or \n",
    "           (context.rebalance_inteval == 'M' and is_new_month(context, now)) or \n",
    "           (context.rebalance_inteval == 'D' and is_new_day(context, now)))\n",
    "\n",
    "\n",
    "    # Compute momentum\n",
    "def compute_momentum(context,data):  \n",
    "    price_history = data.history(context.asserts, \"price\", context.momentum_days+5, \"1d\")\n",
    "    momentum = price_history.pct_change(context.momentum_days).iloc[-1]\n",
    "    #for index,value in momentum.items():\n",
    "        #log.debug(\"unfiltered momentun\"+\" \"+ str(index)+\" \"+ str(value) )\n",
    "    context.top_n_by_momentum = momentum.nlargest(context.stocks).where(momentum>context.trend).dropna()\n",
    "    #for index,value in context.top_n_by_momentum.items():\n",
    "        #log.debug(\"context.top_n_by_momentun\"+\" \"+str(index)+\" \" + str(value) )\n",
    "    return context.top_n_by_momentum\n",
    "\n",
    "def init_portfolio(context, data):\n",
    "    weights=0.0\n",
    "    reserve_allocation=0.0\n",
    "    compute_momentum(context, data)\n",
    "    for index,value in context.top_n_by_momentum.items():\n",
    "        if data.can_trade(index):\n",
    "            weights =weights +1/context.stocks\n",
    "            order_target_percent(index, (1/context.stocks)* context.leverage_buffer)\n",
    "    #Assign weighting and an order to the reserve asset if and when appropriate\n",
    "    if weights <1 and data.can_trade(context.bonds):\n",
    "        reserve_allocation=1-weights\n",
    "        order_target_percent(context.bonds, reserve_allocation* context.leverage_buffer)     \n",
    "        \n",
    "def rebalance(context, data):\n",
    "    weights=0.0\n",
    "    reserve_allocation=0.0\n",
    "    compute_momentum(context, data)\n",
    "    for x in context.portfolio.positions:\n",
    "        if (x not in context.top_n_by_momentum and x != context.bonds):\n",
    "            order_target_percent(x, 0)            \n",
    "    \n",
    "    for index,value in context.top_n_by_momentum.items():\n",
    "        if data.can_trade(index)and index != context.bonds:\n",
    "            weights =weights +1/context.stocks\n",
    "            order_target_percent(index, (1/context.stocks)*context.leverage_buffer)\n",
    "        elif data.can_trade(index) and index != context.bonds: \n",
    "            order_target_percent(index, 0)\n",
    "    #Assign weighting and an order to the reserve asset if and when appropriate        \n",
    "    if data.can_trade(context.bonds):\n",
    "        reserve_allocation=1-weights\n",
    "        order_target_percent(context.bonds, reserve_allocation* context.leverage_buffer)        \n",
    "\n",
    "#Will be called daily. \n",
    "def trade(context, data):\n",
    "    if not context.fired:\n",
    "        context.rebalance_date = get_datetime()\n",
    "        log.info(\"build portfolio at \" + str(context.rebalance_date))\n",
    "        init_portfolio(context, data)\n",
    "        context.fired = True\n",
    "        now = get_datetime()\n",
    "    else:\n",
    "        now = get_datetime()\n",
    "        if (need_rebalance(context, now)):\n",
    "            log.info(\"new rebalance arrivied:\" + str(now))\n",
    "            rebalance(context, data)\n",
    "            context.rebalance_date = now\n",
    "    #open_orders = get_all_open_orders()  \n",
    "    #for order in open_orders:  \n",
    "                #log.info(\"Rebalance Order {0:s} for {1:,d} shares\" \n",
    "            #.format(order.sid.symbol,order.amount))  \n",
    "#Called Daily to replace/re-order partially or unfilled orders\n",
    "def cancel(context, data):  \n",
    "    open_orders = get_all_open_orders()  \n",
    "    for order in open_orders:  \n",
    "        log.info(\"X CANCELED {0:s} with {1:,d} / {2:,d} filled\" \n",
    "            .format(order.sid.symbol,  \n",
    "                    order.filled,  \n",
    "                    order.amount))  \n",
    "        cancel_order(order)  \n",
    "        context.reorder_dict[order.sid] = order.amount - order.filled\n",
    "\n",
    "def get_all_open_orders():  \n",
    "    from itertools import chain  \n",
    "    orders = chain.from_iterable(get_open_orders().values())  \n",
    "    return list(orders)  \n",
    "#Called Daily to replace/re-order partially or unfilled orders\n",
    "def reorder(context, data):  \n",
    "    for stock, amount in context.reorder_dict.items():  \n",
    "        order(stock, amount)  \n",
    "        log.info(\"Reorder {stock} {amount}\".format(stock=stock, amount=amount))  \n",
    "    context.reorder_dict = {}\n",
    "    \n",
    "def analyze(context, perf):\n",
    "    ax1 = plt.subplot(211)\n",
    "    perf.portfolio_value.plot(ax=ax1)\n",
    "    ax2 = plt.subplot(212, sharex=ax1)\n",
    "    perf.SPY.plot(ax=ax2)\n",
    "    plt.gcf().set_size_inches(18, 8)\n",
    "    plt.show()"
   ]
  },
  {
   "cell_type": "markdown",
   "metadata": {},
   "source": [
    "## Run back test via Command Line"
   ]
  },
  {
   "cell_type": "code",
   "execution_count": 1,
   "metadata": {},
   "outputs": [
    {
     "name": "stdout",
     "output_type": "stream",
     "text": [
      "/home/hca-blog/anaconda3/envs/env_hca/lib/python3.6/site-packages/h5py/__init__.py:36: FutureWarning: Conversion of the second argument of issubdtype from `float` to `np.floating` is deprecated. In future, it will be treated as `np.float64 == np.dtype(float).type`.\n",
      "  from ._conv import register_converters as _register_converters\n",
      "/home/hca-blog/anaconda3/envs/env_hca/lib/python3.6/site-packages/odo/backends/pandas.py:94: FutureWarning: pandas.tslib is deprecated and will be removed in a future version.\n",
      "You can access NaTType as type(pandas.NaT)\n",
      "  @convert.register((pd.Timestamp, pd.Timedelta), (pd.tslib.NaTType, type(None)))\n",
      "[2020-09-05 13:32:52.291499] WARNING: Loader: Refusing to download new benchmark data because a download succeeded at 2020-09-05 13:01:46.365526+00:00.\n",
      "[2020-09-05 13:32:52.322432] WARNING: Loader: Refusing to download new treasury data because a download succeeded at 2020-09-05 13:01:48.545510+00:00.\n",
      "build portfolio at 2020-02-28 21:00:00+00:00\n",
      "[2020-09-05 13:32:53.746238] INFO: zipline.finance.metrics.tracker: Simulated 114 trading days\n",
      "first open: 2020-02-28 14:31:00+00:00\n",
      "last close: 2020-08-10 20:00:00+00:00\n"
     ]
    }
   ],
   "source": [
    "#! zipline run -f /home/hca-blog/hca/hca-live-rel/strat/HCA_Trendfollowing.py --start 2020-2-28 --end 2020-8-10 -b sharadar-eqfd -o /home/hca-blog/hca/hca-live-rel/nb/HCA_Trendfollowing.pkl"
   ]
  },
  {
   "cell_type": "markdown",
   "metadata": {},
   "source": [
    "## Ingest Sharadar Funds Assets for today."
   ]
  },
  {
   "cell_type": "code",
   "execution_count": 38,
   "metadata": {},
   "outputs": [],
   "source": [
    "# Ingest Sharadar Funds Assets for today.\n",
    "# Only need to ingest Funds for this algo, and this takes less processing time and system memory than ingesting\n",
    "#  all of Sharadar Equities plus Funds bundle (sharadar-eqfd)\n",
    "#!date\n",
    "#!zipline ingest -b sharadar-funds"
   ]
  },
  {
   "cell_type": "markdown",
   "metadata": {},
   "source": [
    "## Command Line Execution of zipline with live trading\n",
    "###    Note: IB-TWS or IB-Gateway must be running, with broker-acct and broker-uri port being correct to live trade."
   ]
  },
  {
   "cell_type": "code",
   "execution_count": 39,
   "metadata": {},
   "outputs": [],
   "source": [
    "#!zipline  run -s 08-12-2020 -f /home/hca-blog/hca/hca-live-rel/strat/HCA_Trendfollowing_live.py --broker ib --broker-uri 127.0.0.1:7499:1301 --broker-acct DU1568488 --bundle sharadar-eqfd --data-frequency daily  --state-file  /home/hca-blog/hca/hca-live-rel/strat/strategy.state --realtime-bar-target /home/hca-blog/hca/hca-live-rel/nb/logs/realtime-bars/ \n"
   ]
  },
  {
   "cell_type": "markdown",
   "metadata": {},
   "source": [
    "## Command Line Ingestion of sharadar-prices bundle"
   ]
  },
  {
   "cell_type": "code",
   "execution_count": 41,
   "metadata": {},
   "outputs": [],
   "source": [
    "### !zipline ingest -b sharadar-prices"
   ]
  },
  {
   "cell_type": "code",
   "execution_count": 42,
   "metadata": {},
   "outputs": [],
   "source": [
    "### !ls -l ~/.zipline/data/sharadar-eqfd"
   ]
  },
  {
   "cell_type": "code",
   "execution_count": 43,
   "metadata": {},
   "outputs": [],
   "source": [
    "### !zipline bundles"
   ]
  }
 ],
 "metadata": {
  "hide_input": false,
  "kernelspec": {
   "display_name": "Python 3",
   "language": "python",
   "name": "python3"
  },
  "language_info": {
   "codemirror_mode": {
    "name": "ipython",
    "version": 3
   },
   "file_extension": ".py",
   "mimetype": "text/x-python",
   "name": "python",
   "nbconvert_exporter": "python",
   "pygments_lexer": "ipython3",
   "version": "3.6.7"
  }
 },
 "nbformat": 4,
 "nbformat_minor": 1
}
