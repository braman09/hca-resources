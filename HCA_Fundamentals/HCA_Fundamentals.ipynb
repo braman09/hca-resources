{
 "cells": [
  {
   "cell_type": "markdown",
   "metadata": {},
   "source": [
    "## HotChili Analytics trading notebook template\n",
    "#### Configure by setting ALGO_NAME in cell below.\n",
    "#### Run various options (backtest, ingest, live) by uncommenting one cell "
   ]
  },
  {
   "cell_type": "code",
   "execution_count": 1,
   "metadata": {},
   "outputs": [
    {
     "name": "stderr",
     "output_type": "stream",
     "text": [
      "/home/hca-dev/miniconda3/envs/hca/lib/python3.6/site-packages/odo/backends/pandas.py:94: FutureWarning: pandas.tslib is deprecated and will be removed in a future version.\n",
      "You can access NaTType as type(pandas.NaT)\n",
      "  @convert.register((pd.Timestamp, pd.Timedelta), (pd.tslib.NaTType, type(None)))\n"
     ]
    }
   ],
   "source": [
    "%matplotlib inline\n",
    "%load_ext zipline\n",
    "\n",
    "# %reload_ext zipline # Uncomment and use this when already loaded zipline extension for magic cell usage."
   ]
  },
  {
   "cell_type": "code",
   "execution_count": 2,
   "metadata": {},
   "outputs": [],
   "source": [
    "import pandas as pd\n",
    "\n",
    "# Options you can uncomment and set:\n",
    "\n",
    "# pd.set_option(\"max_colwidth\", 300)\n",
    "# pd.set_option(\"display.max_rows\", 300)\n",
    "# pd.set_option(\"display.max_columns\", 50)\n",
    "# pd.set_option('precision', 2)\n",
    "# pd.options.display.float_format = '{:20,.2f}'.format"
   ]
  },
  {
   "cell_type": "code",
   "execution_count": 3,
   "metadata": {},
   "outputs": [
    {
     "name": "stdout",
     "output_type": "stream",
     "text": [
      "hca_root_path = /home/hca-dev/hca\n"
     ]
    }
   ],
   "source": [
    "import os\n",
    "\n",
    "hca_root_path = os.environ['HCA_ROOT']\n",
    "print(f\"hca_root_path = {hca_root_path}\")"
   ]
  },
  {
   "cell_type": "markdown",
   "metadata": {},
   "source": [
    "# Construct algorithm strategy path names\n",
    "\n",
    "Assumptions:\n",
    "\n",
    "- the strategy is in a directory with the same name as the strategy in `ALGO_NAME` below\n",
    "- the strategy is located in the hca-resources directory, which is located relative to `hca_root_path`, found above"
   ]
  },
  {
   "cell_type": "code",
   "execution_count": 4,
   "metadata": {},
   "outputs": [],
   "source": [
    "ALGO_NAME = \"HCA_Fundamentals\" # <--- Supply name here"
   ]
  },
  {
   "cell_type": "markdown",
   "metadata": {},
   "source": [
    "Other variables are derived from `ALGO_NAME`:"
   ]
  },
  {
   "cell_type": "code",
   "execution_count": 5,
   "metadata": {},
   "outputs": [
    {
     "name": "stdout",
     "output_type": "stream",
     "text": [
      "\n",
      "ALGO_NAME          = HCA_Fundamentals\n",
      "HCA_RESOURCES_PATH = /home/hca-dev/hca/hca-resources/\n",
      "ALGO_PATH          = /home/hca-dev/hca/hca-resources/HCA_Fundamentals/\n",
      "ALGO_BT            = /home/hca-dev/hca/hca-resources/HCA_Fundamentals/HCA_Fundamentals.py\n",
      "ALGO_BT_OUT        = /home/hca-dev/hca/hca-resources/HCA_Fundamentals/HCA_Fundamentals.pkl\n",
      "ALGO_LIVE          = /home/hca-dev/hca/hca-resources/HCA_Fundamentals/HCA_Fundamentals_Live.py\n",
      "\n",
      "Contents of algo directory:\n",
      "\n",
      "AGTF_FirstTrade-2020-05-27.log\tHCA_Fundamentals_Live.py\n",
      "AGTF_FirstTrade-2020-05-27.py\tHCA_Fundamentals_tearsheet.ipynb\n",
      "HCA_Fundamentals.ipynb\n"
     ]
    }
   ],
   "source": [
    "HCA_RESOURCES_PATH = hca_root_path + \"/hca-resources/\" \n",
    "ALGO_PATH          = HCA_RESOURCES_PATH + ALGO_NAME + \"/\" \n",
    "ALGO_BT            = ALGO_PATH + ALGO_NAME + \".py\"\n",
    "ALGO_BT_OUT        = ALGO_PATH + ALGO_NAME + \".pkl\"\n",
    "ALGO_LIVE          = ALGO_PATH + ALGO_NAME + \"_Live\" + \".py\"\n",
    "\n",
    "print(f\"\"\"\n",
    "ALGO_NAME          = {ALGO_NAME}\n",
    "HCA_RESOURCES_PATH = {HCA_RESOURCES_PATH}\n",
    "ALGO_PATH          = {ALGO_PATH}\n",
    "ALGO_BT            = {ALGO_BT}\n",
    "ALGO_BT_OUT        = {ALGO_BT_OUT}\n",
    "ALGO_LIVE          = {ALGO_LIVE}\n",
    "\n",
    "Contents of algo directory:\n",
    "\"\"\")\n",
    "\n",
    "!ls $ALGO_PATH"
   ]
  },
  {
   "cell_type": "markdown",
   "metadata": {},
   "source": [
    "## Zipline backtest: \n",
    "\n",
    "- Method: Jupyter magic cell (%%) \n",
    "- Execution of zipline code in cell containing command line command\n",
    "- Uncomment first line and hit (shift-enter) inside the cell to run simulation backtest"
   ]
  },
  {
   "cell_type": "code",
   "execution_count": 6,
   "metadata": {},
   "outputs": [],
   "source": [
    "# %%zipline --start=2018-1-1 --end=2020-8-10 -b sharadar-funds -o $ALGO_BT_OUT"
   ]
  },
  {
   "cell_type": "markdown",
   "metadata": {},
   "source": [
    "## Display your current bundles"
   ]
  },
  {
   "cell_type": "code",
   "execution_count": 7,
   "metadata": {},
   "outputs": [
    {
     "name": "stdout",
     "output_type": "stream",
     "text": [
      "/home/hca-dev/miniconda3/envs/hca/lib/python3.6/site-packages/odo/backends/pandas.py:94: FutureWarning: pandas.tslib is deprecated and will be removed in a future version.\n",
      "You can access NaTType as type(pandas.NaT)\n",
      "  @convert.register((pd.Timestamp, pd.Timedelta), (pd.tslib.NaTType, type(None)))\n",
      "extension: hca_root_path = /home/hca-dev/hca\n",
      "extension:TODAY_STR = 2021-01-31\n",
      "extension:TWO_YR_AGO_STR = 2019-01-31\n",
      "extension:  start_date=2019-01-31 end_date = 2021-01-31\n",
      "csvdir <no ingestions>\n",
      "hca-symbol 2020-11-20 16:06:36.135842\n",
      "iex 2020-12-19 05:59:23.520759\n",
      "iex 2020-12-19 05:53:33.231885\n",
      "iex 2020-12-19 02:33:46.131260\n",
      "iex 2020-12-19 02:30:56.941813\n",
      "iex 2020-12-19 02:29:38.259516\n",
      "quandl <no ingestions>\n",
      "quantopian-quandl <no ingestions>\n",
      "sharadar-eqfd 2021-01-19 08:11:54.457694\n",
      "sharadar-funds <no ingestions>\n",
      "sharadar-prices 2021-01-29 12:47:38.403699\n",
      "sharadar-prices 2021-01-28 15:27:58.207531\n",
      "sharadar-prices 2021-01-27 12:04:19.587869\n",
      "sharadar-prices 2021-01-26 12:01:55.548711\n",
      "yahoo_csv <no ingestions>\n",
      "yahoo_direct 2021-01-09 01:37:45.025712\n"
     ]
    }
   ],
   "source": [
    "!zipline bundles # Finds all bundles"
   ]
  },
  {
   "cell_type": "markdown",
   "metadata": {},
   "source": [
    "## Ingest Bundle funds assets. "
   ]
  },
  {
   "cell_type": "code",
   "execution_count": 8,
   "metadata": {},
   "outputs": [],
   "source": [
    "# Ingest Sharadar funds assets for today, if needed.\n",
    "\n",
    "# Only need to ingest Funds for this algo, and this takes less processing time and system memory than ingesting\n",
    "# all of Sharadar Equities plus Funds bundle (sharadar-eqfd)\n",
    "\n",
    "# Yahoo Direct Data Bundle Ingest\n",
    "# Quick way\n",
    "# !export YAHOO_SYM_LST=SPY,ZSL,KOLD,GLD,SHY,XLP,IEF,TLT,QQQ;zipline ingest -b yahoo_direct\n",
    "\n",
    "# Long way - Set environ variable, so can use it later after bundle is created to find out what is in the bundle.\n",
    "#os.environ[\"YAHOO_SYM_LST\"] = \"SPY,ZSL,KOLD,GLD,SHY,XLP,IEF,TLT,QQQ\"\n",
    "#!zipline ingest -b yahoo_direct\n",
    "#yahoo_direct_sym_lst = os.environ['YAHOO_SYM_LST']\n",
    "#print(f\"yahoo_direct_sym_lst = {yahoo_direct_sym_lst}\")\n",
    "\n",
    "# !zipline ingest -b sharadar-funds \n",
    "##### !zipline ingest -b hca-symbol\n"
   ]
  },
  {
   "cell_type": "markdown",
   "metadata": {},
   "source": [
    "## Zipline backtest, alternative method\n",
    "\n",
    "- Method: command line\n",
    "- Execution of zipline code, located in a file, using below command line execution with magic (`!`) invocation\n",
    "- This line can also be run in a terminal by copying everything past the `!` and pasting (shift-insert) it into the target terminal"
   ]
  },
  {
   "cell_type": "code",
   "execution_count": 9,
   "metadata": {
    "scrolled": true
   },
   "outputs": [],
   "source": [
    "# !zipline run -f $ALGO_BT  --start=2018-1-1 --end=2020-10-02 -b sharadar-funds -o $ALGO_BT_OUT"
   ]
  },
  {
   "cell_type": "markdown",
   "metadata": {},
   "source": [
    "## Run Zipline live on IB-TWS via command line\n",
    "\n",
    "- Method: command line\n",
    "- Execution of zipline code using below command line execution using magic (`!`) invocation\n",
    "\n",
    "**Notes:** \n",
    "- IB-TWS or IB-Gateway must be running, with `IB_ACCT` and `IB_URI` port being correct to live trade\n",
    "- Change `I_WANT_TO_RUN_THIS_CODE` to `True` below to run zipline live on IB-TWS/IB-Gateway"
   ]
  },
  {
   "cell_type": "code",
   "execution_count": 10,
   "metadata": {},
   "outputs": [
    {
     "name": "stdout",
     "output_type": "stream",
     "text": [
      "TODAY = 2021-01-31\n"
     ]
    }
   ],
   "source": [
    "TODAY = pd.datetime.today().strftime(\"%Y-%m-%d\")\n",
    "print(\"TODAY = {}\".format(TODAY))"
   ]
  },
  {
   "cell_type": "code",
   "execution_count": 13,
   "metadata": {},
   "outputs": [
    {
     "ename": "SyntaxError",
     "evalue": "invalid syntax (<ipython-input-13-e0102c0d9b83>, line 14)",
     "output_type": "error",
     "traceback": [
      "\u001b[0;36m  File \u001b[0;32m\"<ipython-input-13-e0102c0d9b83>\"\u001b[0;36m, line \u001b[0;32m14\u001b[0m\n\u001b[0;31m    cmd_str=str(zipline run \\\u001b[0m\n\u001b[0m                          ^\u001b[0m\n\u001b[0;31mSyntaxError\u001b[0m\u001b[0;31m:\u001b[0m invalid syntax\n"
     ]
    }
   ],
   "source": [
    "ALGO_STATE = ALGO_PATH + \"strategy.state\" \n",
    "ALGO_RTB   = ALGO_PATH + \"realtime-bars/\"\n",
    "\n",
    "# Edit the following URI to match your IB account and port info.\n",
    "IB_ACCT = \"DU1568488\"\n",
    "IB_URI = \"127.0.0.1:7497:1301\"\n",
    "BUNDLE = 'sharadar-prices'\n",
    "#BUNDLE = 'yahoo_direct'\n",
    "#BUNDLE = 'hca_symbol'\n",
    "\n",
    "# Change following to 'True' and run cell (control-enter) to execute live run.\n",
    "I_WANT_TO_RUN_THIS_CODE = False\n",
    "# I_WANT_TO_RUN_THIS_CODE = True\n",
    "\n",
    "if I_WANT_TO_RUN_THIS_CODE:\n",
    "    \n",
    "    !zipline run \\\n",
    "        -s $TODAY \\\n",
    "        -f $ALGO_LIVE \\\n",
    "        --bundle $BUNDLE \\\n",
    "        --broker ib \\\n",
    "        --broker-uri $IB_URI \\\n",
    "        --broker-acct $IB_ACCT \\\n",
    "        --data-frequency daily \\\n",
    "        --state-file $ALGO_STATE \\\n",
    "        --realtime-bar-target $ALGO_RTB "
   ]
  },
  {
   "cell_type": "code",
   "execution_count": 14,
   "metadata": {},
   "outputs": [
    {
     "name": "stdout",
     "output_type": "stream",
     "text": [
      "/usr/bin/sh: -c: line 0: syntax error near unexpected token `)'\n",
      "/usr/bin/sh: -c: line 0: `echo zipline run          -s 2021-01-31          -f /home/hca-dev/hca/hca-resources/HCA_Fundamentals/HCA_Fundamentals_Live.py          --bundle sharadar-prices          --broker ib          --broker-uri 127.0.0.1:7497:1301          --broker-acct DU1568488          --data-frequency daily          --state-file /home/hca-dev/hca/hca-resources/HCA_Fundamentals/strategy.state          --realtime-bar-target /home/hca-dev/hca/hca-resources/HCA_Fundamentals/realtime-bars/) '\n"
     ]
    }
   ],
   "source": [
    "!echo zipline run \\\n",
    "        -s $TODAY \\\n",
    "        -f $ALGO_LIVE \\\n",
    "        --bundle $BUNDLE \\\n",
    "        --broker ib \\\n",
    "        --broker-uri $IB_URI \\\n",
    "        --broker-acct $IB_ACCT \\\n",
    "        --data-frequency daily \\\n",
    "        --state-file $ALGO_STATE \\\n",
    "        --realtime-bar-target $ALGO_RTB "
   ]
  },
  {
   "cell_type": "code",
   "execution_count": null,
   "metadata": {},
   "outputs": [],
   "source": []
  }
 ],
 "metadata": {
  "hide_input": false,
  "kernelspec": {
   "display_name": "hca-py3.6.7",
   "language": "python",
   "name": "hca"
  },
  "language_info": {
   "codemirror_mode": {
    "name": "ipython",
    "version": 3
   },
   "file_extension": ".py",
   "mimetype": "text/x-python",
   "name": "python",
   "nbconvert_exporter": "python",
   "pygments_lexer": "ipython3",
   "version": "3.6.7"
  }
 },
 "nbformat": 4,
 "nbformat_minor": 4
}
