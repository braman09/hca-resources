{
 "cells": [
  {
   "cell_type": "markdown",
   "metadata": {},
   "source": [
    "## HotChili Analytics trading notebook template\n",
    "#### Configure by setting ALGO_NAME in cell below.\n",
    "#### Run various options (backtest, ingest, live) by uncommenting one cell "
   ]
  },
  {
   "cell_type": "code",
   "execution_count": 1,
   "metadata": {},
   "outputs": [
    {
     "name": "stderr",
     "output_type": "stream",
     "text": [
      "/home/hca-r2-001/miniconda3/envs/hca/lib/python3.6/site-packages/h5py/__init__.py:36: FutureWarning: Conversion of the second argument of issubdtype from `float` to `np.floating` is deprecated. In future, it will be treated as `np.float64 == np.dtype(float).type`.\n",
      "  from ._conv import register_converters as _register_converters\n",
      "/home/hca-r2-001/miniconda3/envs/hca/lib/python3.6/site-packages/odo/backends/pandas.py:94: FutureWarning: pandas.tslib is deprecated and will be removed in a future version.\n",
      "You can access NaTType as type(pandas.NaT)\n",
      "  @convert.register((pd.Timestamp, pd.Timedelta), (pd.tslib.NaTType, type(None)))\n"
     ]
    }
   ],
   "source": [
    "%matplotlib inline\n",
    "%load_ext zipline\n",
    "\n",
    "# %reload_ext zipline # Uncomment and use this when already loaded zipline extension for magic cell usage."
   ]
  },
  {
   "cell_type": "code",
   "execution_count": 2,
   "metadata": {},
   "outputs": [],
   "source": [
    "import pandas as pd\n",
    "\n",
    "# Options you can uncomment and set:\n",
    "\n",
    "# pd.set_option(\"max_colwidth\", 300)\n",
    "# pd.set_option(\"display.max_rows\", 300)\n",
    "# pd.set_option(\"display.max_columns\", 50)\n",
    "# pd.set_option('precision', 2)\n",
    "# pd.options.display.float_format = '{:20,.2f}'.format"
   ]
  },
  {
   "cell_type": "code",
   "execution_count": 3,
   "metadata": {},
   "outputs": [
    {
     "name": "stdout",
     "output_type": "stream",
     "text": [
      "hca_root_path = /home/hca-ws2004/hca\n"
     ]
    }
   ],
   "source": [
    "import os\n",
    "\n",
    "hca_root_path = os.environ['HCA_ROOT']\n",
    "print(f\"hca_root_path = {hca_root_path}\")"
   ]
  },
  {
   "cell_type": "markdown",
   "metadata": {},
   "source": [
    "# Construct algorithm strategy path names\n",
    "\n",
    "Assumptions:\n",
    "\n",
    "- the strategy is in a directory with the same name as the strategy in `ALGO_NAME` below\n",
    "- the strategy is located in the hca-resources directory, which is located relative to `hca_root_path`, found above"
   ]
  },
  {
   "cell_type": "code",
   "execution_count": 4,
   "metadata": {},
   "outputs": [],
   "source": [
    "ALGO_NAME = \"HCA_Fundamentals\" # <--- Supply name here"
   ]
  },
  {
   "cell_type": "markdown",
   "metadata": {},
   "source": [
    "Other variables are derived from `ALGO_NAME`:"
   ]
  },
  {
   "cell_type": "code",
   "execution_count": 5,
   "metadata": {},
   "outputs": [
    {
     "name": "stdout",
     "output_type": "stream",
     "text": [
      "\n",
      "ALGO_NAME          = HCA_Fundamentals\n",
      "HCA_RESOURCES_PATH = /home/hca-ws2004/hca/hca-resources/\n",
      "ALGO_PATH          = /home/hca-ws2004/hca/hca-resources/HCA_Fundamentals/\n",
      "ALGO_BT            = /home/hca-ws2004/hca/hca-resources/HCA_Fundamentals/HCA_Fundamentals_Live.py\n",
      "ALGO_BT_OUT        = /home/hca-ws2004/hca/hca-resources/HCA_Fundamentals/HCA_Fundamentals.pkl\n",
      "ALGO_LIVE          = /home/hca-ws2004/hca/hca-resources/HCA_Fundamentals/HCA_Fundamentals_Live.py\n",
      "\n",
      "Contents of algo directory:\n",
      "\n",
      "Fundy_sharadar_test.ipynb  HCA_Fundamentals.pkl\t\t     strategy.state\n",
      "HCA_Fundamentals.ipynb\t   HCA_Fundamentals_tearsheet.ipynb\n",
      "HCA_Fundamentals_Live.py   realtime-bars\n"
     ]
    }
   ],
   "source": [
    "HCA_RESOURCES_PATH = hca_root_path + \"/hca-resources/\" \n",
    "ALGO_PATH          = HCA_RESOURCES_PATH + ALGO_NAME + \"/\" \n",
    "ALGO_BT            = ALGO_PATH + ALGO_NAME + \"_Live\" + \".py\"\n",
    "ALGO_BT_OUT        = ALGO_PATH + ALGO_NAME + \".pkl\"\n",
    "ALGO_LIVE          = ALGO_PATH + ALGO_NAME + \"_Live\" + \".py\"\n",
    "\n",
    "print(f\"\"\"\n",
    "ALGO_NAME          = {ALGO_NAME}\n",
    "HCA_RESOURCES_PATH = {HCA_RESOURCES_PATH}\n",
    "ALGO_PATH          = {ALGO_PATH}\n",
    "ALGO_BT            = {ALGO_BT}\n",
    "ALGO_BT_OUT        = {ALGO_BT_OUT}\n",
    "ALGO_LIVE          = {ALGO_LIVE}\n",
    "\n",
    "Contents of algo directory:\n",
    "\"\"\")\n",
    "\n",
    "!ls $ALGO_PATH"
   ]
  },
  {
   "cell_type": "markdown",
   "metadata": {},
   "source": [
    "## Zipline backtest: \n",
    "\n",
    "- Method: Jupyter magic cell (%%) \n",
    "- Execution of zipline code in cell containing command line command\n",
    "- Uncomment first line and hit (shift-enter) inside the cell to run simulation backtest"
   ]
  },
  {
   "cell_type": "markdown",
   "metadata": {},
   "source": [
    "## Display your current bundles"
   ]
  },
  {
   "cell_type": "code",
   "execution_count": 6,
   "metadata": {},
   "outputs": [],
   "source": [
    "#!zipline bundles # Finds all bundles"
   ]
  },
  {
   "cell_type": "markdown",
   "metadata": {},
   "source": [
    "## Ingest Bundle funds assets. "
   ]
  },
  {
   "cell_type": "code",
   "execution_count": 7,
   "metadata": {},
   "outputs": [],
   "source": [
    "# Ingest Sharadar funds assets for today, if needed.\n",
    "\n",
    "# Only need to ingest Funds for this algo, and this takes less processing time and system memory than ingesting\n",
    "# all of Sharadar Equities plus Funds bundle (sharadar-eqfd)\n",
    "\n",
    "# Yahoo Direct Data Bundle Ingest\n",
    "# Quick way\n",
    "# !export YAHOO_SYM_LST=SPY,ZSL,KOLD,GLD,SHY,XLP,IEF,TLT,QQQ;zipline ingest -b yahoo_direct\n",
    "\n",
    "# Long way - Set environ variable, so can use it later after bundle is created to find out what is in the bundle.\n",
    "#os.environ[\"YAHOO_SYM_LST\"] = \"SPY,ZSL,KOLD,GLD,SHY,XLP,IEF,TLT,QQQ\"\n",
    "#!zipline ingest -b yahoo_direct\n",
    "#yahoo_direct_sym_lst = os.environ['YAHOO_SYM_LST']\n",
    "#print(f\"yahoo_direct_sym_lst = {yahoo_direct_sym_lst}\")\n",
    "\n",
    "#!zipline ingest -b sharadar-funds \n",
    "#!zipline ingest -b sharadar-prices \n",
    "##### !zipline ingest -b hca-symbol\n"
   ]
  },
  {
   "cell_type": "markdown",
   "metadata": {},
   "source": [
    "## Zipline backtest, alternative method\n",
    "\n",
    "- Method: command line\n",
    "- Execution of zipline code, located in a file, using below command line execution with magic (`!`) invocation\n",
    "- This line can also be run in a terminal by copying everything past the `!` and pasting (shift-insert) it into the target terminal"
   ]
  },
  {
   "cell_type": "code",
   "execution_count": 8,
   "metadata": {
    "scrolled": true,
    "tags": []
   },
   "outputs": [],
   "source": [
    "#!zipline run -f $ALGO_LIVE  --start=2019-04-01 --end=2021-04-15 -b sharadar-eqfd -o $ALGO_BT_OUT"
   ]
  },
  {
   "cell_type": "markdown",
   "metadata": {
    "tags": []
   },
   "source": [
    "## Run Zipline live on IB-TWS via command line\n",
    "\n",
    "- Method: command line\n",
    "- Execution of zipline code using below command line execution using magic (`!`) invocation\n",
    "\n",
    "**Notes:** \n",
    "- IB-TWS or IB-Gateway must be running, with `IB_ACCT` and `IB_URI` port being correct to live trade\n",
    "- Change `I_WANT_TO_RUN_THIS_CODE` to `True` below to run zipline live on IB-TWS/IB-Gateway"
   ]
  },
  {
   "cell_type": "code",
   "execution_count": 9,
   "metadata": {},
   "outputs": [
    {
     "name": "stdout",
     "output_type": "stream",
     "text": [
      "TODAY = 2021-04-20\n"
     ]
    }
   ],
   "source": [
    "TODAY = pd.datetime.today().strftime(\"%Y-%m-%d\")\n",
    "print(\"TODAY = {}\".format(TODAY))"
   ]
  },
  {
   "cell_type": "code",
   "execution_count": null,
   "metadata": {},
   "outputs": [],
   "source": []
  },
  {
   "cell_type": "code",
   "execution_count": 10,
   "metadata": {},
   "outputs": [
    {
     "name": "stdout",
     "output_type": "stream",
     "text": [
      "zipline run -s 2021-04-20 -f /home/hca-ws2004/hca/hca-resources/HCA_Fundamentals/HCA_Fundamentals_Live.py --bundle sharadar-eqfd --broker ib --broker-uri 127.0.0.1:7497:1301 --broker-acct DU1568488 --data-frequency daily --state-file /home/hca-ws2004/hca/hca-resources/HCA_Fundamentals/strategy.state --realtime-bar-target /home/hca-ws2004/hca/hca-resources/HCA_Fundamentals/realtime-bars/\n",
      "/home/hca-r2-001/miniconda3/envs/hca/lib/python3.6/site-packages/h5py/__init__.py:36: FutureWarning: Conversion of the second argument of issubdtype from `float` to `np.floating` is deprecated. In future, it will be treated as `np.float64 == np.dtype(float).type`.\n",
      "  from ._conv import register_converters as _register_converters\n",
      "/home/hca-r2-001/miniconda3/envs/hca/lib/python3.6/site-packages/odo/backends/pandas.py:94: FutureWarning: pandas.tslib is deprecated and will be removed in a future version.\n",
      "You can access NaTType as type(pandas.NaT)\n",
      "  @convert.register((pd.Timestamp, pd.Timedelta), (pd.tslib.NaTType, type(None)))\n",
      "extension: hca_root_path = /home/hca-ws2004/hca\n",
      "extension:TODAY_STR = 2021-04-20\n",
      "extension:TWO_YR_AGO_STR = 2019-04-20\n",
      "extension:  start_date=2019-04-20 end_date = 2021-04-20\n",
      "[2021-04-20 15:41:34.463595] INFO: IB Broker: Connecting: 127.0.0.1:7497:1301\n",
      "Server Version: 76\n",
      "TWS Time at connection:20210420 08:41:34 PDT\n",
      "[2021-04-20 15:41:34.573620] INFO: IB Broker: [2104] Market data farm connection is OK:usfarm.nj (-1)\n",
      "[2021-04-20 15:41:34.573993] INFO: IB Broker: [2104] Market data farm connection is OK:cashfarm (-1)\n",
      "[2021-04-20 15:41:34.574285] INFO: IB Broker: [2104] Market data farm connection is OK:usfarm (-1)\n",
      "[2021-04-20 15:41:34.574500] INFO: IB Broker: [2106] HMDS data farm connection is OK:ushmds (-1)\n",
      "[2021-04-20 15:41:34.574712] INFO: IB Broker: [2158] Sec-def data farm connection is OK:secdefnj (-1)\n",
      "[2021-04-20 15:41:34.574830] DEBUG: IB Broker: Execution details completed for request 0\n",
      "[2021-04-20 15:41:34.889928] INFO: IB Broker: Managed accounts: ['DU1568488']\n",
      "[2021-04-20 15:41:35.090614] INFO: IB Broker: Local-Broker Time Skew: 0 days 00:00:00\n",
      "[2021-04-20 15:41:35.090988] INFO: IB Broker: ib_broker: Account:DU1568488 Details:\n",
      "defaultdict(<function TWSConnection.__init__.<locals>.<lambda>.<locals>.<lambda> at 0x7f48c08299d8>, {None: defaultdict(<function TWSConnection.__init__.<locals>.<lambda>.<locals>.<lambda>.<locals>.<lambda> at 0x7f48c08306a8>, {'AccountCode': 'DU1568488', 'AccountReady': 'true', 'AccountType': 'INDIVIDUAL', 'Cushion': '0.671978', 'DayTradesRemaining': '-1', 'DayTradesRemainingT+1': '-1', 'DayTradesRemainingT+2': '-1', 'DayTradesRemainingT+3': '-1', 'DayTradesRemainingT+4': '-1', 'Leverage-S': '1.02', 'LookAheadNextChange': '0', 'NLVAndMarginInReview': 'false', 'SegmentTitle-C': 'US Commodities', 'SegmentTitle-S': 'US Securities', 'TradingType-S': 'STKNOPT', 'WhatIfPMEnabled': 'true'}), 'BASE': defaultdict(<function TWSConnection.__init__.<locals>.<lambda>.<locals>.<lambda>.<locals>.<lambda> at 0x7f48c0830730>, {'AccountOrGroup': 'DU1568488', 'AccruedCash': '0.00', 'CashBalance': '-1176.66', 'CorporateBondValue': '0.00', 'Currency': 'BASE', 'ExchangeRate': '1.00', 'FundValue': '0.00', 'FutureOptionValue': '0.00', 'FuturesPNL': '0.00', 'FxCashBalance': '0.00', 'IssuerOptionValue': '0.00', 'MoneyMarketFundValue': '0.00', 'MutualFundValue': '0.00', 'NetDividend': '0.00', 'NetLiquidationByCurrency': '53772.4223', 'OptionMarketValue': '0.00', 'RealCurrency': 'BASE', 'RealizedPnL': '0.00', 'StockMarketValue': '54949.08', 'TBillValue': '0.00', 'TBondValue': '0.00', 'TotalCashBalance': '-1176.66', 'UnrealizedPnL': '-2423.23', 'WarrantValue': '0.00'}), 'USD': defaultdict(<function TWSConnection.__init__.<locals>.<lambda>.<locals>.<lambda>.<locals>.<lambda> at 0x7f48c08307b8>, {'AccountOrGroup': 'DU1568488', 'AccruedCash': '0.00', 'AccruedCash-C': '0.00', 'AccruedCash-S': '0.00', 'AccruedDividend': '0.00', 'AccruedDividend-C': '0.00', 'AccruedDividend-S': '0.00', 'AvailableFunds': '36133.86', 'AvailableFunds-C': '0.00', 'AvailableFunds-S': '36133.86', 'Billable': '0.00', 'Billable-C': '0.00', 'Billable-S': '0.00', 'BuyingPower': '144535.46', 'CashBalance': '-1176.66', 'CorporateBondValue': '0.00', 'Currency': 'USD', 'EquityWithLoanValue': '53772.42', 'EquityWithLoanValue-C': '0.00', 'EquityWithLoanValue-S': '53772.42', 'ExcessLiquidity': '36133.86', 'ExcessLiquidity-C': '0.00', 'ExcessLiquidity-S': '36133.86', 'ExchangeRate': '1.00', 'FullAvailableFunds': '36133.86', 'FullAvailableFunds-C': '0.00', 'FullAvailableFunds-S': '36133.86', 'FullExcessLiquidity': '36133.86', 'FullExcessLiquidity-C': '0.00', 'FullExcessLiquidity-S': '36133.86', 'FullInitMarginReq': '17638.56', 'FullInitMarginReq-C': '0.00', 'FullInitMarginReq-S': '17638.56', 'FullMaintMarginReq': '17638.56', 'FullMaintMarginReq-C': '0.00', 'FullMaintMarginReq-S': '17638.56', 'FundValue': '0.00', 'FutureOptionValue': '0.00', 'FuturesPNL': '0.00', 'FxCashBalance': '0.00', 'GrossPositionValue': '54949.08', 'GrossPositionValue-S': '54949.08', 'Guarantee': '0.00', 'Guarantee-C': '0.00', 'Guarantee-S': '0.00', 'IndianStockHaircut': '0.00', 'IndianStockHaircut-C': '0.00', 'IndianStockHaircut-S': '0.00', 'InitMarginReq': '17638.56', 'InitMarginReq-C': '0.00', 'InitMarginReq-S': '17638.56', 'IssuerOptionValue': '0.00', 'LookAheadAvailableFunds': '36133.86', 'LookAheadAvailableFunds-C': '0.00', 'LookAheadAvailableFunds-S': '36133.86', 'LookAheadExcessLiquidity': '36133.86', 'LookAheadExcessLiquidity-C': '0.00', 'LookAheadExcessLiquidity-S': '36133.86', 'LookAheadInitMarginReq': '17638.56', 'LookAheadInitMarginReq-C': '0.00', 'LookAheadInitMarginReq-S': '17638.56', 'LookAheadMaintMarginReq': '17638.56', 'LookAheadMaintMarginReq-C': '0.00', 'LookAheadMaintMarginReq-S': '17638.56', 'MaintMarginReq': '17638.56', 'MaintMarginReq-C': '0.00', 'MaintMarginReq-S': '17638.56', 'MoneyMarketFundValue': '0.00', 'MutualFundValue': '0.00', 'NetDividend': '0.00', 'NetLiquidation': '53772.42', 'NetLiquidation-C': '0.00', 'NetLiquidation-S': '53772.42', 'NetLiquidationByCurrency': '53772.4223', 'NetLiquidationUncertainty': '0.00', 'OptionMarketValue': '0.00', 'PASharesValue': '0.00', 'PASharesValue-C': '0.00', 'PASharesValue-S': '0.00', 'PhysicalCertificateValue': '0.00', 'PhysicalCertificateValue-C': '0.00', 'PhysicalCertificateValue-S': '0.00', 'PostExpirationExcess': '0.00', 'PostExpirationExcess-C': '0.00', 'PostExpirationExcess-S': '0.00', 'PostExpirationMargin': '0.00', 'PostExpirationMargin-C': '0.00', 'PostExpirationMargin-S': '0.00', 'PreviousDayEquityWithLoanValue': '55386.69', 'PreviousDayEquityWithLoanValue-S': '55386.69', 'RealCurrency': 'USD', 'RealizedPnL': '0.00', 'RegTEquity': '53772.42', 'RegTEquity-S': '53772.42', 'RegTMargin': '27474.54', 'RegTMargin-S': '27474.54', 'SMA': '1023209.16', 'SMA-S': '1023209.16', 'StockMarketValue': '54949.08', 'TBillValue': '0.00', 'TBondValue': '0.00', 'TotalCashBalance': '-1176.66', 'TotalCashValue': '-1176.66', 'TotalCashValue-C': '0.00', 'TotalCashValue-S': '-1176.66', 'TotalDebitCardPendingCharges': '0.00', 'TotalDebitCardPendingCharges-C': '0.00', 'TotalDebitCardPendingCharges-S': '0.00', 'UnrealizedPnL': '-2423.23', 'WarrantValue': '0.00'})})\n",
      "[2021-04-20 15:41:35.665449] WARNING: Loader: Refusing to download new benchmark data because a download succeeded at 2021-04-20 15:31:03.358468+00:00.\n",
      "[2021-04-20 15:41:35.714770] WARNING: Loader: Refusing to download new treasury data because a download succeeded at 2021-04-20 15:31:05.470486+00:00.\n",
      "[2021-04-20 15:41:35.813150] INFO: Blotter Live: Initialized blotter_live\n",
      "['2021-04-10T03;06;58', '2021-04-16T01;50;05']\n",
      "cur_folder= /home/hca-ws2004/hca/alphatools/alphatools/fundamentals\n",
      "enac_fundamentals_pkl= /home/hca-ws2004/zipline-broker/data/fundem-sharadar-sf1/2021-04-16T01;50;05/quandal_sharadar_sf1.pkl\n",
      "Non-sid Fund Count=False    98035\n",
      "True      3649\n",
      "Name: sid, dtype: int64\n",
      "Non-sid Fund TotalCount=3649\n",
      "\n",
      "SF1 Table needs to extend sessions from:max datekey:2021-04-15 tp  current date:2021-04-20 15:41:36.078327 ExtendRange:DatetimeIndex(['2021-04-15', '2021-04-16', '2021-04-19', '2021-04-20'], dtype='datetime64[ns, UTC]', freq='C')\n",
      "\n",
      "Adding fundamental:revenue\n",
      "Adding fundamental:opex\n",
      "Adding fundamental:netinc\n",
      "Adding fundamental:equity\n",
      "Adding fundamental:debt\n",
      "Adding fundamental:ebitda\n",
      "Adding fundamental:revenueusd\n",
      "Adding fundamental:debtusd\n",
      "Adding fundamental:dps\n",
      "Adding fundamental:fcf\n",
      "Adding fundamental:gp\n",
      "Adding fundamental:grossmargin\n",
      "Adding fundamental:netmargin\n",
      "Adding fundamental:ros\n",
      "Adding fundamental:payoutratio\n",
      "Adding fundamental:pe1\n",
      "Adding fundamental:ps1\n",
      "Adding fundamental:pb\n",
      "Adding fundamental:divyield\n",
      "Adding fundamental:currentratio\n",
      "Adding fundamental:de\n",
      "Adding fundamental:marketcap\n",
      "Adding fundamental:debtnc\n",
      "Adding fundamental:equityusd\n",
      "Added to sys.path: LOCAL_ZL_LIVE_PATH = /home/hca-ws2004/hca/hca-resources/HCA_Fundamentals\n",
      "  initialization done\n",
      "  Loading state from /home/hca-ws2004/hca/hca-resources/HCA_Fundamentals/strategy.state\n",
      "  Updating persistent context stored in state_file by overwriting them from current initialize /home/hca-ws2004/hca/hca-resources/HCA_Fundamentals/strategy.state\n",
      "  Pipeline pipeline attached\n",
      "  Live:symbol:Extended lifetime of asset SPY to 2031-04-20 00:00:00+00:00\n",
      "  Live:symbol:Extended lifetime of asset IEF to 2031-04-20 00:00:00+00:00\n",
      "AlgoState file=/home/hca-ws2004/hca/hca-resources/HCA_Fundamentals/strategy.state\n",
      "AlgoState={'momentum_skip_days': 1, 'spy': Equity(14646 [SPY]), 'MINUTES_TO_REBAL': 1, 'pipeline_data':                         close      de           dnc          eusd  \\\n",
      "index                                                               \n",
      "Equity(232 [ADI])     158.460  13.818  6.839900e+09  1.521600e+09   \n",
      "Equity(624 [ALK])      70.570   2.477  6.884000e+09  4.792000e+09   \n",
      "Equity(1299 [ATVI])    96.690   4.002  2.567762e+09  1.073265e+09   \n",
      "Equity(1962 [BLDR])    47.820   3.160  3.122356e+09  2.075847e+09   \n",
      "Equity(2414 [BX])      78.000   4.786  8.174400e+10  2.380500e+10   \n",
      "Equity(3106 [CLF])     18.510   0.732  5.370000e+08  1.446000e+09   \n",
      "Equity(3362 [COIN])   328.280   2.074  1.506900e+10  1.046400e+10   \n",
      "Equity(3570 [CRSP])   123.110  10.185  1.065593e+10  1.383566e+09   \n",
      "Equity(4234 [DKS])     81.630   2.767  3.578700e+10  2.198100e+10   \n",
      "Equity(4659 [EBAY])    62.790   1.617  1.668600e+10  1.509100e+10   \n",
      "Equity(5160 [ERIC])    13.680   4.304  6.116000e+09  3.078000e+09   \n",
      "Equity(6945 [GPS])     32.259   1.197  1.058600e+10  1.155000e+10   \n",
      "Equity(7008 [GRWG])    47.580   2.816  1.408600e+09  2.441000e+09   \n",
      "Equity(7584 [HPE])     15.780   1.610  1.274138e+09  2.001922e+09   \n",
      "Equity(10605 [MUR])    17.350   2.870  1.731600e+10  3.100843e+10   \n",
      "Equity(10980 [NKLA])   11.750   2.320  3.652557e+09  2.058095e+09   \n",
      "Equity(11329 [NVTA])   39.070   1.831  4.496500e+09  6.407700e+09   \n",
      "Equity(12256 [PLAN])   62.100   2.161  4.858000e+09  3.786000e+09   \n",
      "\n",
      "                               fcf  ltd_to_eq_rank       mom    mom_av  \\\n",
      "index                                                                    \n",
      "Equity(232 [ADI])     3.780000e+08        4.495202  0.248199  0.330847   \n",
      "Equity(624 [ALK])     4.490000e+08        1.436561  0.873103  0.772446   \n",
      "Equity(1299 [ATVI])   2.203160e+08        2.392477  0.192289  0.167822   \n",
      "Equity(1962 [BLDR])   1.627850e+08        1.504136  0.406004  0.439596   \n",
      "Equity(2414 [BX])     1.615000e+09        3.433900  0.425273  0.414173   \n",
      "Equity(3106 [CLF])    2.380000e+08        0.371369  1.402174  1.439953   \n",
      "Equity(3362 [COIN])   4.410000e+08        1.440080       NaN       NaN   \n",
      "Equity(3570 [CRSP])   2.601530e+08        7.701789  0.228977  0.387610   \n",
      "Equity(4234 [DKS])    7.860000e+08        1.628088  0.349097  0.331086   \n",
      "Equity(4659 [EBAY])   5.380000e+08        1.105692  0.151035  0.165997   \n",
      "Equity(5160 [ERIC])   1.194000e+09        1.987005  0.279263  0.249225   \n",
      "Equity(6945 [GPS])    3.700000e+08        0.916537  0.674455  0.721783   \n",
      "Equity(7008 [GRWG])   2.005000e+08        0.577059  1.942295  2.118820   \n",
      "Equity(7584 [HPE])    2.021080e+08        0.636457  0.587398  0.655333   \n",
      "Equity(10605 [MUR])   3.865000e+09        0.558429  0.962573  0.864451   \n",
      "Equity(10980 [NKLA])  2.744690e+08        1.774727 -0.468803 -0.415401   \n",
      "Equity(11329 [NVTA])  5.699000e+08        0.701734 -0.233255 -0.094744   \n",
      "Equity(12256 [PLAN])  3.170000e+08        1.283148 -0.000315 -0.095111   \n",
      "\n",
      "                            volm  \n",
      "index                             \n",
      "Equity(232 [ADI])      1596398.0  \n",
      "Equity(624 [ALK])      1550223.0  \n",
      "Equity(1299 [ATVI])    4066699.0  \n",
      "Equity(1962 [BLDR])    2180603.0  \n",
      "Equity(2414 [BX])      2706389.0  \n",
      "Equity(3106 [CLF])    21895961.0  \n",
      "Equity(3362 [COIN])   81065746.0  \n",
      "Equity(3570 [CRSP])    1913968.0  \n",
      "Equity(4234 [DKS])     1512384.0  \n",
      "Equity(4659 [EBAY])    9522826.0  \n",
      "Equity(5160 [ERIC])    9199563.0  \n",
      "Equity(6945 [GPS])     4394560.0  \n",
      "Equity(7008 [GRWG])    1936266.0  \n",
      "Equity(7584 [HPE])     7802187.0  \n",
      "Equity(10605 [MUR])    2669542.0  \n",
      "Equity(10980 [NKLA])  12941270.0  \n",
      "Equity(11329 [NVTA])   3449334.0  \n",
      "Equity(12256 [PLAN])   3431815.0  , 'initialized': True, 'all_orders': {}, 'ORDERS_DONE': True, 'stock_weights': Series([], dtype: float64), 'REBALANCE_DONE': False, 'auto_close': {}, 'bonds': Equity(8020 [IEF]), 'TF_filter': False, 'bond_weights': Series([], dtype: float64), 'Target_securities_to_buy': 10, 'TRACK_ORDERS_ON': False, 'relative_momentum_lookback': 22, 'top_n_relative_momentum_to_buy': 10, '__state_checksum': '/home/hca-ws2004/hca/hca-resources/HCA_Fundamentals/HCA_Fundamentals_Live.py'}\n",
      "2021-04-20 15:41:00+00:00  Live: today:2021-04-20 00:00:00+00:00 in _pipeline_output : prev_session: 2021-04-19 00:00:00+00:00\n",
      "FrameLoad: Dates:04-19-2021 --> 04-21-2021 columns:[Fundamentals.de::float64] CountNonNan:0\n",
      "FrameLoad: Dates:04-19-2021 --> 04-21-2021 columns:[Fundamentals.debtnc::float64] CountNonNan:0\n",
      "FrameLoad: Dates:03-18-2021 --> 04-21-2021 columns:[Fundamentals.marketcap::float64] CountNonNan:83733\n",
      "FrameLoad: Dates:03-18-2021 --> 04-21-2021 columns:[Fundamentals.fcf::float64] CountNonNan:81523\n",
      "FrameLoad: Dates:03-18-2021 --> 04-21-2021 columns:[Fundamentals.equityusd::float64] CountNonNan:83853\n",
      "2021-04-20 15:41:00+00:00  Live:symbol:Extended lifetime of asset ADI to 2031-04-20 00:00:00+00:00\n",
      "2021-04-20 15:41:00+00:00  Live:symbol:Extended lifetime of asset ATVI to 2031-04-20 00:00:00+00:00\n",
      "2021-04-20 15:41:00+00:00  Live:symbol:Extended lifetime of asset BLDR to 2031-04-20 00:00:00+00:00\n",
      "2021-04-20 15:41:00+00:00  Live:symbol:Extended lifetime of asset BX to 2031-04-20 00:00:00+00:00\n",
      "2021-04-20 15:41:00+00:00  Live:symbol:Extended lifetime of asset CLF to 2031-04-20 00:00:00+00:00\n",
      "2021-04-20 15:41:00+00:00  Live:symbol:Extended lifetime of asset DKS to 2031-04-20 00:00:00+00:00\n",
      "2021-04-20 15:41:00+00:00  Live:symbol:Extended lifetime of asset EBAY to 2031-04-20 00:00:00+00:00\n",
      "2021-04-20 15:41:00+00:00  Live:symbol:Extended lifetime of asset ERIC to 2031-04-20 00:00:00+00:00\n",
      "2021-04-20 15:41:00+00:00  Live:symbol:Extended lifetime of asset GPS to 2031-04-20 00:00:00+00:00\n",
      "2021-04-20 15:41:00+00:00  Live:symbol:Extended lifetime of asset PLAN to 2031-04-20 00:00:00+00:00\n",
      "InAC: CurDate=2021-04-20 15:41:00+00:00 context.auto_close={}\n",
      "2021-04-20 15:41:00+00:00  Live: today:2021-04-20 00:00:00+00:00 in _pipeline_output : prev_session: 2021-04-19 00:00:00+00:00\n",
      "2021-04-20 15:41:00+00:00  BTS___CurrZiplinPosBef: OrderedDict([(Equity(231 [ADI]), asset: Equity(231 [ADI]), amount: 35, cost_basis: 159.48020855, last_sale_price: 0.0), (Equity(1302 [ATVI]), asset: Equity(1302 [ATVI]), amount: 58, cost_basis: 96.47923965, last_sale_price: 0.0), (Equity(1966 [BLDR]), asset: Equity(1966 [BLDR]), amount: 112, cost_basis: 49.87241695, last_sale_price: 0.0), (Equity(2419 [BX]), asset: Equity(2419 [BX]), amount: 70, cost_basis: 79.2852043, last_sale_price: 0.0), (Equity(3111 [CLF]), asset: Equity(3111 [CLF]), amount: 312, cost_basis: 18.01370255, last_sale_price: 0.0), (Equity(4244 [DKS]), asset: Equity(4244 [DKS]), amount: 66, cost_basis: 84.3385076, last_sale_price: 0.0), (Equity(4669 [EBAY]), asset: Equity(4669 [EBAY]), amount: 86, cost_basis: 64.92727325, last_sale_price: 0.0), (Equity(5170 [ERIC]), asset: Equity(5170 [ERIC]), amount: 400, cost_basis: 14.0419025, last_sale_price: 0.0), (Equity(6965 [GPS]), asset: Equity(6965 [GPS]), amount: 171, cost_basis: 32.72190235, last_sale_price: 0.0), (Equity(12281 [PLAN]), asset: Equity(12281 [PLAN]), amount: 117, cost_basis: 60.4826, last_sale_price: 0.0)])\n",
      "2021-04-20 15:41:00+00:00  Live:symbol:Extended lifetime of asset ADI to 2031-04-20 00:00:00+00:00\n",
      "2021-04-20 15:41:00+00:00  Live:symbol:Extended lifetime of asset ATVI to 2031-04-20 00:00:00+00:00\n",
      "2021-04-20 15:41:00+00:00  Live:symbol:Extended lifetime of asset BLDR to 2031-04-20 00:00:00+00:00\n",
      "2021-04-20 15:41:00+00:00  Live:symbol:Extended lifetime of asset BX to 2031-04-20 00:00:00+00:00\n",
      "2021-04-20 15:41:00+00:00  Live:symbol:Extended lifetime of asset CLF to 2031-04-20 00:00:00+00:00\n",
      "2021-04-20 15:41:00+00:00  Live:symbol:Extended lifetime of asset DKS to 2031-04-20 00:00:00+00:00\n",
      "2021-04-20 15:41:00+00:00  Live:symbol:Extended lifetime of asset EBAY to 2031-04-20 00:00:00+00:00\n",
      "2021-04-20 15:41:00+00:00  Live:symbol:Extended lifetime of asset ERIC to 2031-04-20 00:00:00+00:00\n",
      "2021-04-20 15:41:00+00:00  Live:symbol:Extended lifetime of asset GPS to 2031-04-20 00:00:00+00:00\n",
      "2021-04-20 15:41:00+00:00  Live:symbol:Extended lifetime of asset PLAN to 2031-04-20 00:00:00+00:00\n",
      "2021-04-20 15:41:00+00:00  BTS___CurrBrokerPosCur: OrderedDict([(Equity(231 [ADI]), asset: Equity(231 [ADI]), amount: 35, cost_basis: 159.48020855, last_sale_price: 0.0), (Equity(1302 [ATVI]), asset: Equity(1302 [ATVI]), amount: 58, cost_basis: 96.47923965, last_sale_price: 0.0), (Equity(1966 [BLDR]), asset: Equity(1966 [BLDR]), amount: 112, cost_basis: 49.87241695, last_sale_price: 0.0), (Equity(2419 [BX]), asset: Equity(2419 [BX]), amount: 70, cost_basis: 79.2852043, last_sale_price: 0.0), (Equity(3111 [CLF]), asset: Equity(3111 [CLF]), amount: 312, cost_basis: 18.01370255, last_sale_price: 0.0), (Equity(4244 [DKS]), asset: Equity(4244 [DKS]), amount: 66, cost_basis: 84.3385076, last_sale_price: 0.0), (Equity(4669 [EBAY]), asset: Equity(4669 [EBAY]), amount: 86, cost_basis: 64.92727325, last_sale_price: 0.0), (Equity(5170 [ERIC]), asset: Equity(5170 [ERIC]), amount: 400, cost_basis: 14.0419025, last_sale_price: 0.0), (Equity(6965 [GPS]), asset: Equity(6965 [GPS]), amount: 171, cost_basis: 32.72190235, last_sale_price: 0.0), (Equity(12281 [PLAN]), asset: Equity(12281 [PLAN]), amount: 117, cost_basis: 60.4826, last_sale_price: 0.0)])\n",
      "2021-04-20 15:42:00+00:00  ___handle_data: 132 = Current Trading Minute\n",
      "2021-04-20 15:42:00+00:00  ___CurrZiplinPosBef: OrderedDict([(Equity(231 [ADI]), asset: Equity(231 [ADI]), amount: 35, cost_basis: 159.48020855, last_sale_price: 0.0), (Equity(1302 [ATVI]), asset: Equity(1302 [ATVI]), amount: 58, cost_basis: 96.47923965, last_sale_price: 0.0), (Equity(1966 [BLDR]), asset: Equity(1966 [BLDR]), amount: 112, cost_basis: 49.87241695, last_sale_price: 0.0), (Equity(2419 [BX]), asset: Equity(2419 [BX]), amount: 70, cost_basis: 79.2852043, last_sale_price: 0.0), (Equity(3111 [CLF]), asset: Equity(3111 [CLF]), amount: 312, cost_basis: 18.01370255, last_sale_price: 0.0), (Equity(4244 [DKS]), asset: Equity(4244 [DKS]), amount: 66, cost_basis: 84.3385076, last_sale_price: 0.0), (Equity(4669 [EBAY]), asset: Equity(4669 [EBAY]), amount: 86, cost_basis: 64.92727325, last_sale_price: 0.0), (Equity(5170 [ERIC]), asset: Equity(5170 [ERIC]), amount: 400, cost_basis: 14.0419025, last_sale_price: 0.0), (Equity(6965 [GPS]), asset: Equity(6965 [GPS]), amount: 171, cost_basis: 32.72190235, last_sale_price: 0.0), (Equity(12281 [PLAN]), asset: Equity(12281 [PLAN]), amount: 117, cost_basis: 60.4826, last_sale_price: 0.0)])\n",
      "2021-04-20 15:42:00+00:00  Live:symbol:Extended lifetime of asset ADI to 2031-04-20 00:00:00+00:00\n",
      "2021-04-20 15:42:00+00:00  Live:symbol:Extended lifetime of asset ATVI to 2031-04-20 00:00:00+00:00\n",
      "2021-04-20 15:42:00+00:00  Live:symbol:Extended lifetime of asset BLDR to 2031-04-20 00:00:00+00:00\n",
      "2021-04-20 15:42:00+00:00  Live:symbol:Extended lifetime of asset BX to 2031-04-20 00:00:00+00:00\n",
      "2021-04-20 15:42:00+00:00  Live:symbol:Extended lifetime of asset CLF to 2031-04-20 00:00:00+00:00\n",
      "2021-04-20 15:42:00+00:00  Live:symbol:Extended lifetime of asset DKS to 2031-04-20 00:00:00+00:00\n",
      "2021-04-20 15:42:00+00:00  Live:symbol:Extended lifetime of asset EBAY to 2031-04-20 00:00:00+00:00\n",
      "2021-04-20 15:42:00+00:00  Live:symbol:Extended lifetime of asset ERIC to 2031-04-20 00:00:00+00:00\n",
      "2021-04-20 15:42:00+00:00  Live:symbol:Extended lifetime of asset GPS to 2031-04-20 00:00:00+00:00\n",
      "2021-04-20 15:42:00+00:00  Live:symbol:Extended lifetime of asset PLAN to 2031-04-20 00:00:00+00:00\n",
      "2021-04-20 15:42:00+00:00  ___CurrBrokerPosCur: OrderedDict([(Equity(231 [ADI]), asset: Equity(231 [ADI]), amount: 35, cost_basis: 159.48020855, last_sale_price: 0.0), (Equity(1302 [ATVI]), asset: Equity(1302 [ATVI]), amount: 58, cost_basis: 96.47923965, last_sale_price: 0.0), (Equity(1966 [BLDR]), asset: Equity(1966 [BLDR]), amount: 112, cost_basis: 49.87241695, last_sale_price: 0.0), (Equity(2419 [BX]), asset: Equity(2419 [BX]), amount: 70, cost_basis: 79.2852043, last_sale_price: 0.0), (Equity(3111 [CLF]), asset: Equity(3111 [CLF]), amount: 312, cost_basis: 18.01370255, last_sale_price: 0.0), (Equity(4244 [DKS]), asset: Equity(4244 [DKS]), amount: 66, cost_basis: 84.3385076, last_sale_price: 0.0), (Equity(4669 [EBAY]), asset: Equity(4669 [EBAY]), amount: 86, cost_basis: 64.92727325, last_sale_price: 0.0), (Equity(5170 [ERIC]), asset: Equity(5170 [ERIC]), amount: 400, cost_basis: 14.0419025, last_sale_price: 0.0), (Equity(6965 [GPS]), asset: Equity(6965 [GPS]), amount: 171, cost_basis: 32.72190235, last_sale_price: 0.0), (Equity(12281 [PLAN]), asset: Equity(12281 [PLAN]), amount: 117, cost_basis: 60.4826, last_sale_price: 0.0)])\n",
      "2021-04-20 15:42:00+00:00  ___CurrZiplinPosAft: OrderedDict([(Equity(231 [ADI]), asset: Equity(231 [ADI]), amount: 35, cost_basis: 159.48020855, last_sale_price: 0.0), (Equity(1302 [ATVI]), asset: Equity(1302 [ATVI]), amount: 58, cost_basis: 96.47923965, last_sale_price: 0.0), (Equity(1966 [BLDR]), asset: Equity(1966 [BLDR]), amount: 112, cost_basis: 49.87241695, last_sale_price: 0.0), (Equity(2419 [BX]), asset: Equity(2419 [BX]), amount: 70, cost_basis: 79.2852043, last_sale_price: 0.0), (Equity(3111 [CLF]), asset: Equity(3111 [CLF]), amount: 312, cost_basis: 18.01370255, last_sale_price: 0.0), (Equity(4244 [DKS]), asset: Equity(4244 [DKS]), amount: 66, cost_basis: 84.3385076, last_sale_price: 0.0), (Equity(4669 [EBAY]), asset: Equity(4669 [EBAY]), amount: 86, cost_basis: 64.92727325, last_sale_price: 0.0), (Equity(5170 [ERIC]), asset: Equity(5170 [ERIC]), amount: 400, cost_basis: 14.0419025, last_sale_price: 0.0), (Equity(6965 [GPS]), asset: Equity(6965 [GPS]), amount: 171, cost_basis: 32.72190235, last_sale_price: 0.0), (Equity(12281 [PLAN]), asset: Equity(12281 [PLAN]), amount: 117, cost_basis: 60.4826, last_sale_price: 0.0)])\n",
      "AlgoState file=/home/hca-ws2004/hca/hca-resources/HCA_Fundamentals/strategy.state\n",
      "AlgoState={'momentum_skip_days': 1, 'spy': Equity(14646 [SPY]), 'MINUTES_TO_REBAL': 1, 'pipeline_data': Empty DataFrame\n",
      "Columns: [close, de, dnc, eusd, fcf, fcf_to_eq_rank, mom, mom_av, volm]\n",
      "Index: [], 'initialized': True, 'all_orders': {}, 'ORDERS_DONE': False, 'stock_weights': Series([], dtype: float64), 'REBALANCE_DONE': False, 'auto_close': {}, 'bonds': Equity(8020 [IEF]), 'TF_filter': False, 'bond_weights': Series([], dtype: float64), 'Target_securities_to_buy': 10, 'TRACK_ORDERS_ON': False, 'relative_momentum_lookback': 22, 'top_n_relative_momentum_to_buy': 10, '__state_checksum': '/home/hca-ws2004/hca/hca-resources/HCA_Fundamentals/HCA_Fundamentals_Live.py'}\n",
      "2021-04-20 15:42:00+00:00  IS_LIVE:True execute trade(context, data): time_till_trade=131 curr_min=132 portval=-1176\n",
      "2021-04-20 15:42:00+00:00  BeginTrade\n",
      "2021-04-20 15:42:00+00:00  Update context.portfolio by calling broker.portfolio\n",
      "2021-04-20 15:42:00+00:00  Live:symbol:Extended lifetime of asset ADI to 2031-04-20 00:00:00+00:00\n",
      "2021-04-20 15:42:00+00:00  Live:symbol:Extended lifetime of asset ATVI to 2031-04-20 00:00:00+00:00\n",
      "2021-04-20 15:42:00+00:00  Live:symbol:Extended lifetime of asset BLDR to 2031-04-20 00:00:00+00:00\n",
      "2021-04-20 15:42:00+00:00  Live:symbol:Extended lifetime of asset BX to 2031-04-20 00:00:00+00:00\n",
      "2021-04-20 15:42:00+00:00  Live:symbol:Extended lifetime of asset CLF to 2031-04-20 00:00:00+00:00\n",
      "2021-04-20 15:42:00+00:00  Live:symbol:Extended lifetime of asset DKS to 2031-04-20 00:00:00+00:00\n",
      "2021-04-20 15:42:00+00:00  Live:symbol:Extended lifetime of asset EBAY to 2031-04-20 00:00:00+00:00\n",
      "2021-04-20 15:42:00+00:00  Live:symbol:Extended lifetime of asset ERIC to 2031-04-20 00:00:00+00:00\n",
      "2021-04-20 15:42:00+00:00  Live:symbol:Extended lifetime of asset GPS to 2031-04-20 00:00:00+00:00\n",
      "2021-04-20 15:42:00+00:00  Live:symbol:Extended lifetime of asset PLAN to 2031-04-20 00:00:00+00:00\n",
      "2021-04-20 15:42:00+00:00  trade:___CurrBrokerPosCur: OrderedDict([(Equity(231 [ADI]), asset: Equity(231 [ADI]), amount: 35, cost_basis: 159.48020855, last_sale_price: 0.0), (Equity(1302 [ATVI]), asset: Equity(1302 [ATVI]), amount: 58, cost_basis: 96.47923965, last_sale_price: 0.0), (Equity(1966 [BLDR]), asset: Equity(1966 [BLDR]), amount: 112, cost_basis: 49.87241695, last_sale_price: 0.0), (Equity(2419 [BX]), asset: Equity(2419 [BX]), amount: 70, cost_basis: 79.2852043, last_sale_price: 0.0), (Equity(3111 [CLF]), asset: Equity(3111 [CLF]), amount: 312, cost_basis: 18.01370255, last_sale_price: 0.0), (Equity(4244 [DKS]), asset: Equity(4244 [DKS]), amount: 66, cost_basis: 84.3385076, last_sale_price: 0.0), (Equity(4669 [EBAY]), asset: Equity(4669 [EBAY]), amount: 86, cost_basis: 64.92727325, last_sale_price: 0.0), (Equity(5170 [ERIC]), asset: Equity(5170 [ERIC]), amount: 400, cost_basis: 14.0419025, last_sale_price: 0.0), (Equity(6965 [GPS]), asset: Equity(6965 [GPS]), amount: 171, cost_basis: 32.72190235, last_sale_price: 0.0), (Equity(12281 [PLAN]), asset: Equity(12281 [PLAN]), amount: 117, cost_basis: 60.4826, last_sale_price: 0.0)])\n",
      "2021-04-20 15:42:00+00:00  Subscribing to market data for Equity(14646 [SPY])\n",
      "  ### marketDataType\n",
      "      market_data_type:1\n",
      "      req_id:0\n",
      "2021-04-20 15:42:00+00:00  1 try: Polling IB for subscription to SPY\n",
      "2021-04-20 15:42:00+00:00  1 try: IB Subscription completed for SPY\n",
      "2021-04-20 15:42:00+00:00  SPY_MA_CROSS:True:spy_maFast= 412.20599999999996 :spy_maSlow = 384.2639999999999\n",
      "Traceback (most recent call last):\n",
      "  File \"/home/hca-r2-001/miniconda3/envs/hca/bin/zipline\", line 33, in <module>\n",
      "    sys.exit(load_entry_point('zipline-live', 'console_scripts', 'zipline')())\n",
      "  File \"/home/hca-r2-001/miniconda3/envs/hca/lib/python3.6/site-packages/click/core.py\", line 829, in __call__\n",
      "    return self.main(*args, **kwargs)\n",
      "  File \"/home/hca-r2-001/miniconda3/envs/hca/lib/python3.6/site-packages/click/core.py\", line 782, in main\n",
      "    rv = self.invoke(ctx)\n",
      "  File \"/home/hca-r2-001/miniconda3/envs/hca/lib/python3.6/site-packages/click/core.py\", line 1259, in invoke\n",
      "    return _process_result(sub_ctx.command.invoke(sub_ctx))\n",
      "  File \"/home/hca-r2-001/miniconda3/envs/hca/lib/python3.6/site-packages/click/core.py\", line 1066, in invoke\n",
      "    return ctx.invoke(self.callback, **ctx.params)\n",
      "  File \"/home/hca-r2-001/miniconda3/envs/hca/lib/python3.6/site-packages/click/core.py\", line 610, in invoke\n",
      "    return callback(*args, **kwargs)\n",
      "  File \"/home/hca-r2-001/zipline-broker/zipline/__main__.py\", line 113, in _\n",
      "    return f(*args, **kwargs)\n",
      "  File \"/home/hca-r2-001/miniconda3/envs/hca/lib/python3.6/site-packages/click/decorators.py\", line 21, in new_func\n",
      "    return f(get_current_context(), *args, **kwargs)\n",
      "  File \"/home/hca-r2-001/zipline-broker/zipline/__main__.py\", line 368, in run\n",
      "    data_frame_loaders=None\n",
      "  File \"/home/hca-r2-001/zipline-broker/zipline/utils/run_algo.py\", line 274, in _run\n",
      "    'script': algotext,\n",
      "  File \"/home/hca-r2-001/zipline-broker/zipline/algorithm_live.py\", line 267, in run\n",
      "    daily_stats = super(self.__class__, self).run(*args, **kwargs)\n",
      "  File \"/home/hca-r2-001/zipline-broker/zipline/algorithm.py\", line 653, in run\n",
      "    for perf in self.get_generator():\n",
      "  File \"/home/hca-r2-001/zipline-broker/zipline/gens/tradesimulation.py\", line 205, in transform\n",
      "    for capital_change_packet in every_bar(dt):\n",
      "  File \"/home/hca-r2-001/zipline-broker/zipline/gens/tradesimulation.py\", line 133, in every_bar\n",
      "    handle_data(algo, current_data, dt_to_use)\n",
      "  File \"/home/hca-r2-001/zipline-broker/zipline/utils/events.py\", line 216, in handle_data\n",
      "    dt,\n",
      "  File \"/home/hca-r2-001/zipline-broker/zipline/utils/events.py\", line 235, in handle_data\n",
      "    self.callback(context, data)\n",
      "  File \"/home/hca-ws2004/hca/hca-resources/HCA_Fundamentals/HCA_Fundamentals_Live.py\", line 378, in rebalance\n",
      "    trade(context, data)\n",
      "  File \"/home/hca-ws2004/hca/hca-resources/HCA_Fundamentals/HCA_Fundamentals_Live.py\", line 419, in trade\n",
      "    prices = data.history(df.index,\"close\", context.relative_momentum_lookback + 1, \"1d\") #180\n",
      "  File \"zipline/_protocol.pyx\", line 121, in zipline._protocol.check_parameters.__call__.assert_keywords_and_call\n",
      "  File \"zipline/_protocol.pyx\", line 647, in zipline._protocol.BarData.history\n",
      "  File \"/home/hca-r2-001/zipline-broker/zipline/data/data_portal_live.py\", line 62, in get_history_window\n",
      "    realtime_bars = realtime_bars.swaplevel(0, 1, axis=1)\n",
      "  File \"/home/hca-r2-001/miniconda3/envs/hca/lib/python3.6/site-packages/pandas/core/frame.py\", line 3841, in swaplevel\n",
      "    result.columns = result.columns.swaplevel(i, j)\n",
      "AttributeError: 'Index' object has no attribute 'swaplevel'\n"
     ]
    }
   ],
   "source": [
    "ALGO_STATE = ALGO_PATH + \"strategy.state\" \n",
    "ALGO_RTB   = ALGO_PATH + \"realtime-bars/\"\n",
    "\n",
    "# Edit the following URI to match your IB account and port info.\n",
    "IB_ACCT = \"DU1568488\"\n",
    "IB_URI = \"127.0.0.1:7497:1301\"\n",
    "BUNDLE = 'sharadar-eqfd'\n",
    "#BUNDLE = 'yahoo_direct'\n",
    "#BUNDLE = 'hca_symbol'\n",
    "!echo zipline run \\\n",
    "        -s $TODAY \\\n",
    "        -f $ALGO_LIVE \\\n",
    "        --bundle $BUNDLE \\\n",
    "        --broker ib \\\n",
    "        --broker-uri $IB_URI \\\n",
    "        --broker-acct $IB_ACCT \\\n",
    "        --data-frequency daily \\\n",
    "        --state-file $ALGO_STATE \\\n",
    "        --realtime-bar-target $ALGO_RTB \n",
    "# Change following to 'True' and run cell (control-enter) to execute live run.\n",
    "#I_WANT_TO_RUN_THIS_CODE = False\n",
    "I_WANT_TO_RUN_THIS_CODE = True\n",
    "\n",
    "if I_WANT_TO_RUN_THIS_CODE:    \n",
    "    !zipline run \\\n",
    "        -s $TODAY \\\n",
    "        -f $ALGO_LIVE \\\n",
    "        --bundle $BUNDLE \\\n",
    "        --broker ib \\\n",
    "        --broker-uri $IB_URI \\\n",
    "        --broker-acct $IB_ACCT \\\n",
    "        --data-frequency daily \\\n",
    "        --state-file $ALGO_STATE \\\n",
    "        --realtime-bar-target $ALGO_RTB "
   ]
  },
  {
   "cell_type": "code",
   "execution_count": null,
   "metadata": {},
   "outputs": [],
   "source": [
    "\n"
   ]
  },
  {
   "cell_type": "code",
   "execution_count": null,
   "metadata": {},
   "outputs": [],
   "source": []
  }
 ],
 "metadata": {
  "hide_input": false,
  "kernelspec": {
   "display_name": "hca-py3.6.7",
   "language": "python",
   "name": "hca"
  },
  "language_info": {
   "codemirror_mode": {
    "name": "ipython",
    "version": 3
   },
   "file_extension": ".py",
   "mimetype": "text/x-python",
   "name": "python",
   "nbconvert_exporter": "python",
   "pygments_lexer": "ipython3",
   "version": "3.6.7"
  }
 },
 "nbformat": 4,
 "nbformat_minor": 4
}
