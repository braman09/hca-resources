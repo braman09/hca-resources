{
 "cells": [
  {
   "cell_type": "markdown",
   "metadata": {},
   "source": [
    "## HotChili Analytics trading notebook template\n",
    "#### Configure by setting ALGO_NAME in cell below.\n",
    "#### Run various options (backtest, ingest, live) by uncommenting one cell "
   ]
  },
  {
   "cell_type": "code",
   "execution_count": 1,
   "metadata": {},
   "outputs": [
    {
     "name": "stderr",
     "output_type": "stream",
     "text": [
      "/home/hca-r2-001/miniconda3/envs/hca/lib/python3.6/site-packages/h5py/__init__.py:36: FutureWarning: Conversion of the second argument of issubdtype from `float` to `np.floating` is deprecated. In future, it will be treated as `np.float64 == np.dtype(float).type`.\n",
      "  from ._conv import register_converters as _register_converters\n",
      "/home/hca-r2-001/miniconda3/envs/hca/lib/python3.6/site-packages/odo/backends/pandas.py:94: FutureWarning: pandas.tslib is deprecated and will be removed in a future version.\n",
      "You can access NaTType as type(pandas.NaT)\n",
      "  @convert.register((pd.Timestamp, pd.Timedelta), (pd.tslib.NaTType, type(None)))\n"
     ]
    }
   ],
   "source": [
    "%matplotlib inline\n",
    "%load_ext zipline\n",
    "\n",
    "# %reload_ext zipline # Uncomment and use this when already loaded zipline extension for magic cell usage."
   ]
  },
  {
   "cell_type": "code",
   "execution_count": 2,
   "metadata": {},
   "outputs": [],
   "source": [
    "import pandas as pd\n",
    "\n",
    "# Options you can uncomment and set:\n",
    "\n",
    "# pd.set_option(\"max_colwidth\", 300)\n",
    "# pd.set_option(\"display.max_rows\", 300)\n",
    "# pd.set_option(\"display.max_columns\", 50)\n",
    "# pd.set_option('precision', 2)\n",
    "# pd.options.display.float_format = '{:20,.2f}'.format"
   ]
  },
  {
   "cell_type": "code",
   "execution_count": 3,
   "metadata": {},
   "outputs": [
    {
     "name": "stdout",
     "output_type": "stream",
     "text": [
      "hca_root_path = /home/hca-ws2004/hca\n"
     ]
    }
   ],
   "source": [
    "import os\n",
    "\n",
    "hca_root_path = os.environ['HCA_ROOT']\n",
    "print(f\"hca_root_path = {hca_root_path}\")"
   ]
  },
  {
   "cell_type": "markdown",
   "metadata": {},
   "source": [
    "# Construct algorithm strategy path names\n",
    "\n",
    "Assumptions:\n",
    "\n",
    "- the strategy is in a directory with the same name as the strategy in `ALGO_NAME` below\n",
    "- the strategy is located in the hca-resources directory, which is located relative to `hca_root_path`, found above"
   ]
  },
  {
   "cell_type": "code",
   "execution_count": 4,
   "metadata": {},
   "outputs": [],
   "source": [
    "ALGO_NAME = \"HCA_Fundamentals\" # <--- Supply name here"
   ]
  },
  {
   "cell_type": "markdown",
   "metadata": {},
   "source": [
    "Other variables are derived from `ALGO_NAME`:"
   ]
  },
  {
   "cell_type": "code",
   "execution_count": 5,
   "metadata": {},
   "outputs": [
    {
     "name": "stdout",
     "output_type": "stream",
     "text": [
      "\n",
      "ALGO_NAME          = HCA_Fundamentals\n",
      "HCA_RESOURCES_PATH = /home/hca-ws2004/hca/hca-resources/\n",
      "ALGO_PATH          = /home/hca-ws2004/hca/hca-resources/HCA_Fundamentals/\n",
      "ALGO_BT            = /home/hca-ws2004/hca/hca-resources/HCA_Fundamentals/HCA_Fundamentals_Live.py\n",
      "ALGO_BT_OUT        = /home/hca-ws2004/hca/hca-resources/HCA_Fundamentals/HCA_Fundamentals.pkl\n",
      "ALGO_LIVE          = /home/hca-ws2004/hca/hca-resources/HCA_Fundamentals/HCA_Fundamentals_Live.py\n",
      "\n",
      "Contents of algo directory:\n",
      "\n",
      "Fundy_sharadar_test.ipynb  HCA_Fundamentals.pkl\t\t     strategy.state\n",
      "HCA_Fundamentals.ipynb\t   HCA_Fundamentals_tearsheet.ipynb\n",
      "HCA_Fundamentals_Live.py   realtime-bars\n"
     ]
    }
   ],
   "source": [
    "HCA_RESOURCES_PATH = hca_root_path + \"/hca-resources/\" \n",
    "ALGO_PATH          = HCA_RESOURCES_PATH + ALGO_NAME + \"/\" \n",
    "ALGO_BT            = ALGO_PATH + ALGO_NAME + \"_Live\" + \".py\"\n",
    "ALGO_BT_OUT        = ALGO_PATH + ALGO_NAME + \".pkl\"\n",
    "ALGO_LIVE          = ALGO_PATH + ALGO_NAME + \"_Live\" + \".py\"\n",
    "\n",
    "print(f\"\"\"\n",
    "ALGO_NAME          = {ALGO_NAME}\n",
    "HCA_RESOURCES_PATH = {HCA_RESOURCES_PATH}\n",
    "ALGO_PATH          = {ALGO_PATH}\n",
    "ALGO_BT            = {ALGO_BT}\n",
    "ALGO_BT_OUT        = {ALGO_BT_OUT}\n",
    "ALGO_LIVE          = {ALGO_LIVE}\n",
    "\n",
    "Contents of algo directory:\n",
    "\"\"\")\n",
    "\n",
    "!ls $ALGO_PATH"
   ]
  },
  {
   "cell_type": "markdown",
   "metadata": {},
   "source": [
    "## Zipline backtest: \n",
    "\n",
    "- Method: Jupyter magic cell (%%) \n",
    "- Execution of zipline code in cell containing command line command\n",
    "- Uncomment first line and hit (shift-enter) inside the cell to run simulation backtest"
   ]
  },
  {
   "cell_type": "markdown",
   "metadata": {},
   "source": [
    "## Display your current bundles"
   ]
  },
  {
   "cell_type": "code",
   "execution_count": 28,
   "metadata": {},
   "outputs": [
    {
     "name": "stdout",
     "output_type": "stream",
     "text": [
      "/home/hca-r2-001/miniconda3/envs/hca/lib/python3.6/site-packages/h5py/__init__.py:36: FutureWarning: Conversion of the second argument of issubdtype from `float` to `np.floating` is deprecated. In future, it will be treated as `np.float64 == np.dtype(float).type`.\n",
      "  from ._conv import register_converters as _register_converters\n",
      "/home/hca-r2-001/miniconda3/envs/hca/lib/python3.6/site-packages/odo/backends/pandas.py:94: FutureWarning: pandas.tslib is deprecated and will be removed in a future version.\n",
      "You can access NaTType as type(pandas.NaT)\n",
      "  @convert.register((pd.Timestamp, pd.Timedelta), (pd.tslib.NaTType, type(None)))\n",
      "extension: hca_root_path = /home/hca-ws2004/hca\n",
      "extension:TODAY_STR = 2021-05-18\n",
      "extension:TWO_YR_AGO_STR = 2019-05-18\n",
      "extension:  start_date=2019-05-18 end_date = 2021-05-18\n",
      "csvdir <no ingestions>\n",
      "hca-symbol <no ingestions>\n",
      "iex <no ingestions>\n",
      "quandl 2021-04-21 22:21:40.481400\n",
      "quandl 2021-04-21 22:20:52.473634\n",
      "quantopian-quandl 2021-04-21 16:49:35.838015\n",
      "sharadar-eqfd 2021-05-17 11:30:27.459371\n",
      "sharadar-eqfd 2021-05-12 11:56:30.538732\n",
      "sharadar-eqfd 2021-05-11 11:11:45.444081\n",
      "sharadar-eqfd 2021-05-10 11:43:54.029288\n",
      "sharadar-eqfd 2021-05-07 12:35:34.761336\n",
      "sharadar-eqfd 2021-05-06 11:46:29.099015\n",
      "sharadar-eqfd 2021-05-05 11:22:07.404893\n",
      "sharadar-eqfd 2021-05-04 11:39:15.307522\n",
      "sharadar-eqfd 2021-05-03 18:27:26.149691\n",
      "sharadar-eqfd 2021-04-30 11:34:42.381522\n",
      "sharadar-eqfd 2021-04-28 11:16:55.467234\n",
      "sharadar-eqfd 2021-04-27 12:15:57.492367\n",
      "sharadar-funds 2021-05-17 10:56:59.370252\n",
      "sharadar-funds 2021-05-12 11:20:43.632315\n",
      "sharadar-funds 2021-05-11 10:36:27.380042\n",
      "sharadar-funds 2021-05-10 11:11:08.974406\n",
      "sharadar-funds 2021-05-07 12:01:49.267944\n",
      "sharadar-funds 2021-05-06 11:12:41.489740\n",
      "sharadar-funds 2021-05-05 10:48:37.336320\n",
      "sharadar-funds 2021-05-04 11:06:03.831283\n",
      "sharadar-funds 2021-05-03 17:49:30.092690\n",
      "sharadar-funds 2021-04-30 11:00:01.813456\n",
      "sharadar-funds 2021-04-28 10:41:11.273387\n",
      "sharadar-funds 2021-04-27 11:40:32.773359\n",
      "sharadar-prices 2021-05-17 11:01:53.912649\n",
      "sharadar-prices 2021-05-12 11:26:02.700056\n",
      "sharadar-prices 2021-05-11 10:42:11.031641\n",
      "sharadar-prices 2021-05-10 11:16:06.921820\n",
      "sharadar-prices 2021-05-07 12:06:47.106294\n",
      "sharadar-prices 2021-05-06 11:17:42.527170\n",
      "sharadar-prices 2021-05-05 10:53:32.816073\n",
      "sharadar-prices 2021-05-04 11:11:02.719758\n",
      "sharadar-prices 2021-05-03 17:55:35.167794\n",
      "sharadar-prices 2021-04-30 11:05:17.426278\n",
      "sharadar-prices 2021-04-28 10:46:30.686137\n",
      "sharadar-prices 2021-04-27 11:46:14.197600\n",
      "yahoo_csv <no ingestions>\n",
      "yahoo_direct 2021-05-04 18:38:25.273784\n",
      "yahoo_direct 2021-05-04 18:35:56.609295\n",
      "yahoo_direct 2021-04-18 23:01:33.726689\n"
     ]
    }
   ],
   "source": [
    "!zipline bundles # Finds all bundles"
   ]
  },
  {
   "cell_type": "markdown",
   "metadata": {},
   "source": [
    "## Ingest Bundle funds assets. "
   ]
  },
  {
   "cell_type": "code",
   "execution_count": 7,
   "metadata": {},
   "outputs": [],
   "source": [
    "# Ingest Sharadar funds assets for today, if needed.\n",
    "\n",
    "# Only need to ingest Funds for this algo, and this takes less processing time and system memory than ingesting\n",
    "# all of Sharadar Equities plus Funds bundle (sharadar-eqfd)\n",
    "\n",
    "# Yahoo Direct Data Bundle Ingest\n",
    "# Quick way\n",
    "# !export YAHOO_SYM_LST=SPY,ZSL,KOLD,GLD,SHY,XLP,IEF,TLT,QQQ;zipline ingest -b yahoo_direct\n",
    "\n",
    "# Long way - Set environ variable, so can use it later after bundle is created to find out what is in the bundle.\n",
    "#os.environ[\"YAHOO_SYM_LST\"] = \"SPY,ZSL,KOLD,GLD,SHY,XLP,IEF,TLT,QQQ\"\n",
    "#!zipline ingest -b yahoo_direct\n",
    "#yahoo_direct_sym_lst = os.environ['YAHOO_SYM_LST']\n",
    "#print(f\"yahoo_direct_sym_lst = {yahoo_direct_sym_lst}\")\n",
    "\n",
    "#!zipline ingest -b sharadar-funds \n",
    "#!zipline ingest -b sharadar-prices \n",
    "##### !zipline ingest -b hca-symbol\n"
   ]
  },
  {
   "cell_type": "markdown",
   "metadata": {},
   "source": [
    "## Zipline backtest, alternative method\n",
    "\n",
    "- Method: command line\n",
    "- Execution of zipline code, located in a file, using below command line execution with magic (`!`) invocation\n",
    "- This line can also be run in a terminal by copying everything past the `!` and pasting (shift-insert) it into the target terminal"
   ]
  },
  {
   "cell_type": "code",
   "execution_count": 8,
   "metadata": {
    "scrolled": true,
    "tags": []
   },
   "outputs": [
    {
     "name": "stdout",
     "output_type": "stream",
     "text": [
      "/home/hca-r2-001/miniconda3/envs/hca/lib/python3.6/site-packages/h5py/__init__.py:36: FutureWarning: Conversion of the second argument of issubdtype from `float` to `np.floating` is deprecated. In future, it will be treated as `np.float64 == np.dtype(float).type`.\n",
      "  from ._conv import register_converters as _register_converters\n",
      "/home/hca-r2-001/miniconda3/envs/hca/lib/python3.6/site-packages/odo/backends/pandas.py:94: FutureWarning: pandas.tslib is deprecated and will be removed in a future version.\n",
      "You can access NaTType as type(pandas.NaT)\n",
      "  @convert.register((pd.Timestamp, pd.Timedelta), (pd.tslib.NaTType, type(None)))\n",
      "extension: hca_root_path = /home/hca-ws2004/hca\n",
      "extension:TODAY_STR = 2021-05-18\n",
      "extension:TWO_YR_AGO_STR = 2019-05-18\n",
      "extension:  start_date=2019-05-18 end_date = 2021-05-18\n",
      "[2021-05-18 14:46:08.767794] INFO: Loader: Cache at /home/hca-ws2004/zipline-broker/data/SPY_benchmark.csv does not have data from 1990-01-02 00:00:00+00:00 to 2021-05-18 00:00:00+00:00.\n",
      "\n",
      "[2021-05-18 14:46:08.768089] INFO: Loader: Downloading benchmark data for 'SPY' from 1989-12-29 00:00:00+00:00 to 2021-05-18 00:00:00+00:00\n",
      "[2021-05-18 14:46:09.797092] WARNING: Loader: Still don't have expected benchmark data for 'SPY' from 1989-12-29 00:00:00+00:00 to 2021-05-18 00:00:00+00:00 after redownload!\n",
      "[2021-05-18 14:46:09.881862] INFO: Loader: Cache at /home/hca-ws2004/zipline-broker/data/treasury_curves.csv does not have data from 1990-01-02 00:00:00+00:00 to 2021-05-18 00:00:00+00:00.\n",
      "\n",
      "[2021-05-18 14:46:09.882036] INFO: Loader: Downloading treasury data for 'SPY' from 1990-01-02 00:00:00+00:00 to 2021-05-18 00:00:00+00:00\n",
      "[2021-05-18 14:46:12.117440] WARNING: Loader: Still don't have expected treasury data for 'SPY' from 1990-01-02 00:00:00+00:00 to 2021-05-18 00:00:00+00:00 after redownload!\n",
      "['2021-04-10T03;06;58', '2021-04-16T01;50;05', '2021-04-20T02;20;19', '2021-04-21T01;36;08', '2021-04-22T02;51;18', '2021-04-30T10;21;43', '2021-05-04T02;22;23', '2021-05-06T03;07;58', '2021-05-10T03;38;13', '2021-05-11T10;37;27', '2021-05-17T03;52;22']\n",
      "cur_folder= /home/hca-ws2004/hca/alphatools/alphatools/fundamentals\n",
      "enac_fundamentals_pkl= /home/hca-ws2004/zipline-broker/data/fundem-sharadar-sf1/2021-05-17T03;52;22/quandal_sharadar_sf1.pkl\n",
      "Non-sid Fund Count=False    102588\n",
      "True       3703\n",
      "Name: sid, dtype: int64\n",
      "Non-sid Fund TotalCount=3703\n",
      "\n",
      "SF1 Table needs to extend sessions from:max datekey:2021-05-14 tp  current date:2021-05-18 14:46:12.851390 ExtendRange:DatetimeIndex(['2021-05-14', '2021-05-17', '2021-05-18'], dtype='datetime64[ns, UTC]', freq='C')\n",
      "\n",
      "Adding fundamental:revenue\n",
      "Adding fundamental:opex\n",
      "Adding fundamental:netinc\n",
      "Adding fundamental:equity\n",
      "Adding fundamental:debt\n",
      "Adding fundamental:ebitda\n",
      "Adding fundamental:revenueusd\n",
      "Adding fundamental:debtusd\n",
      "Adding fundamental:dps\n",
      "Adding fundamental:fcf\n",
      "Adding fundamental:gp\n",
      "Adding fundamental:grossmargin\n",
      "Adding fundamental:netmargin\n",
      "Adding fundamental:ros\n",
      "Adding fundamental:payoutratio\n",
      "Adding fundamental:pe1\n",
      "Adding fundamental:ps1\n",
      "Adding fundamental:pb\n",
      "Adding fundamental:divyield\n",
      "Adding fundamental:currentratio\n",
      "Adding fundamental:de\n",
      "Adding fundamental:marketcap\n",
      "Adding fundamental:debtnc\n",
      "Adding fundamental:equityusd\n",
      "Added to sys.path: LOCAL_ZL_LIVE_PATH = /home/hca-ws2004/hca/hca-resources/HCA_Fundamentals\n",
      "  Pipeline pipeline attached\n",
      "FrameLoad: Dates:03-01-2019 --> 04-08-2019 columns:[Fundamentals.debtnc::float64] CountNonNan:66365\n",
      "FrameLoad: Dates:03-01-2019 --> 04-08-2019 columns:[Fundamentals.equityusd::float64] CountNonNan:83242\n",
      "FrameLoad: Dates:04-01-2019 --> 04-08-2019 columns:[Fundamentals.de::float64] CountNonNan:18627\n",
      "FrameLoad: Dates:03-01-2019 --> 04-08-2019 columns:[Fundamentals.fcf::float64] CountNonNan:81330\n",
      "FrameLoad: Dates:03-01-2019 --> 04-08-2019 columns:[Fundamentals.marketcap::float64] CountNonNan:83188\n",
      "InAC: CurDate=2019-04-01 12:45:00+00:00 context.auto_close={}\n",
      "2019-04-01 12:45:00+00:00  Time:before_trading_start:US/Eastern 2019-04-01 08:45:00-04:00\n",
      "NumAssetsDropped=0\n",
      "Keep Asset:Equity(0 [A]) exchange:0\n",
      "Keep Asset:Equity(1 [AA]) exchange:0\n",
      "Remove Asset:Equity(45 [AAXJ]) exchange:1\n",
      "Keep Asset:Equity(235 [ADI]) exchange:0\n",
      "Keep Asset:Equity(632 [ALL]) exchange:0\n",
      "Keep Asset:Equity(736 [AMD]) exchange:0\n",
      "Keep Asset:Equity(1917 [BJ]) exchange:0\n",
      "Keep Asset:Equity(2671 [CC]) exchange:0\n",
      "Keep Asset:Equity(3134 [CLDR]) exchange:0\n",
      "Keep Asset:Equity(3779 [CUBE]) exchange:0\n",
      "Remove Asset:Equity(5466 [EWY]) exchange:1\n",
      "Keep Asset:Equity(5567 [FB]) exchange:0\n",
      "Remove Asset:Equity(5719 [FEZ]) exchange:1\n",
      "Keep Asset:Equity(6292 [FTCH]) exchange:0\n",
      "Keep Asset:Equity(6869 [GLW]) exchange:0\n",
      "Keep Asset:Equity(7656 [HON]) exchange:0\n",
      "Keep Asset:Equity(9026 [JWN]) exchange:0\n",
      "Remove Asset:Equity(9800 [LQD]) exchange:1\n",
      "Keep Asset:Equity(9987 [MAS]) exchange:0\n",
      "Keep Asset:Equity(11122 [NLSN]) exchange:0\n",
      "Keep Asset:Equity(12025 [PBCT]) exchange:0\n",
      "BeforeTrStrt:                         close      de           dnc          eusd  \\\n",
      "index                                                               \n",
      "Equity(0 [A])          78.960   0.778  1.798000e+09  5.036000e+09   \n",
      "Equity(1 [AA])         28.160   1.585  1.801000e+09  5.389000e+09   \n",
      "Equity(235 [ADI])     101.082  12.030  1.052750e+10  2.332100e+09   \n",
      "Equity(632 [ALL])      90.191   1.042  2.273837e+09  4.241922e+09   \n",
      "Equity(736 [AMD])      25.520   1.640  8.698000e+09  1.006800e+10   \n",
      "Equity(1917 [BJ])      27.400   8.542  9.836430e+08  3.227100e+08   \n",
      "Equity(2671 [CC])      32.864   1.029  1.512000e+09  3.222000e+09   \n",
      "Equity(3134 [CLDR])    10.940   0.732  5.370000e+08  1.446000e+09   \n",
      "Equity(3779 [CUBE])    29.498   1.938  3.373000e+09  4.306000e+09   \n",
      "Equity(5567 [FB])     166.690   2.168  9.756000e+09  1.818000e+10   \n",
      "Equity(6292 [FTCH])    26.910   1.704  6.556000e+08  3.691500e+09   \n",
      "Equity(6869 [GLW])     31.205   0.925  1.971131e+09  3.625189e+09   \n",
      "Equity(7656 [HON])    151.674   3.438  9.850210e+08  5.900630e+08   \n",
      "Equity(9026 [JWN])     42.313   2.584  6.336500e+09  3.146000e+09   \n",
      "Equity(9987 [MAS])     38.404  -7.924  9.130700e+09 -2.884900e+09   \n",
      "Equity(11122 [NLSN])   22.467   2.655  1.222700e+10  1.129700e+10   \n",
      "Equity(12025 [PBCT])   14.679   0.408  5.815500e+08  4.435203e+09   \n",
      "\n",
      "                               fcf  ltd_to_eq_rank       mom    mom_av  \\\n",
      "index                                                                    \n",
      "Equity(0 [A])         1.740000e+08        0.357029  0.135733  0.175376   \n",
      "Equity(1 [AA])        3.870000e+08        0.334199 -0.299653 -0.331360   \n",
      "Equity(235 [ADI])     6.790000e+08        4.514172  0.139313  0.133648   \n",
      "Equity(632 [ALL])     2.634280e+08        0.536039 -0.043844 -0.056739   \n",
      "Equity(736 [AMD])     4.620000e+08        0.863925 -0.197112 -0.175684   \n",
      "Equity(1917 [BJ])     1.970490e+08        3.048071  0.051558 -0.035991   \n",
      "Equity(2671 [CC])     1.800000e+08        0.469274 -0.057805 -0.077922   \n",
      "Equity(3134 [CLDR])   2.380000e+08        0.371369 -0.396985 -0.225848   \n",
      "Equity(3779 [CUBE])   1.228000e+09        0.783326  0.115470  0.049962   \n",
      "Equity(5567 [FB])     1.264000e+09        0.536634 -0.006923  0.003062   \n",
      "Equity(6292 [FTCH])   5.489000e+08        0.177597 -0.031735 -0.053432   \n",
      "Equity(6869 [GLW])    2.483600e+08        0.543732 -0.067701 -0.004888   \n",
      "Equity(7656 [HON])    1.528920e+08        1.669349 -0.041775 -0.049380   \n",
      "Equity(9026 [JWN])    1.599000e+08        2.014145 -0.260219 -0.291937   \n",
      "Equity(9987 [MAS])    1.947600e+09       -3.164997  0.053194  0.030791   \n",
      "Equity(11122 [NLSN])  1.752000e+09        1.082323 -0.140389 -0.019222   \n",
      "Equity(12025 [PBCT])  2.988570e+08        0.131121 -0.029668 -0.061017   \n",
      "\n",
      "                            volm  \n",
      "index                             \n",
      "Equity(0 [A])          1585137.0  \n",
      "Equity(1 [AA])         3381983.0  \n",
      "Equity(235 [ADI])      2777696.0  \n",
      "Equity(632 [ALL])      2085246.0  \n",
      "Equity(736 [AMD])     53502807.0  \n",
      "Equity(1917 [BJ])      1507885.0  \n",
      "Equity(2671 [CC])      2551800.0  \n",
      "Equity(3134 [CLDR])    3271392.0  \n",
      "Equity(3779 [CUBE])    1882221.0  \n",
      "Equity(5567 [FB])     13455454.0  \n",
      "Equity(6292 [FTCH])    1630592.0  \n",
      "Equity(6869 [GLW])     4370032.0  \n",
      "Equity(7656 [HON])     2541847.0  \n",
      "Equity(9026 [JWN])     2137515.0  \n",
      "Equity(9987 [MAS])     3156046.0  \n",
      "Equity(11122 [NLSN])  10097946.0  \n",
      "Equity(12025 [PBCT])   7712280.0  \n",
      "2019-04-01 12:45:00+00:00  BTS___CurrZiplinPosBef: {}\n",
      "Traceback (most recent call last):\n",
      "  File \"/home/hca-r2-001/miniconda3/envs/hca/bin/zipline\", line 33, in <module>\n",
      "    sys.exit(load_entry_point('zipline-live', 'console_scripts', 'zipline')())\n",
      "  File \"/home/hca-r2-001/miniconda3/envs/hca/lib/python3.6/site-packages/click/core.py\", line 829, in __call__\n",
      "    return self.main(*args, **kwargs)\n",
      "  File \"/home/hca-r2-001/miniconda3/envs/hca/lib/python3.6/site-packages/click/core.py\", line 782, in main\n",
      "    rv = self.invoke(ctx)\n",
      "  File \"/home/hca-r2-001/miniconda3/envs/hca/lib/python3.6/site-packages/click/core.py\", line 1259, in invoke\n",
      "    return _process_result(sub_ctx.command.invoke(sub_ctx))\n",
      "  File \"/home/hca-r2-001/miniconda3/envs/hca/lib/python3.6/site-packages/click/core.py\", line 1066, in invoke\n",
      "    return ctx.invoke(self.callback, **ctx.params)\n",
      "  File \"/home/hca-r2-001/miniconda3/envs/hca/lib/python3.6/site-packages/click/core.py\", line 610, in invoke\n",
      "    return callback(*args, **kwargs)\n",
      "  File \"/home/hca-r2-001/zipline-broker/zipline/__main__.py\", line 113, in _\n",
      "    return f(*args, **kwargs)\n",
      "  File \"/home/hca-r2-001/miniconda3/envs/hca/lib/python3.6/site-packages/click/decorators.py\", line 21, in new_func\n",
      "    return f(get_current_context(), *args, **kwargs)\n",
      "  File \"/home/hca-r2-001/zipline-broker/zipline/__main__.py\", line 368, in run\n",
      "    data_frame_loaders=None\n",
      "  File \"/home/hca-r2-001/zipline-broker/zipline/utils/run_algo.py\", line 274, in _run\n",
      "    'script': algotext,\n",
      "  File \"/home/hca-r2-001/zipline-broker/zipline/algorithm.py\", line 653, in run\n",
      "    for perf in self.get_generator():\n",
      "  File \"/home/hca-r2-001/zipline-broker/zipline/gens/tradesimulation.py\", line 223, in transform\n",
      "    algo.before_trading_start(self.current_data)\n",
      "  File \"/home/hca-r2-001/zipline-broker/zipline/algorithm.py\", line 454, in before_trading_start\n",
      "    self._before_trading_start(self, data)\n",
      "  File \"/home/hca-ws2004/hca/hca-resources/HCA_Fundamentals/HCA_Fundamentals_Live.py\", line 270, in before_trading_start\n",
      "    log.info(\"BTS___CurrBrokerPosCur: {}\".format(context.broker.positions))\n",
      "AttributeError: 'TradingAlgorithm' object has no attribute 'broker'\n"
     ]
    }
   ],
   "source": [
    "!zipline run -f $ALGO_LIVE  --start=2019-04-01 --end=2021-04-15 -b sharadar-eqfd -o $ALGO_BT_OUT"
   ]
  },
  {
   "cell_type": "markdown",
   "metadata": {
    "tags": []
   },
   "source": [
    "## Run Zipline live on IB-TWS via command line\n",
    "\n",
    "- Method: command line\n",
    "- Execution of zipline code using below command line execution using magic (`!`) invocation\n",
    "\n",
    "**Notes:** \n",
    "- IB-TWS or IB-Gateway must be running, with `IB_ACCT` and `IB_URI` port being correct to live trade\n",
    "- Change `I_WANT_TO_RUN_THIS_CODE` to `True` below to run zipline live on IB-TWS/IB-Gateway"
   ]
  },
  {
   "cell_type": "code",
   "execution_count": 9,
   "metadata": {},
   "outputs": [
    {
     "name": "stdout",
     "output_type": "stream",
     "text": [
      "TODAY = 2021-05-18\n"
     ]
    }
   ],
   "source": [
    "TODAY = pd.datetime.today().strftime(\"%Y-%m-%d\")\n",
    "print(\"TODAY = {}\".format(TODAY))"
   ]
  },
  {
   "cell_type": "code",
   "execution_count": null,
   "metadata": {},
   "outputs": [],
   "source": []
  },
  {
   "cell_type": "code",
   "execution_count": 10,
   "metadata": {},
   "outputs": [
    {
     "name": "stdout",
     "output_type": "stream",
     "text": [
      "zipline run -s 2021-05-18 -f /home/hca-ws2004/hca/hca-resources/HCA_Fundamentals/HCA_Fundamentals_Live.py --bundle sharadar-eqfd --broker ib --broker-uri 127.0.0.1:7497:1301 --broker-acct DU1568488 --data-frequency daily --state-file /home/hca-ws2004/hca/hca-resources/HCA_Fundamentals/strategy.state --realtime-bar-target /home/hca-ws2004/hca/hca-resources/HCA_Fundamentals/realtime-bars/\n"
     ]
    }
   ],
   "source": [
    "ALGO_STATE = ALGO_PATH + \"strategy.state\" \n",
    "ALGO_RTB   = ALGO_PATH + \"realtime-bars/\"\n",
    "\n",
    "# Edit the following URI to match your IB account and port info.\n",
    "IB_ACCT = \"DU1568488\"\n",
    "IB_URI = \"127.0.0.1:7497:1301\"\n",
    "BUNDLE = 'sharadar-eqfd'\n",
    "#BUNDLE = 'yahoo_direct'\n",
    "#BUNDLE = 'hca_symbol'\n",
    "!echo zipline run \\\n",
    "        -s $TODAY \\\n",
    "        -f $ALGO_LIVE \\\n",
    "        --bundle $BUNDLE \\\n",
    "        --broker ib \\\n",
    "        --broker-uri $IB_URI \\\n",
    "        --broker-acct $IB_ACCT \\\n",
    "        --data-frequency daily \\\n",
    "        --state-file $ALGO_STATE \\\n",
    "        --realtime-bar-target $ALGO_RTB \n",
    "# Change following to 'True' and run cell (control-enter) to execute live run.\n",
    "I_WANT_TO_RUN_THIS_CODE = False\n",
    "#I_WANT_TO_RUN_THIS_CODE = True\n",
    "\n",
    "if I_WANT_TO_RUN_THIS_CODE:    \n",
    "    !zipline run \\\n",
    "        -s $TODAY \\\n",
    "        -f $ALGO_LIVE \\\n",
    "        --bundle $BUNDLE \\\n",
    "        --broker ib \\\n",
    "        --broker-uri $IB_URI \\\n",
    "        --broker-acct $IB_ACCT \\\n",
    "        --data-frequency daily \\\n",
    "        --state-file $ALGO_STATE \\\n",
    "        --realtime-bar-target $ALGO_RTB "
   ]
  },
  {
   "cell_type": "code",
   "execution_count": 30,
   "metadata": {},
   "outputs": [],
   "source": [
    "import os\n",
    "\n",
    "\n",
    "#os.environ['ZIPLINE_ROOT'] = os.path.join(os.getcwd(), '.zipline')\n",
    "\n",
    "os.listdir(os.environ['ZIPLINE_ROOT'])\n",
    "import zipline\n",
    "from zipline.data import bundles\n",
    "\n",
    "bundle_name = 'sharadar-prices'\n",
    "bundle_data = bundles.load(bundle_name)\n",
    "from zipline.pipeline.loaders import USEquityPricingLoader\n",
    "from zipline.utils.calendars import get_calendar\n",
    "from zipline.pipeline.data import USEquityPricing\n",
    "from zipline.data.data_portal import DataPortal\n",
    "\n",
    "import pandas as pd\n",
    "\n",
    "# Set the dataloader\n",
    "pricing_loader = USEquityPricingLoader(bundle_data.equity_daily_bar_reader, bundle_data.adjustment_reader)\n",
    "#new pricing_loader = USEquityPricingLoader.without_fx(bundle_data.equity_daily_bar_reader, bundle_data.adjustment_reader)\n",
    "\n",
    "\n",
    "# Define the function for the get_loader parameter\n",
    "def choose_loader(column):\n",
    "    if column not in USEquityPricing.columns:\n",
    "        raise Exception('Column not in USEquityPricing')\n",
    "    return pricing_loader\n",
    "\n",
    "# Set the trading calendar\n",
    "trading_calendar = get_calendar('NYSE')\n",
    "\n",
    "start_date = pd.Timestamp('2019-07-05', tz='utc')\n",
    "end_date = pd.Timestamp('2020-11-13', tz='utc')\n",
    "\n",
    "# Create a data portal\n",
    "data_portal = DataPortal(bundle_data.asset_finder,\n",
    "                         trading_calendar = trading_calendar,\n",
    "                         first_trading_day = start_date,\n",
    "                         equity_daily_reader = bundle_data.equity_daily_bar_reader,\n",
    "                         adjustment_reader = bundle_data.adjustment_reader)"
   ]
  },
  {
   "cell_type": "code",
   "execution_count": 36,
   "metadata": {},
   "outputs": [],
   "source": [
    "from zipline.utils.calendars import get_calendar\n",
    "from zipline.pipeline.data import USEquityPricing\n",
    "from zipline.pipeline.engine import SimplePipelineEngine\n",
    "\n",
    "# Create a Pipeline engine\n",
    "engine = SimplePipelineEngine(get_loader = choose_loader,\n",
    "                              asset_finder = bundle_data.asset_finder, calendar=trading_calendar.all_sessions)"
   ]
  },
  {
   "cell_type": "code",
   "execution_count": 37,
   "metadata": {},
   "outputs": [],
   "source": [
    "#from zipline.pipeline.domain import US_EQUITIES\n",
    "from zipline.pipeline.factors import AverageDollarVolume\n",
    "from zipline.pipeline import Pipeline\n",
    "\n",
    "# Create a screen for our Pipeline\n",
    "universe = AverageDollarVolume(window_length = 5).top(10)\n",
    "\n",
    "# Create an empty Pipeline with the given screen\n",
    "pipeline = Pipeline(screen = universe)\n",
    "#new pipeline = Pipeline(screen = universe, domain=US_EQUITIES)\n",
    "pipeline.add(AverageDollarVolume(window_length = 5), \"Dollar Volume\")"
   ]
  },
  {
   "cell_type": "code",
   "execution_count": 38,
   "metadata": {},
   "outputs": [
    {
     "data": {
      "text/html": [
       "<div>\n",
       "<style scoped>\n",
       "    .dataframe tbody tr th:only-of-type {\n",
       "        vertical-align: middle;\n",
       "    }\n",
       "\n",
       "    .dataframe tbody tr th {\n",
       "        vertical-align: top;\n",
       "    }\n",
       "\n",
       "    .dataframe thead th {\n",
       "        text-align: right;\n",
       "    }\n",
       "</style>\n",
       "<table border=\"1\" class=\"dataframe\">\n",
       "  <thead>\n",
       "    <tr style=\"text-align: right;\">\n",
       "      <th></th>\n",
       "      <th></th>\n",
       "      <th>Dollar Volume</th>\n",
       "    </tr>\n",
       "  </thead>\n",
       "  <tbody>\n",
       "    <tr>\n",
       "      <th rowspan=\"5\" valign=\"top\">2020-10-29 00:00:00+00:00</th>\n",
       "      <th>Equity(29 [AAPL])</th>\n",
       "      <td>1.200492e+10</td>\n",
       "    </tr>\n",
       "    <tr>\n",
       "      <th>Equity(631 [AMD])</th>\n",
       "      <td>6.096783e+09</td>\n",
       "    </tr>\n",
       "    <tr>\n",
       "      <th>Equity(715 [AMZN])</th>\n",
       "      <td>1.489481e+10</td>\n",
       "    </tr>\n",
       "    <tr>\n",
       "      <th>Equity(1296 [BABA])</th>\n",
       "      <td>3.123722e+09</td>\n",
       "    </tr>\n",
       "    <tr>\n",
       "      <th>Equity(4199 [FB])</th>\n",
       "      <td>5.220827e+09</td>\n",
       "    </tr>\n",
       "  </tbody>\n",
       "</table>\n",
       "</div>"
      ],
      "text/plain": [
       "                                               Dollar Volume\n",
       "2020-10-29 00:00:00+00:00 Equity(29 [AAPL])     1.200492e+10\n",
       "                          Equity(631 [AMD])     6.096783e+09\n",
       "                          Equity(715 [AMZN])    1.489481e+10\n",
       "                          Equity(1296 [BABA])   3.123722e+09\n",
       "                          Equity(4199 [FB])     5.220827e+09"
      ]
     },
     "execution_count": 38,
     "metadata": {},
     "output_type": "execute_result"
    }
   ],
   "source": [
    "# Set the start and end dates\n",
    "start_date = pd.Timestamp('2020-10-29', tz = 'utc')\n",
    "end_date = pd.Timestamp('2020-11-3', tz = 'utc')\n",
    "\n",
    "# Run our pipeline for the given start and end dates\n",
    "pipeline_output = engine.run_pipeline(pipeline, start_date, end_date)\n",
    "\n",
    "pipeline_output.head()\n"
   ]
  },
  {
   "cell_type": "code",
   "execution_count": 23,
   "metadata": {},
   "outputs": [
    {
     "ename": "ModuleNotFoundError",
     "evalue": "No module named 'zipline.pipeline.Pipeline'",
     "output_type": "error",
     "traceback": [
      "\u001b[0;31m---------------------------------------------------------------------------\u001b[0m",
      "\u001b[0;31mModuleNotFoundError\u001b[0m                       Traceback (most recent call last)",
      "\u001b[0;32m<ipython-input-23-9537c4c22203>\u001b[0m in \u001b[0;36m<module>\u001b[0;34m\u001b[0m\n\u001b[0;32m----> 1\u001b[0;31m \u001b[0;32mimport\u001b[0m \u001b[0mzipline\u001b[0m\u001b[0;34m.\u001b[0m\u001b[0mpipeline\u001b[0m\u001b[0;34m.\u001b[0m\u001b[0mPipeline\u001b[0m\u001b[0;34m\u001b[0m\u001b[0;34m\u001b[0m\u001b[0m\n\u001b[0m\u001b[1;32m      2\u001b[0m \u001b[0;32mdef\u001b[0m \u001b[0mmake_pipeline\u001b[0m\u001b[0;34m(\u001b[0m\u001b[0;34m)\u001b[0m\u001b[0;34m:\u001b[0m\u001b[0;34m\u001b[0m\u001b[0;34m\u001b[0m\u001b[0m\n\u001b[1;32m      3\u001b[0m     \u001b[0mmean_close_10\u001b[0m \u001b[0;34m=\u001b[0m \u001b[0mSimpleMovingAverage\u001b[0m\u001b[0;34m(\u001b[0m\u001b[0minputs\u001b[0m\u001b[0;34m=\u001b[0m\u001b[0;34m[\u001b[0m\u001b[0mUSEquityPricing\u001b[0m\u001b[0;34m.\u001b[0m\u001b[0mclose\u001b[0m\u001b[0;34m]\u001b[0m\u001b[0;34m,\u001b[0m\u001b[0mwindow_length\u001b[0m\u001b[0;34m=\u001b[0m\u001b[0;36m10\u001b[0m\u001b[0;34m)\u001b[0m\u001b[0;34m\u001b[0m\u001b[0;34m\u001b[0m\u001b[0m\n\u001b[1;32m      4\u001b[0m     \u001b[0mmean_close_30\u001b[0m \u001b[0;34m=\u001b[0m \u001b[0mSimpleMovingAverage\u001b[0m\u001b[0;34m(\u001b[0m\u001b[0minputs\u001b[0m\u001b[0;34m=\u001b[0m\u001b[0;34m[\u001b[0m\u001b[0mUSEquityPricing\u001b[0m\u001b[0;34m.\u001b[0m\u001b[0mclose\u001b[0m\u001b[0;34m]\u001b[0m\u001b[0;34m,\u001b[0m\u001b[0mwindow_length\u001b[0m\u001b[0;34m=\u001b[0m\u001b[0;36m30\u001b[0m\u001b[0;34m)\u001b[0m\u001b[0;34m\u001b[0m\u001b[0;34m\u001b[0m\u001b[0m\n\u001b[1;32m      5\u001b[0m \u001b[0;34m\u001b[0m\u001b[0m\n",
      "\u001b[0;31mModuleNotFoundError\u001b[0m: No module named 'zipline.pipeline.Pipeline'"
     ]
    }
   ],
   "source": [
    "def make_pipeline(): \n",
    "    mean_close_10 = SimpleMovingAverage(inputs=[USEquityPricing.close],window_length=10) \n",
    "    mean_close_30 = SimpleMovingAverage(inputs=[USEquityPricing.close],window_length=30) \n",
    "    \n",
    "    latest_close = USEquityPricing.close.latest  \n",
    "    \n",
    "    perc_diff = (mean_close_10 - mean_close_30) / mean_close_30  \n",
    "    \n",
    "    return Pipeline(columns={ 'Percent Difference':perc_diff, '30 Day Mean Close':mean_close_30, 'Latest Close':latest_close })"
   ]
  },
  {
   "cell_type": "code",
   "execution_count": null,
   "metadata": {},
   "outputs": [],
   "source": []
  },
  {
   "cell_type": "code",
   "execution_count": 14,
   "metadata": {},
   "outputs": [
    {
     "ename": "NameError",
     "evalue": "name 'run_pipeline' is not defined",
     "output_type": "error",
     "traceback": [
      "\u001b[0;31m---------------------------------------------------------------------------\u001b[0m",
      "\u001b[0;31mNameError\u001b[0m                                 Traceback (most recent call last)",
      "\u001b[0;32m<ipython-input-14-d0b8a37f338d>\u001b[0m in \u001b[0;36m<module>\u001b[0;34m\u001b[0m\n\u001b[0;32m----> 1\u001b[0;31m \u001b[0mresults\u001b[0m \u001b[0;34m=\u001b[0m \u001b[0mrun_pipeline\u001b[0m\u001b[0;34m(\u001b[0m\u001b[0mmake_pipeline\u001b[0m\u001b[0;34m(\u001b[0m\u001b[0;34m)\u001b[0m\u001b[0;34m,\u001b[0m\u001b[0;34m'2018-01-01'\u001b[0m\u001b[0;34m,\u001b[0m\u001b[0;34m'2019-01-01'\u001b[0m\u001b[0;34m)\u001b[0m\u001b[0;34m\u001b[0m\u001b[0;34m\u001b[0m\u001b[0m\n\u001b[0m",
      "\u001b[0;31mNameError\u001b[0m: name 'run_pipeline' is not defined"
     ]
    }
   ],
   "source": [
    "results = run_pipeline(make_pipeline(),'2018-01-01','2019-01-01')"
   ]
  },
  {
   "cell_type": "code",
   "execution_count": null,
   "metadata": {},
   "outputs": [],
   "source": []
  }
 ],
 "metadata": {
  "hide_input": false,
  "kernelspec": {
   "display_name": "hca-py3.6.7",
   "language": "python",
   "name": "hca"
  },
  "language_info": {
   "codemirror_mode": {
    "name": "ipython",
    "version": 3
   },
   "file_extension": ".py",
   "mimetype": "text/x-python",
   "name": "python",
   "nbconvert_exporter": "python",
   "pygments_lexer": "ipython3",
   "version": "3.6.7"
  }
 },
 "nbformat": 4,
 "nbformat_minor": 4
}
