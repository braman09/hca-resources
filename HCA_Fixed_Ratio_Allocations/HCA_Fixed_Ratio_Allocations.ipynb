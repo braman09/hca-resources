{
 "cells": [
  {
   "cell_type": "markdown",
   "metadata": {},
   "source": [
    "## HotChili Analytics trading notebook template\n",
    "#### Configure by setting ALGO_NAME in cell below.\n",
    "#### Run various options (backtest, ingest, live) by uncommenting one cell "
   ]
  },
  {
   "cell_type": "code",
   "execution_count": 1,
   "metadata": {},
   "outputs": [
    {
     "name": "stderr",
     "output_type": "stream",
     "text": [
      "/home/hca-r2-001/miniconda3/envs/hca/lib/python3.6/site-packages/h5py/__init__.py:36: FutureWarning: Conversion of the second argument of issubdtype from `float` to `np.floating` is deprecated. In future, it will be treated as `np.float64 == np.dtype(float).type`.\n",
      "  from ._conv import register_converters as _register_converters\n",
      "/home/hca-r2-001/miniconda3/envs/hca/lib/python3.6/site-packages/odo/backends/pandas.py:94: FutureWarning: pandas.tslib is deprecated and will be removed in a future version.\n",
      "You can access NaTType as type(pandas.NaT)\n",
      "  @convert.register((pd.Timestamp, pd.Timedelta), (pd.tslib.NaTType, type(None)))\n"
     ]
    }
   ],
   "source": [
    "%matplotlib inline\n",
    "%load_ext zipline\n",
    "\n",
    "# %reload_ext zipline # Uncomment and use this when already loaded zipline extension for magic cell usage."
   ]
  },
  {
   "cell_type": "code",
   "execution_count": 2,
   "metadata": {},
   "outputs": [],
   "source": [
    "import pandas as pd\n",
    "\n",
    "# Options you can uncomment and set:\n",
    "\n",
    "# pd.set_option(\"max_colwidth\", 300)\n",
    "# pd.set_option(\"display.max_rows\", 300)\n",
    "# pd.set_option(\"display.max_columns\", 50)\n",
    "# pd.set_option('precision', 2)\n",
    "# pd.options.display.float_format = '{:20,.2f}'.format"
   ]
  },
  {
   "cell_type": "code",
   "execution_count": 3,
   "metadata": {},
   "outputs": [
    {
     "name": "stdout",
     "output_type": "stream",
     "text": [
      "hca_root_path = /home/hca-ws2004/hca\n"
     ]
    }
   ],
   "source": [
    "import os\n",
    "\n",
    "hca_root_path = os.environ['HCA_ROOT']\n",
    "print(f\"hca_root_path = {hca_root_path}\")"
   ]
  },
  {
   "cell_type": "markdown",
   "metadata": {},
   "source": [
    "# Construct algorithm strategy path names\n",
    "\n",
    "Assumptions:\n",
    "\n",
    "- the strategy is in a directory with the same name as the strategy in `ALGO_NAME` below\n",
    "- the strategy is located in the hca-resources directory, which is located relative to `hca_root_path`, found above"
   ]
  },
  {
   "cell_type": "code",
   "execution_count": 4,
   "metadata": {},
   "outputs": [],
   "source": [
    "ALGO_NAME = \"HCA_Fixed_Ratio_Allocations\" # <--- Supply name here"
   ]
  },
  {
   "cell_type": "markdown",
   "metadata": {},
   "source": [
    "Other variables are derived from `ALGO_NAME`:"
   ]
  },
  {
   "cell_type": "code",
   "execution_count": 5,
   "metadata": {},
   "outputs": [
    {
     "name": "stdout",
     "output_type": "stream",
     "text": [
      "\n",
      "ALGO_NAME          = HCA_Fixed_Ratio_Allocations\n",
      "HCA_RESOURCES_PATH = /home/hca-ws2004/hca/hca-resources/\n",
      "ALGO_PATH          = /home/hca-ws2004/hca/hca-resources/HCA_Fixed_Ratio_Allocations/\n",
      "ALGO_BT            = /home/hca-ws2004/hca/hca-resources/HCA_Fixed_Ratio_Allocations/HCA_Fixed_Ratio_Allocations.py\n",
      "ALGO_BT_OUT        = /home/hca-ws2004/hca/hca-resources/HCA_Fixed_Ratio_Allocations/HCA_Fixed_Ratio_Allocations.pkl\n",
      "ALGO_LIVE          = /home/hca-ws2004/hca/hca-resources/HCA_Fixed_Ratio_Allocations/HCA_Fixed_Ratio_Allocations_Live.py\n",
      "\n",
      "Contents of algo directory:\n",
      "\n",
      "HCA_Fixed_Ratio_Allocations.ipynb\n",
      "HCA_Fixed_Ratio_Allocations_Live.py\n",
      "HCA_Fixed_Ratio_Allocations.pkl\n",
      "HCA_Fixed_Ratio_Allocations.py\n",
      "HCA_Fixed_Ratio_Allocations_tearsheet.ipynb\n"
     ]
    }
   ],
   "source": [
    "HCA_RESOURCES_PATH = hca_root_path + \"/hca-resources/\" \n",
    "ALGO_PATH          = HCA_RESOURCES_PATH + ALGO_NAME + \"/\" \n",
    "ALGO_BT            = ALGO_PATH + ALGO_NAME + \".py\"\n",
    "ALGO_BT_OUT        = ALGO_PATH + ALGO_NAME + \".pkl\"\n",
    "ALGO_LIVE          = ALGO_PATH + ALGO_NAME + \"_Live\" + \".py\"\n",
    "\n",
    "print(f\"\"\"\n",
    "ALGO_NAME          = {ALGO_NAME}\n",
    "HCA_RESOURCES_PATH = {HCA_RESOURCES_PATH}\n",
    "ALGO_PATH          = {ALGO_PATH}\n",
    "ALGO_BT            = {ALGO_BT}\n",
    "ALGO_BT_OUT        = {ALGO_BT_OUT}\n",
    "ALGO_LIVE          = {ALGO_LIVE}\n",
    "\n",
    "Contents of algo directory:\n",
    "\"\"\")\n",
    "\n",
    "!ls $ALGO_PATH"
   ]
  },
  {
   "cell_type": "markdown",
   "metadata": {},
   "source": [
    "## Zipline backtest: \n",
    "\n",
    "- Method: Jupyter magic cell (%%) \n",
    "- Execution of zipline code in cell containing command line command\n",
    "- Uncomment first line and hit (shift-enter) inside the cell to run simulation backtest"
   ]
  },
  {
   "cell_type": "code",
   "execution_count": 6,
   "metadata": {
    "scrolled": true
   },
   "outputs": [],
   "source": [
    "#%%zipline --start=2018-1-1 --end=2020-10-02 -b sharadar-funds -o $ALGO_BT_OUT\n",
    "\n",
    "# Source: adapted from various algos on quantopian\n",
    "# HCA Conversion Date: 08-13-2020\n",
    "# Conversion Author: Anthony garner\n",
    "\n",
    "# Simple rebalanced portfolio\n",
    "\n",
    "\n",
    "import matplotlib.pyplot as plt\n",
    "\n",
    "from zipline.api import (symbol, symbols, date_rules, time_rules, order_target_percent, \n",
    "                         record, schedule_function, get_datetime)\n",
    "from trading_calendars import get_calendar\n",
    "\n",
    "\n",
    "def initialize(context):\n",
    "    schedule_function(func=trade,date_rule=date_rules.every_day(),time_rule=time_rules.market_open(),half_days=True)\n",
    "    context.asserts = symbols('SPY','SHY','TLT','GLD')\n",
    "    context.asserts_position = [0.25, 0.25,0.25,0.25]\n",
    "    context.rebalance_inteval = 'Q'#'Q', #'D', #'M' #'Q' #'Y'\n",
    "    context.rebalance_date = 0\n",
    "    context.fired = False\n",
    "\n",
    "\n",
    "def handle_data(context, data):\n",
    "    record(SPY=data[symbol('SPY')].price)\n",
    "\n",
    "\n",
    "def is_new_day(context, now):\n",
    "    return ( (now.year > context.rebalance_date.year) or (now.month > context.rebalance_date.month) or((now.month == context.rebalance_date.month) and (now.day > context.rebalance_date.day)))             \n",
    "\n",
    "\n",
    "def is_new_month(context, now):\n",
    "    return ((now.year > context.rebalance_date.year) or ((now.year == context.rebalance_date.year) and (now.month > context.rebalance_date.month)))\n",
    "\n",
    "\n",
    "def is_new_quarter(context, now):\n",
    "    return ((now.year > context.rebalance_date.year) or ((now.year == context.rebalance_date.year) and (now.month == context.rebalance_date.month + 3)))\n",
    "\n",
    "\n",
    "def is_new_year(context, now):\n",
    "    return (now.year > context.rebalance_date.year)\n",
    "\n",
    "\n",
    "def need_rebalance(context, now):\n",
    "    return ((context.rebalance_inteval == 'Y' and is_new_year(context, now))or \n",
    "           (context.rebalance_inteval == 'Q' and is_new_quarter(context, now)) or \n",
    "           (context.rebalance_inteval == 'M' and is_new_month(context, now)) or \n",
    "           (context.rebalance_inteval == 'D' and is_new_day(context, now)))\n",
    "\n",
    "\n",
    "def init_portfolio(context, data):\n",
    "    for i in range(0, len(context.asserts)):\n",
    "        if data.can_trade(context.asserts[i]):\n",
    "            #log.debug(\"rebalance \" + context.asserts[i].symbol + \" to:\" + str(context.asserts_position[i]*100) + \"%\")\n",
    "            order_target_percent(context.asserts[i], context.asserts_position[i])\n",
    "\n",
    "\n",
    "def rebalance(context, data):\n",
    "    for i in range(0, len(context.asserts)):\n",
    "        if data.can_trade(context.asserts[i]):\n",
    "            #log.debug(\"rebalance \" + context.asserts[i].symbol + \" to:\" + str(context.asserts_position[i]*100) + \"%\")\n",
    "            order_target_percent(context.asserts[i], context.asserts_position[i])\n",
    "        \n",
    "\n",
    "# Will be called on every trade event for the securities you specify. \n",
    "def trade(context, data):\n",
    "    if not context.fired:\n",
    "        context.rebalance_date = get_datetime()\n",
    "        #log.info(\"build portfolio at \" + str(context.rebalance_date))\n",
    "        init_portfolio(context, data)\n",
    "        context.fired = True\n",
    "        now = get_datetime()\n",
    "    else:\n",
    "        now = get_datetime()\n",
    "        if (need_rebalance(context, now)):\n",
    "            #log.info(\"new rebalance arrivied:\" + str(now))\n",
    "            rebalance(context, data)\n",
    "            context.rebalance_date = now\n",
    "\n",
    "\n",
    "def analyze(context, perf):\n",
    "    ax1 = plt.subplot(211)\n",
    "    perf.portfolio_value.plot(ax=ax1)\n",
    "    ax2 = plt.subplot(212, sharex=ax1)\n",
    "    perf.SPY.plot(ax=ax2)\n",
    "    plt.gcf().set_size_inches(18, 8)\n",
    "    plt.show()"
   ]
  },
  {
   "cell_type": "markdown",
   "metadata": {},
   "source": [
    "## Display your current bundles"
   ]
  },
  {
   "cell_type": "code",
   "execution_count": 7,
   "metadata": {},
   "outputs": [],
   "source": [
    "#!zipline bundles # Finds all bundles"
   ]
  },
  {
   "cell_type": "markdown",
   "metadata": {},
   "source": [
    "## Ingest Sharadar funds assets for today"
   ]
  },
  {
   "cell_type": "code",
   "execution_count": 8,
   "metadata": {},
   "outputs": [
    {
     "name": "stdout",
     "output_type": "stream",
     "text": [
      "/home/hca-r2-001/miniconda3/envs/hca/lib/python3.6/site-packages/h5py/__init__.py:36: FutureWarning: Conversion of the second argument of issubdtype from `float` to `np.floating` is deprecated. In future, it will be treated as `np.float64 == np.dtype(float).type`.\n",
      "  from ._conv import register_converters as _register_converters\n",
      "/home/hca-r2-001/miniconda3/envs/hca/lib/python3.6/site-packages/odo/backends/pandas.py:94: FutureWarning: pandas.tslib is deprecated and will be removed in a future version.\n",
      "You can access NaTType as type(pandas.NaT)\n",
      "  @convert.register((pd.Timestamp, pd.Timedelta), (pd.tslib.NaTType, type(None)))\n",
      "extension: hca_root_path = /home/hca-ws2004/hca\n",
      "extension:TODAY_STR = 2021-04-10\n",
      "extension:TWO_YR_AGO_STR = 2019-04-10\n",
      "extension:  start_date=2019-04-10 end_date = 2021-04-10\n",
      "[2021-04-11 03:26:28.611003] INFO: zipline.data.bundles.ingester: symbols are: ('TLT', 'IEF', 'XLP', 'QQQ')\n",
      "[2021-04-11 03:26:28.611982] INFO: zipline.data.bundles.ingester: writing data...\n",
      "Yahoo Ingest: symbol=TLT start_date=2019-04-10 end_date=2021-04-10\n",
      "                 close        high         low   open   volume  dividend  \\\n",
      "2021-04-09  137.509995  138.190002  137.089996  137.5  8717800         0   \n",
      "\n",
      "            split  \n",
      "2021-04-09      1  \n",
      "Yahoo Ingest: symbol=IEF start_date=2019-04-10 end_date=2021-04-10\n",
      "                 close    high         low        open   volume  dividend  \\\n",
      "2021-04-09  113.610001  113.82  113.440002  113.540001  5887400         0   \n",
      "\n",
      "            split  \n",
      "2021-04-09      1  \n",
      "Yahoo Ingest: symbol=XLP start_date=2019-04-10 end_date=2021-04-10\n",
      "                close       high   low       open   volume  dividend  split\n",
      "2021-04-09  68.919998  69.209999  68.5  69.050003  7020400         0      1\n",
      "Yahoo Ingest: symbol=QQQ start_date=2019-04-10 end_date=2021-04-10\n",
      "                 close        high         low        open    volume  \\\n",
      "2021-04-09  337.109985  337.320007  332.920013  333.679993  36580600   \n",
      "\n",
      "            dividend  split  \n",
      "2021-04-09         0      1  \n",
      "\u001b[?25h\n",
      "[2021-04-11 03:26:29.239710] INFO: zipline.data.bundles.ingester: meta data:\n",
      "  start_date   end_date auto_close_date symbol exchange\n",
      "0 2019-04-10 2021-04-09      2021-04-10    TLT    YAHOO\n",
      "1 2019-04-10 2021-04-09      2021-04-10    IEF    YAHOO\n",
      "2 2019-04-10 2021-04-09      2021-04-10    XLP    YAHOO\n",
      "3 2019-04-10 2021-04-09      2021-04-10    QQQ    YAHOO\n",
      "[2021-04-11 03:26:29.463094] INFO: zipline.data.bundles.ingester: writing completed\n"
     ]
    }
   ],
   "source": [
    "# Ingest Sharadar funds assets for today, if needed.\n",
    "\n",
    "# Only need to ingest Funds for this algo, and this takes less processing time and system memory than ingesting\n",
    "# all of Sharadar Equities plus Funds bundle (sharadar-eqfd)\n",
    "\n",
    "#!zipline ingest -b sharadar-funds\n",
    "\n",
    "# Yahoo Finance Free Data\n",
    "# Trend_Following\n",
    "# !export YAHOO_SYM_LST=SPY,ZSL,KOLD,GLD,SHY;zipline ingest -b yahoo_direct\n",
    "# Fixed_Ratio_Allocations\n",
    "!export YAHOO_SYM_LST=QQQ,XLP,IEF,TLT;zipline ingest -b yahoo_direct\n"
   ]
  },
  {
   "cell_type": "markdown",
   "metadata": {},
   "source": [
    "## Zipline backtest, alternative method\n",
    "\n",
    "- Method: command line\n",
    "- Execution of zipline code, located in a file, using below command line execution with magic (`!`) invocation\n",
    "- This line can also be run in a terminal by copying everything past the `!` and pasting (shift-insert) it into the target terminal"
   ]
  },
  {
   "cell_type": "code",
   "execution_count": 13,
   "metadata": {
    "scrolled": true
   },
   "outputs": [
    {
     "name": "stdout",
     "output_type": "stream",
     "text": [
      "/home/hca-r2-001/miniconda3/envs/hca/lib/python3.6/site-packages/h5py/__init__.py:36: FutureWarning: Conversion of the second argument of issubdtype from `float` to `np.floating` is deprecated. In future, it will be treated as `np.float64 == np.dtype(float).type`.\n",
      "  from ._conv import register_converters as _register_converters\n",
      "/home/hca-r2-001/miniconda3/envs/hca/lib/python3.6/site-packages/odo/backends/pandas.py:94: FutureWarning: pandas.tslib is deprecated and will be removed in a future version.\n",
      "You can access NaTType as type(pandas.NaT)\n",
      "  @convert.register((pd.Timestamp, pd.Timedelta), (pd.tslib.NaTType, type(None)))\n",
      "extension: hca_root_path = /home/hca-ws2004/hca\n",
      "extension:TODAY_STR = 2021-04-10\n",
      "extension:TWO_YR_AGO_STR = 2019-04-10\n",
      "extension:  start_date=2019-04-10 end_date = 2021-04-10\n",
      "[2021-04-11 03:32:26.735299] WARNING: Loader: Refusing to download new benchmark data because a download succeeded at 2021-04-11 03:17:05.084462+00:00.\n",
      "[2021-04-11 03:32:26.764731] WARNING: Loader: Refusing to download new treasury data because a download succeeded at 2021-04-11 03:17:07.132462+00:00.\n",
      "[2021-04-11 03:32:28.512654] INFO: zipline.finance.metrics.tracker: Simulated 823 trading days\n",
      "first open: 2018-01-02 14:31:00+00:00\n",
      "last close: 2021-04-09 20:00:00+00:00\n",
      "Figure(1800x800)\n"
     ]
    }
   ],
   "source": [
    "!zipline run -f $ALGO_BT  --start=2018-1-1 --end=2021-04-10 --capital-base 10000 -b sharadar-funds -o $ALGO_BT_OUT"
   ]
  },
  {
   "cell_type": "markdown",
   "metadata": {},
   "source": [
    "## Run Zipline live on IB-TWS via command line\n",
    "\n",
    "- Method: command line\n",
    "- Execution of zipline code using below command line execution using magic (`!`) invocation\n",
    "\n",
    "**Notes:** \n",
    "- IB-TWS or IB-Gateway must be running, with `IB_ACCT` and `IB_URI` port being correct to live trade\n",
    "- Change `I_WANT_TO_RUN_THIS_CODE` to `True` below to run zipline live on IB-TWS/IB-Gateway"
   ]
  },
  {
   "cell_type": "code",
   "execution_count": 10,
   "metadata": {},
   "outputs": [
    {
     "name": "stdout",
     "output_type": "stream",
     "text": [
      "TODAY = 2021-04-10\n"
     ]
    }
   ],
   "source": [
    "TODAY = pd.datetime.today().strftime(\"%Y-%m-%d\")\n",
    "print(\"TODAY = {}\".format(TODAY))"
   ]
  },
  {
   "cell_type": "code",
   "execution_count": 11,
   "metadata": {},
   "outputs": [],
   "source": [
    "ALGO_STATE = ALGO_PATH + \"strategy.state\" \n",
    "ALGO_RTB   = ALGO_PATH + \"realtime-bars/\"\n",
    "\n",
    "# Edit the following URI to match your IB account and port info.\n",
    "BROKER = \"ib\"\n",
    "IB_ACCT = \"DU1568488\"\n",
    "IB_URI = \"127.0.0.1:7497:1301\"\n",
    "\n",
    "#  PRICES_BUNDLE = \"hca-symbol\" #Used for Zipline Symbols to Live Broker Mapping(e.g. IB)\n",
    "PRICES_BUNDLE = \"yahoo_direct\" #Used for free data bundle for zipline.\n",
    "DATA_FREQ = \"daily\"\n",
    "\n",
    "# Change following to 'True' and run cell (control-enter) to execute live run.\n",
    "I_WANT_TO_RUN_THIS_CODE = False\n",
    "# I_WANT_TO_RUN_THIS_CODE = True\n",
    "\n",
    "if I_WANT_TO_RUN_THIS_CODE:\n",
    "    \n",
    "    !zipline run \\\n",
    "        -s $TODAY \\\n",
    "        -f $ALGO_LIVE \\\n",
    "        --bundle $PRICES_BUNDLE \\\n",
    "        --broker $BROKER \\\n",
    "        --broker-uri $IB_URI \\\n",
    "        --broker-acct $IB_ACCT \\\n",
    "        --data-frequency $DATA_FREQ \\\n",
    "        --state-file $ALGO_STATE \\\n",
    "        --realtime-bar-target $ALGO_RTB "
   ]
  },
  {
   "cell_type": "code",
   "execution_count": 12,
   "metadata": {},
   "outputs": [],
   "source": [
    "# This bundle is write-protected, and not to be updated. It will produce a write error.\n",
    "# Used only as a zipline-to-live-broker symbol mapping \n",
    "#  and for older backtests dating from the bundle production date(2020-12-06T23;31;54.306657)\n",
    "#! zipline ingest -b hca-symbol"
   ]
  },
  {
   "cell_type": "code",
   "execution_count": null,
   "metadata": {},
   "outputs": [],
   "source": []
  }
 ],
 "metadata": {
  "hide_input": false,
  "kernelspec": {
   "display_name": "hca-py3.6.7",
   "language": "python",
   "name": "hca"
  },
  "language_info": {
   "codemirror_mode": {
    "name": "ipython",
    "version": 3
   },
   "file_extension": ".py",
   "mimetype": "text/x-python",
   "name": "python",
   "nbconvert_exporter": "python",
   "pygments_lexer": "ipython3",
   "version": "3.6.7"
  }
 },
 "nbformat": 4,
 "nbformat_minor": 4
}
