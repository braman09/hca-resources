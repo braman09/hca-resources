{
 "cells": [
  {
   "cell_type": "markdown",
   "metadata": {},
   "source": [
    "## HotChili Analytics Trading Notebook Template\n",
    "#### Configure by setting ALGO_NAME in cell below.\n",
    "#### Run varius options (Backtest, Ingest, Live) by uncommenting one cell "
   ]
  },
  {
   "cell_type": "code",
   "execution_count": null,
   "metadata": {},
   "outputs": [],
   "source": [
    "%matplotlib inline\n",
    "%load_ext zipline\n",
    "# %reload_ext zipline # Uncomment and use this when already loaded zipline extension for magic cell usage.\n",
    "hca_root_path = !echo $HCA_ROOT\n",
    "hca_root_path =hca_root_path[0]\n",
    "print(\"hca_root_path={}\".format(hca_root_path))"
   ]
  },
  {
   "cell_type": "code",
   "execution_count": null,
   "metadata": {},
   "outputs": [],
   "source": [
    "import pandas as pd\n",
    "#pd.set_option(\"max_colwidth\", 400)\n",
    "#pd.set_option(\"display.max_rows\", 100000)\n",
    "#pd.set_option(\"display.max_columns\", 1000)\n",
    "#pd.set_option('precision', 2)\n",
    "#pd.options.display.float_format = '{:20,.2f}'.format"
   ]
  },
  {
   "cell_type": "code",
   "execution_count": null,
   "metadata": {},
   "outputs": [],
   "source": [
    "# Construct Algo Strategy Path Names.\n",
    "# Assumes that the Strategy is in a directory with the same name as the strategy\n",
    "#Assumes the strategy is located in the hca-resources directory, which is located at: \n",
    "\n",
    "#Supply the Strategy name here\n",
    "ALGO_NAME          = \"HCA_AllWeatherOptimizeVolatility\" #<--- Supply name here\n",
    "\n",
    "HCA_RESOURCES_PATH = hca_root_path + \"/hca-resources/\" \n",
    "ALGO_PATH          = HCA_RESOURCES_PATH + ALGO_NAME + \"/\" \n",
    "\n",
    "ALGO_BT            = ALGO_PATH + ALGO_NAME + \".py\"\n",
    "ALGO_BT_OUT        = ALGO_PATH + ALGO_NAME + \".pkl\"\n",
    "\n",
    "ALGO_LIVE          = ALGO_PATH + ALGO_NAME + \"_Live\" + \".py\"\n",
    "\n",
    "print(\"ALGO_NAME={}\\nHCA_RESOURCES_PATH={}\\nALGO_PATH={}\\nALGO_BT={}\\nALGO_BT_OUT={}\\nALGO_LIVE={}\".format(ALGO_NAME,HCA_RESOURCES_PATH,ALGO_PATH,ALGO_BT,ALGO_BT_OUT, ALGO_LIVE))\n",
    "print(\"\\nALGO_NAME Directory Contents\\n\")\n",
    "!ls $ALGO_PATH"
   ]
  },
  {
   "cell_type": "markdown",
   "metadata": {},
   "source": [
    "## Zipline Backtest: \n",
    "    Method: Jupyter Magic Cell (%%) \n",
    "    Execution of zipline code in cell containing command line command\n",
    "    Uncomment first line and hit (Shift-Enter) inside the cell to run simulation backtest."
   ]
  },
  {
   "cell_type": "code",
   "execution_count": null,
   "metadata": {},
   "outputs": [],
   "source": [
    "# %%zipline --start=2018-1-1 --end=2020-8-10 -b sharadar-eqfd -o $ALGO_BT_OUT\n",
    "\n",
    "# Source: adapted from various algos on quantopian\n",
    "# HCA Conversion Date: 09-05-2020\n",
    "# Conversion Author: Anthony Garner\n",
    "\n",
    "\n",
    "import matplotlib.pyplot as plt\n",
    "import numpy as np\n",
    "import math\n",
    "\n",
    "\n",
    "from zipline.api import order, cancel_order, get_open_orders, symbol, symbols, date_rules, time_rules, order_target_percent, record, schedule_function, get_datetime\n",
    "from trading_calendars import get_calendar\n",
    "\n",
    "def initialize(context):\n",
    "    schedule_function(func=trade, date_rule=date_rules.every_day(),\n",
    "                      time_rule=time_rules.market_open(),half_days=True)\n",
    "    context.asserts = symbols('SPY','IEF')\n",
    "\n",
    "    context.rebalance_date = 0\n",
    "    context.fired = False\n",
    "    context.rebalance_inteval = 'M'#'Q', #'D', #'M' #'Q' #'Y'\n",
    "\n",
    "    context.asserts_position = [0.5, 0.5]\n",
    "    context.volatility_policy = True\n",
    "    #unused if volatility_policy is false\n",
    "    context.volatility_days = 252\n",
    "    context.volatility_price_history = 66\n",
    "    #set at less than 1 to ensure no leverage\n",
    "    context.leverage_buffer=0.90\n",
    "    \n",
    "def handle_data(context, data):\n",
    "    record(SPY=data[symbol('SPY')].price)\n",
    "\n",
    "def is_new_day(context, now):\n",
    "    return ( (now.year > context.rebalance_date.year) or (now.month > context.rebalance_date.month) or((now.month == context.rebalance_date.month) and (now.day > context.rebalance_date.day)))             \n",
    "    \n",
    "def is_new_month(context, now):\n",
    "    return ((now.year > context.rebalance_date.year) or ((now.year == context.rebalance_date.year) and (now.month > context.rebalance_date.month)))\n",
    "\n",
    "def is_new_quarter(context, now):\n",
    "    return ((now.year > context.rebalance_date.year) or ((now.year == context.rebalance_date.year) and (now.month == context.rebalance_date.month + 3)))\n",
    "    \n",
    "def is_new_year(context, now):\n",
    "    return (now.year > context.rebalance_date.year)\n",
    "\n",
    "def need_rebalance(context, now):\n",
    "    return ((context.rebalance_inteval == 'Y' and is_new_year(context, now))or \n",
    "           (context.rebalance_inteval == 'Q' and is_new_quarter(context, now)) or \n",
    "           (context.rebalance_inteval == 'M' and is_new_month(context, now)) or \n",
    "           (context.rebalance_inteval == 'D' and is_new_day(context, now)))\n",
    "\n",
    "\n",
    "    # Compute historical volatility  \n",
    "def compute_volatility(price_history, days):  \n",
    "    # Compute daily returns  \n",
    "    daily_returns = price_history.pct_change().dropna().values  \n",
    "    # Compute daily volatility  \n",
    "    historical_vol_daily = np.std(daily_returns,axis=0)  \n",
    "    # Convert daily volatility to annual volatility, assuming 252 trading days  \n",
    "    historical_vol_annually = historical_vol_daily*math.sqrt(days)  \n",
    "    # Return estimate of annual volatility  \n",
    "    return historical_vol_annually\n",
    "\n",
    "def compute_asserts_volatility(context, data):\n",
    "    price_history = data.history(context.asserts, \"price\", context.volatility_price_history, \"1d\")\n",
    "    vol = 1.0/(compute_volatility(price_history, context.volatility_days))\n",
    "    #print(\"vol: \" + str(vol))\n",
    "    sum = np.sum(vol)\n",
    "    context.asserts_position = vol / sum\n",
    "    #print(\"asserts_position: \" + str(context.asserts_position))\n",
    "\n",
    "def init_portfolio(context, data):\n",
    "    if context.volatility_policy:\n",
    "        compute_asserts_volatility(context, data)\n",
    "    for i in range(0, len(context.asserts)):\n",
    "        #print(\"rebalance \" + context.asserts[i].symbol + \" to:\" + str(context.asserts_position[i]*100) + \"%\")\n",
    "        order_target_percent(context.asserts[i], context.asserts_position[i]* context.leverage_buffer)    \n",
    "        \n",
    "def rebalance(context, data):\n",
    "    if context.volatility_policy:\n",
    "        compute_asserts_volatility(context, data)\n",
    "    for i in range(0, len(context.asserts)):\n",
    "        if data.can_trade(context.asserts[i]):\n",
    "            #print(\"rebalance \" + context.asserts[i].symbol + \" to:\" + str(context.asserts_position[i]*100) + \"%\")\n",
    "            order_target_percent(context.asserts[i], context.asserts_position[i]* context.leverage_buffer)    \n",
    "def trade(context, data):\n",
    "    if not context.fired:\n",
    "        context.rebalance_date = get_datetime()\n",
    "        #print(\"build portfolio at \" + str(context.rebalance_date))\n",
    "        init_portfolio(context, data)\n",
    "        context.fired = True\n",
    "    else:\n",
    "        now = get_datetime()\n",
    "        if (need_rebalance(context, now)):\n",
    "            #print(\"new rebalance arrivid:\" + str(now))\n",
    "            context.rebalance_date = now\n",
    "            rebalance(context, data)\n",
    "\n",
    "def analyze(context, perf):\n",
    "    ax1 = plt.subplot(211)\n",
    "    perf.portfolio_value.plot(ax=ax1)\n",
    "    ax2 = plt.subplot(212, sharex=ax1)\n",
    "    perf.SPY.plot(ax=ax2)\n",
    "    plt.gcf().set_size_inches(18, 8)\n",
    "    plt.show()"
   ]
  },
  {
   "cell_type": "markdown",
   "metadata": {},
   "source": [
    "## Ingest Sharadar Funds Assets for today."
   ]
  },
  {
   "cell_type": "code",
   "execution_count": null,
   "metadata": {},
   "outputs": [],
   "source": [
    "# Ingest Sharadar Funds Assets for today, if needed.\n",
    "# Only need to ingest Funds for this algo, and this takes less processing time and system memory than ingesting\n",
    "#  all of Sharadar Equities plus Funds bundle (sharadar-eqfd)\n",
    "# !zipline bundles # Finds all bundles\n",
    "# !date\n",
    "#!zipline ingest -b sharadar-funds"
   ]
  },
  {
   "cell_type": "markdown",
   "metadata": {},
   "source": [
    "## Zipline Backtest: \n",
    "    Method: Command Line \n",
    "    Execution of zipline code, located in a file, using below command line execution using magic (!) invocation.\n",
    "    This line can also be run in a terminal by Copying everything past the ! and pasting (Shift-Insert) it into the target terminal"
   ]
  },
  {
   "cell_type": "code",
   "execution_count": null,
   "metadata": {
    "scrolled": true
   },
   "outputs": [],
   "source": [
    "#!zipline run -f $ALGO_BT  --start=2018-1-1 --end=2020-10-02 -b sharadar-funds -o $ALGO_BT_OUT"
   ]
  },
  {
   "cell_type": "markdown",
   "metadata": {},
   "source": [
    "## Zipline Live: \n",
    "    Method: Command Line \n",
    "    Execution of zipline code using below command line execution using magic (!) invocation.\n",
    "####    **Note:** IB-TWS or IB-Gateway must be running, with broker-acct and broker-uri port being correct to live trade."
   ]
  },
  {
   "cell_type": "markdown",
   "metadata": {},
   "source": [
    "## Run Live via Command Line\n",
    "### Uncomment '!zipline run ...' command below to run zipline live on IB-TWS/IB-Gateway "
   ]
  },
  {
   "cell_type": "code",
   "execution_count": null,
   "metadata": {},
   "outputs": [],
   "source": [
    "date_str=!date +%Y-%m-%d\n",
    "TODAY = date_str[0]\n",
    "print(\"TODAY={}\".format(TODAY))"
   ]
  },
  {
   "cell_type": "code",
   "execution_count": null,
   "metadata": {},
   "outputs": [],
   "source": [
    "ALGO_STATE = ALGO_PATH+  \"strategy.state\" \n",
    "ALGO_RTB   = ALGO_PATH + \"realtime-bars/\"\n",
    "\n",
    "#Uncomment line below(remove prefix #'s') and run cell( Shift-Enter) to execute Live run.\n",
    "# !zipline  run -s $TODAY -f $ALGO_LIVE  --bundle sharadar-funds --broker ib --broker-uri 127.0.0.1:7497:1301 --broker-acct DU1568488 --data-frequency daily  --state-file  $ALGO_STATE --realtime-bar-target $ALGO_RTB "
   ]
  },
  {
   "cell_type": "code",
   "execution_count": null,
   "metadata": {},
   "outputs": [],
   "source": []
  },
  {
   "cell_type": "code",
   "execution_count": null,
   "metadata": {},
   "outputs": [],
   "source": []
  }
 ],
 "metadata": {
  "hide_input": false,
  "kernelspec": {
   "display_name": "hca-py3.6",
   "language": "python",
   "name": "hca"
  },
  "language_info": {
   "codemirror_mode": {
    "name": "ipython",
    "version": 3
   },
   "file_extension": ".py",
   "mimetype": "text/x-python",
   "name": "python",
   "nbconvert_exporter": "python",
   "pygments_lexer": "ipython3",
   "version": "3.6.7"
  }
 },
 "nbformat": 4,
 "nbformat_minor": 4
}
