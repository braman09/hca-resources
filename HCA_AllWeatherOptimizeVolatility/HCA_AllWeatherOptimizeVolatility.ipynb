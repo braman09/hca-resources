{
 "cells": [
  {
   "cell_type": "markdown",
   "metadata": {},
   "source": [
    "## HotChili Analytics trading notebook template\n",
    "#### Configure by setting ALGO_NAME in cell below.\n",
    "#### Run various options (backtest, ingest, live) by uncommenting one cell "
   ]
  },
  {
   "cell_type": "code",
   "execution_count": 1,
   "metadata": {},
   "outputs": [
    {
     "name": "stderr",
     "output_type": "stream",
     "text": [
      "/home/hca-r2-001/miniconda3/envs/hca/lib/python3.6/site-packages/h5py/__init__.py:36: FutureWarning: Conversion of the second argument of issubdtype from `float` to `np.floating` is deprecated. In future, it will be treated as `np.float64 == np.dtype(float).type`.\n",
      "  from ._conv import register_converters as _register_converters\n",
      "/home/hca-r2-001/miniconda3/envs/hca/lib/python3.6/site-packages/odo/backends/pandas.py:94: FutureWarning: pandas.tslib is deprecated and will be removed in a future version.\n",
      "You can access NaTType as type(pandas.NaT)\n",
      "  @convert.register((pd.Timestamp, pd.Timedelta), (pd.tslib.NaTType, type(None)))\n"
     ]
    }
   ],
   "source": [
    "%matplotlib inline\n",
    "%load_ext zipline\n",
    "\n",
    "# %reload_ext zipline # Uncomment and use this when already loaded zipline extension for magic cell usage."
   ]
  },
  {
   "cell_type": "code",
   "execution_count": 2,
   "metadata": {},
   "outputs": [],
   "source": [
    "import pandas as pd\n",
    "\n",
    "# Options you can uncomment and set:\n",
    "\n",
    "# pd.set_option(\"max_colwidth\", 300)\n",
    "# pd.set_option(\"display.max_rows\", 300)\n",
    "# pd.set_option(\"display.max_columns\", 50)\n",
    "# pd.set_option('precision', 2)\n",
    "# pd.options.display.float_format = '{:20,.2f}'.format"
   ]
  },
  {
   "cell_type": "code",
   "execution_count": 3,
   "metadata": {},
   "outputs": [
    {
     "name": "stdout",
     "output_type": "stream",
     "text": [
      "hca_root_path = /home/hca-ws2004/hca\n"
     ]
    }
   ],
   "source": [
    "import os\n",
    "\n",
    "hca_root_path = os.environ['HCA_ROOT']\n",
    "print(f\"hca_root_path = {hca_root_path}\")"
   ]
  },
  {
   "cell_type": "markdown",
   "metadata": {},
   "source": [
    "# Construct algorithm strategy path names\n",
    "\n",
    "Assumptions:\n",
    "\n",
    "- the strategy is in a directory with the same name as the strategy in `ALGO_NAME` below\n",
    "- the strategy is located in the hca-resources directory, which is located relative to `hca_root_path`, found above"
   ]
  },
  {
   "cell_type": "code",
   "execution_count": 4,
   "metadata": {},
   "outputs": [],
   "source": [
    "ALGO_NAME = \"HCA_AllWeatherOptimizeVolatility\" # <--- Supply name here"
   ]
  },
  {
   "cell_type": "markdown",
   "metadata": {},
   "source": [
    "Other variables are derived from `ALGO_NAME`:"
   ]
  },
  {
   "cell_type": "code",
   "execution_count": 5,
   "metadata": {},
   "outputs": [
    {
     "name": "stdout",
     "output_type": "stream",
     "text": [
      "\n",
      "ALGO_NAME          = HCA_AllWeatherOptimizeVolatility\n",
      "HCA_RESOURCES_PATH = /home/hca-ws2004/hca/hca-resources/\n",
      "ALGO_PATH          = /home/hca-ws2004/hca/hca-resources/HCA_AllWeatherOptimizeVolatility/\n",
      "ALGO_BT            = /home/hca-ws2004/hca/hca-resources/HCA_AllWeatherOptimizeVolatility/HCA_AllWeatherOptimizeVolatility.py\n",
      "ALGO_BT_OUT        = /home/hca-ws2004/hca/hca-resources/HCA_AllWeatherOptimizeVolatility/HCA_AllWeatherOptimizeVolatility.pkl\n",
      "ALGO_LIVE          = /home/hca-ws2004/hca/hca-resources/HCA_AllWeatherOptimizeVolatility/HCA_AllWeatherOptimizeVolatility_Live.py\n",
      "\n",
      "Contents of algo directory:\n",
      "\n",
      "HCA_AllWeatherOptimizeVolatility.ipynb\n",
      "HCA_AllWeatherOptimizeVolatility_Live.py\n",
      "HCA_AllWeatherOptimizeVolatility.pkl\n",
      "HCA_AllWeatherOptimizeVolatility.py\n",
      "HCA_AllWeatherOptimizeVolatility_tearsheet.ipynb\n"
     ]
    }
   ],
   "source": [
    "HCA_RESOURCES_PATH = hca_root_path + \"/hca-resources/\" \n",
    "ALGO_PATH          = HCA_RESOURCES_PATH + ALGO_NAME + \"/\" \n",
    "ALGO_BT            = ALGO_PATH + ALGO_NAME + \".py\"\n",
    "ALGO_BT_OUT        = ALGO_PATH + ALGO_NAME + \".pkl\"\n",
    "ALGO_LIVE          = ALGO_PATH + ALGO_NAME + \"_Live\" + \".py\"\n",
    "\n",
    "print(f\"\"\"\n",
    "ALGO_NAME          = {ALGO_NAME}\n",
    "HCA_RESOURCES_PATH = {HCA_RESOURCES_PATH}\n",
    "ALGO_PATH          = {ALGO_PATH}\n",
    "ALGO_BT            = {ALGO_BT}\n",
    "ALGO_BT_OUT        = {ALGO_BT_OUT}\n",
    "ALGO_LIVE          = {ALGO_LIVE}\n",
    "\n",
    "Contents of algo directory:\n",
    "\"\"\")\n",
    "\n",
    "!ls $ALGO_PATH"
   ]
  },
  {
   "cell_type": "markdown",
   "metadata": {},
   "source": [
    "## Zipline backtest: \n",
    "\n",
    "- Method: Jupyter magic cell (%%) \n",
    "- Execution of zipline code in cell containing command line command\n",
    "- Uncomment first line and hit (shift-enter) inside the cell to run simulation backtest"
   ]
  },
  {
   "cell_type": "code",
   "execution_count": 6,
   "metadata": {},
   "outputs": [],
   "source": [
    "# %%zipline --start=2018-1-1 --end=2020-8-10 -b sharadar-eqfd -o $ALGO_BT_OUT\n",
    "\n",
    "# Source: adapted from various algos on quantopian\n",
    "# HCA Conversion Date: 09-05-2020\n",
    "# Conversion Author: Anthony Garner\n",
    "\n",
    "\n",
    "import matplotlib.pyplot as plt\n",
    "import numpy as np\n",
    "import math\n",
    "\n",
    "from zipline.api import (order, cancel_order, get_open_orders, symbol, symbols, \n",
    "                         date_rules, time_rules, order_target_percent, \n",
    "                         record, schedule_function, get_datetime)\n",
    "from trading_calendars import get_calendar\n",
    "\n",
    "\n",
    "def initialize(context):\n",
    "    schedule_function(func=trade, date_rule=date_rules.every_day(),\n",
    "                      time_rule=time_rules.market_open(),half_days=True)\n",
    "    context.asserts = symbols('SPY','IEF')\n",
    "\n",
    "    context.rebalance_date = 0\n",
    "    context.fired = False\n",
    "    context.rebalance_inteval = 'M'#'Q', #'D', #'M' #'Q' #'Y'\n",
    "\n",
    "    context.asserts_position = [0.5, 0.5]\n",
    "    context.volatility_policy = True\n",
    "    #unused if volatility_policy is false\n",
    "    context.volatility_days = 252\n",
    "    context.volatility_price_history = 66\n",
    "    #set at less than 1 to ensure no leverage\n",
    "    context.leverage_buffer=0.90\n",
    "\n",
    "\n",
    "def handle_data(context, data):\n",
    "    record(SPY=data[symbol('SPY')].price)\n",
    "\n",
    "\n",
    "def is_new_day(context, now):\n",
    "    return ( (now.year > context.rebalance_date.year) or (now.month > context.rebalance_date.month) or((now.month == context.rebalance_date.month) and (now.day > context.rebalance_date.day)))             \n",
    "\n",
    "\n",
    "def is_new_month(context, now):\n",
    "    return ((now.year > context.rebalance_date.year) or ((now.year == context.rebalance_date.year) and (now.month > context.rebalance_date.month)))\n",
    "\n",
    "\n",
    "def is_new_quarter(context, now):\n",
    "    return ((now.year > context.rebalance_date.year) or ((now.year == context.rebalance_date.year) and (now.month == context.rebalance_date.month + 3)))\n",
    "\n",
    "\n",
    "def is_new_year(context, now):\n",
    "    return (now.year > context.rebalance_date.year)\n",
    "\n",
    "\n",
    "def need_rebalance(context, now):\n",
    "    return ((context.rebalance_inteval == 'Y' and is_new_year(context, now))or \n",
    "           (context.rebalance_inteval == 'Q' and is_new_quarter(context, now)) or \n",
    "           (context.rebalance_inteval == 'M' and is_new_month(context, now)) or \n",
    "           (context.rebalance_inteval == 'D' and is_new_day(context, now)))\n",
    "\n",
    "\n",
    "# Compute historical volatility  \n",
    "def compute_volatility(price_history, days):  \n",
    "    # Compute daily returns  \n",
    "    daily_returns = price_history.pct_change().dropna().values  \n",
    "    # Compute daily volatility  \n",
    "    historical_vol_daily = np.std(daily_returns,axis=0)  \n",
    "    # Convert daily volatility to annual volatility, assuming 252 trading days  \n",
    "    historical_vol_annually = historical_vol_daily*math.sqrt(days)  \n",
    "    # Return estimate of annual volatility  \n",
    "    return historical_vol_annually\n",
    "\n",
    "\n",
    "def compute_asserts_volatility(context, data):\n",
    "    price_history = data.history(context.asserts, \"price\", context.volatility_price_history, \"1d\")\n",
    "    vol = 1.0/(compute_volatility(price_history, context.volatility_days))\n",
    "    #print(\"vol: \" + str(vol))\n",
    "    sum = np.sum(vol)\n",
    "    context.asserts_position = vol / sum\n",
    "    #print(\"asserts_position: \" + str(context.asserts_position))\n",
    "\n",
    "\n",
    "def init_portfolio(context, data):\n",
    "    if context.volatility_policy:\n",
    "        compute_asserts_volatility(context, data)\n",
    "    for i in range(0, len(context.asserts)):\n",
    "        #print(\"rebalance \" + context.asserts[i].symbol + \" to:\" + str(context.asserts_position[i]*100) + \"%\")\n",
    "        order_target_percent(context.asserts[i], context.asserts_position[i]* context.leverage_buffer)    \n",
    "\n",
    "\n",
    "def rebalance(context, data):\n",
    "    if context.volatility_policy:\n",
    "        compute_asserts_volatility(context, data)\n",
    "    for i in range(0, len(context.asserts)):\n",
    "        if data.can_trade(context.asserts[i]):\n",
    "            #print(\"rebalance \" + context.asserts[i].symbol + \" to:\" + str(context.asserts_position[i]*100) + \"%\")\n",
    "            order_target_percent(context.asserts[i], context.asserts_position[i]* context.leverage_buffer)\n",
    "\n",
    "\n",
    "def trade(context, data):\n",
    "    if not context.fired:\n",
    "        context.rebalance_date = get_datetime()\n",
    "        #print(\"build portfolio at \" + str(context.rebalance_date))\n",
    "        init_portfolio(context, data)\n",
    "        context.fired = True\n",
    "    else:\n",
    "        now = get_datetime()\n",
    "        if (need_rebalance(context, now)):\n",
    "            #print(\"new rebalance arrivid:\" + str(now))\n",
    "            context.rebalance_date = now\n",
    "            rebalance(context, data)\n",
    "\n",
    "\n",
    "def analyze(context, perf):\n",
    "    ax1 = plt.subplot(211)\n",
    "    perf.portfolio_value.plot(ax=ax1)\n",
    "    ax2 = plt.subplot(212, sharex=ax1)\n",
    "    perf.SPY.plot(ax=ax2)\n",
    "    plt.gcf().set_size_inches(18, 8)\n",
    "    plt.show()"
   ]
  },
  {
   "cell_type": "markdown",
   "metadata": {},
   "source": [
    "## Display your current bundles"
   ]
  },
  {
   "cell_type": "code",
   "execution_count": 7,
   "metadata": {},
   "outputs": [],
   "source": [
    "#!zipline bundles # Finds all bundles"
   ]
  },
  {
   "cell_type": "markdown",
   "metadata": {},
   "source": [
    "## Ingest Sharadar funds assets for today"
   ]
  },
  {
   "cell_type": "code",
   "execution_count": 8,
   "metadata": {},
   "outputs": [],
   "source": [
    "# Ingest Sharadar funds assets for today, if needed.\n",
    "\n",
    "# Only need to ingest Funds for this algo, and this takes less processing time and system memory than ingesting\n",
    "# all of Sharadar Equities plus Funds bundle (sharadar-eqfd)\n",
    "# !zipline ingest -b sharadar-funds"
   ]
  },
  {
   "cell_type": "markdown",
   "metadata": {},
   "source": [
    "## Zipline backtest, alternative method\n",
    "\n",
    "- Method: command line\n",
    "- Execution of zipline code, located in a file, using below command line execution with magic (`!`) invocation\n",
    "- This line can also be run in a terminal by copying everything past the `!` and pasting (shift-insert) it into the target terminal"
   ]
  },
  {
   "cell_type": "code",
   "execution_count": 9,
   "metadata": {
    "scrolled": true
   },
   "outputs": [
    {
     "name": "stdout",
     "output_type": "stream",
     "text": [
      "/home/hca-r2-001/miniconda3/envs/hca/lib/python3.6/site-packages/h5py/__init__.py:36: FutureWarning: Conversion of the second argument of issubdtype from `float` to `np.floating` is deprecated. In future, it will be treated as `np.float64 == np.dtype(float).type`.\n",
      "  from ._conv import register_converters as _register_converters\n",
      "/home/hca-r2-001/miniconda3/envs/hca/lib/python3.6/site-packages/odo/backends/pandas.py:94: FutureWarning: pandas.tslib is deprecated and will be removed in a future version.\n",
      "You can access NaTType as type(pandas.NaT)\n",
      "  @convert.register((pd.Timestamp, pd.Timedelta), (pd.tslib.NaTType, type(None)))\n",
      "extension: hca_root_path = /home/hca-ws2004/hca\n",
      "extension:TODAY_STR = 2021-04-10\n",
      "extension:TWO_YR_AGO_STR = 2019-04-10\n",
      "extension:  start_date=2019-04-10 end_date = 2021-04-10\n",
      "[2021-04-11 03:17:04.142386] INFO: Loader: Cache at /home/hca-ws2004/zipline-broker/data/SPY_benchmark.csv does not have data from 1990-01-02 00:00:00+00:00 to 2021-04-09 00:00:00+00:00.\n",
      "\n",
      "[2021-04-11 03:17:04.142642] INFO: Loader: Downloading benchmark data for 'SPY' from 1989-12-29 00:00:00+00:00 to 2021-04-09 00:00:00+00:00\n",
      "[2021-04-11 03:17:05.087742] WARNING: Loader: Still don't have expected benchmark data for 'SPY' from 1989-12-29 00:00:00+00:00 to 2021-04-09 00:00:00+00:00 after redownload!\n",
      "[2021-04-11 03:17:05.127078] INFO: Loader: Cache at /home/hca-ws2004/zipline-broker/data/treasury_curves.csv does not have data from 1990-01-02 00:00:00+00:00 to 2021-04-09 00:00:00+00:00.\n",
      "\n",
      "[2021-04-11 03:17:05.127238] INFO: Loader: Downloading treasury data for 'SPY' from 1990-01-02 00:00:00+00:00 to 2021-04-09 00:00:00+00:00\n",
      "[2021-04-11 03:17:07.136091] WARNING: Loader: Still don't have expected treasury data for 'SPY' from 1990-01-02 00:00:00+00:00 to 2021-04-09 00:00:00+00:00 after redownload!\n",
      "[2021-04-11 03:17:09.072650] INFO: zipline.finance.metrics.tracker: Simulated 823 trading days\n",
      "first open: 2018-01-02 14:31:00+00:00\n",
      "last close: 2021-04-09 20:00:00+00:00\n"
     ]
    }
   ],
   "source": [
    "!zipline run -f $ALGO_BT  --start=2018-1-1 --end=2021-04-09 -b sharadar-funds -o $ALGO_BT_OUT"
   ]
  },
  {
   "cell_type": "markdown",
   "metadata": {},
   "source": [
    "## Run Zipline live on IB-TWS via command line\n",
    "\n",
    "- Method: command line\n",
    "- Execution of zipline code using below command line execution using magic (`!`) invocation\n",
    "\n",
    "**Notes:** \n",
    "- IB-TWS or IB-Gateway must be running, with `IB_ACCT` and `IB_URI` port being correct to live trade\n",
    "- Change `I_WANT_TO_RUN_THIS_CODE` to `True` below to run zipline live on IB-TWS/IB-Gateway"
   ]
  },
  {
   "cell_type": "code",
   "execution_count": 10,
   "metadata": {},
   "outputs": [
    {
     "name": "stdout",
     "output_type": "stream",
     "text": [
      "TODAY = 2021-04-10\n"
     ]
    }
   ],
   "source": [
    "TODAY = pd.datetime.today().strftime(\"%Y-%m-%d\")\n",
    "print(\"TODAY = {}\".format(TODAY))"
   ]
  },
  {
   "cell_type": "code",
   "execution_count": 11,
   "metadata": {},
   "outputs": [],
   "source": [
    "ALGO_STATE = ALGO_PATH + \"strategy.state\" \n",
    "ALGO_RTB   = ALGO_PATH + \"realtime-bars/\"\n",
    "\n",
    "# Edit the following URI to match your IB account and port info.\n",
    "IB_ACCT = \"DU1568488\"\n",
    "IB_URI = \"127.0.0.1:7497:1301\"\n",
    "\n",
    "# Change following to 'True' and run cell (control-enter) to execute live run.\n",
    "I_WANT_TO_RUN_THIS_CODE = False\n",
    "#I_WANT_TO_RUN_THIS_CODE = True\n",
    "\n",
    "if I_WANT_TO_RUN_THIS_CODE:\n",
    "    \n",
    "    !zipline run \\\n",
    "        -s $TODAY \\\n",
    "        -f $ALGO_LIVE \\\n",
    "        --bundle hca-symbol \\\n",
    "        --broker ib \\\n",
    "        --broker-uri $IB_URI \\\n",
    "        --broker-acct $IB_ACCT \\\n",
    "        --data-frequency daily \\\n",
    "        --state-file $ALGO_STATE \\\n",
    "        --realtime-bar-target $ALGO_RTB "
   ]
  },
  {
   "cell_type": "code",
   "execution_count": null,
   "metadata": {},
   "outputs": [],
   "source": []
  }
 ],
 "metadata": {
  "hide_input": false,
  "kernelspec": {
   "display_name": "hca-py3.6.7",
   "language": "python",
   "name": "hca"
  },
  "language_info": {
   "codemirror_mode": {
    "name": "ipython",
    "version": 3
   },
   "file_extension": ".py",
   "mimetype": "text/x-python",
   "name": "python",
   "nbconvert_exporter": "python",
   "pygments_lexer": "ipython3",
   "version": "3.6.7"
  }
 },
 "nbformat": 4,
 "nbformat_minor": 4
}
