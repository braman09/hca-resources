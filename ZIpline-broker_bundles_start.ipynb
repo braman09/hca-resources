{
 "cells": [
  {
   "cell_type": "code",
   "execution_count": 1,
   "metadata": {},
   "outputs": [
    {
     "name": "stderr",
     "output_type": "stream",
     "text": [
      "/home/hca-r2-001/miniconda3/envs/hca/lib/python3.6/site-packages/h5py/__init__.py:36: FutureWarning: Conversion of the second argument of issubdtype from `float` to `np.floating` is deprecated. In future, it will be treated as `np.float64 == np.dtype(float).type`.\n",
      "  from ._conv import register_converters as _register_converters\n",
      "/home/hca-r2-001/miniconda3/envs/hca/lib/python3.6/site-packages/odo/backends/pandas.py:94: FutureWarning: pandas.tslib is deprecated and will be removed in a future version.\n",
      "You can access NaTType as type(pandas.NaT)\n",
      "  @convert.register((pd.Timestamp, pd.Timedelta), (pd.tslib.NaTType, type(None)))\n"
     ]
    }
   ],
   "source": [
    "%matplotlib inline\n",
    "%load_ext zipline"
   ]
  },
  {
   "cell_type": "code",
   "execution_count": 2,
   "metadata": {},
   "outputs": [
    {
     "data": {
      "text/html": [
       "<style>td {font-size: 20px}</style>"
      ],
      "text/plain": [
       "<IPython.core.display.HTML object>"
      ]
     },
     "execution_count": 2,
     "metadata": {},
     "output_type": "execute_result"
    }
   ],
   "source": [
    "from IPython.display import HTML\n",
    "HTML('''<style>td {font-size: 20px}</style>''')"
   ]
  },
  {
   "cell_type": "markdown",
   "metadata": {},
   "source": [
    "|   |  |\n",
    "| :---| :---|\n",
    "| <div style=\"img-align: left\"><img src=\"http://drive.google.com/uc?export=view&id=1zJjN-vEjutF__7wpEq5Yibxv9BRZeC74\" alt=\"HCA\" height=\"200\" width=\"200\"><div> | Zipline Bundle Update Notebook | \n",
    "| HotChili Platform | Version: 1.0.1,  Date:    2020-12-04 |"
   ]
  },
  {
   "cell_type": "markdown",
   "metadata": {},
   "source": [
    "## Instructions to update zipline price bundles\n",
    "\n",
    "**Run this notebook to update the zipline bundles that you need.**\n",
    "\n",
    "Zipline gets external data to use for it's Pricing Data, through an interface called Ingestion, and using an internal data structure called a Bundle.\n",
    "\n",
    "**A Bundle typically has a date range and a sampling rate (usually daily or minute).**\n",
    "\n",
    "The following bundles are currently supported (note that all bundles starting with `sharadar-` require a Quandl-Sharadar subscription):\n",
    "   1. quantopian-quandl (daily), daterange stops at ~5/20/2018, DEPRECATED\n",
    "   2. sharadar-prices   (daily), SEP, date range up to current\n",
    "   3. sharadar-funds    (daily), SFP, date range up to current\n",
    "   4. sharadar-eqfd     (daily), US Equity Funds\n",
    "   6. yahoo_csv         (Daily) Using a directory populated with Yahoo <asset>.csv files downloaded from Yahoo.\n",
    "   6. yahoo_direct      (Daily) Using a list of assets, with a start and end date, with data scraped from Yahoo.\n",
    "   6. iex               (Daily) Using IEX feed.\n",
    "\n",
    "\n",
    "\n",
    "You can also create your own bundles using the csvdir method.\n",
    "\n",
    "## HCA Live examples, with required bundle ingestion.\n",
    "- Trend following: [notebook](./HCA_Trendfollowing_live/HCA_Trendfollowing.ipynb)\n",
    "- Fixed ratio allocations: [notebook](./HCA_Fixed_Ratio_Allocations/HCA_Fixed_Ratio_Allocations.ipynb) and \n",
    "- All weather optimize volatility [notebook](./HCA_AllWeatherOptimizeVolatility/HCA_AllWeatherOptimizeVolatility.ipynb)\n",
    "- In_and_Out [notebook](./HCA_In_and_Out/HCA_In_and_Out.ipynb)\n",
    "- Momentum based Fundamentals and Pipeline [notebook](./HCA_Fundamentals/HCA_Fundamentals.ipynb)\n"
   ]
  },
  {
   "cell_type": "code",
   "execution_count": 3,
   "metadata": {},
   "outputs": [
    {
     "name": "stdout",
     "output_type": "stream",
     "text": [
      "hca_root_path = /home/hca-ws2004/hca\n"
     ]
    }
   ],
   "source": [
    "import os\n",
    "\n",
    "# silence warnings\n",
    "import warnings\n",
    "warnings.filterwarnings('ignore')\n",
    "\n",
    "# Remove warnings wrt deprecation check.\n",
    "# os.environ[\"TF_CPP_MIN_LOG_LEVEL\"] = \"3\"\n",
    "\n",
    "print(f\"hca_root_path = {os.environ['HCA_ROOT']}\")"
   ]
  },
  {
   "cell_type": "markdown",
   "metadata": {},
   "source": [
    "## List your current zipline bundles\n",
    "\n",
    "Uncomment and run the following cell."
   ]
  },
  {
   "cell_type": "code",
   "execution_count": 4,
   "metadata": {},
   "outputs": [
    {
     "name": "stdout",
     "output_type": "stream",
     "text": [
      "/home/hca-r2-001/miniconda3/envs/hca/lib/python3.6/site-packages/h5py/__init__.py:36: FutureWarning: Conversion of the second argument of issubdtype from `float` to `np.floating` is deprecated. In future, it will be treated as `np.float64 == np.dtype(float).type`.\n",
      "  from ._conv import register_converters as _register_converters\n",
      "/home/hca-r2-001/miniconda3/envs/hca/lib/python3.6/site-packages/odo/backends/pandas.py:94: FutureWarning: pandas.tslib is deprecated and will be removed in a future version.\n",
      "You can access NaTType as type(pandas.NaT)\n",
      "  @convert.register((pd.Timestamp, pd.Timedelta), (pd.tslib.NaTType, type(None)))\n",
      "extension: hca_root_path = /home/hca-ws2004/hca\n",
      "extension:TODAY_STR = 2021-05-03\n",
      "extension:TWO_YR_AGO_STR = 2019-05-03\n",
      "extension:  start_date=2019-05-03 end_date = 2021-05-03\n",
      "csvdir <no ingestions>\n",
      "hca-symbol <no ingestions>\n",
      "iex <no ingestions>\n",
      "quandl 2021-04-21 22:21:40.481400\n",
      "quandl 2021-04-21 22:20:52.473634\n",
      "quantopian-quandl 2021-04-21 16:49:35.838015\n",
      "sharadar-eqfd 2021-05-03 18:27:26.149691\n",
      "sharadar-eqfd 2021-04-30 11:34:42.381522\n",
      "sharadar-eqfd 2021-04-28 11:16:55.467234\n",
      "sharadar-eqfd 2021-04-27 12:15:57.492367\n",
      "sharadar-funds 2021-05-03 17:49:30.092690\n",
      "sharadar-funds 2021-04-30 11:00:01.813456\n",
      "sharadar-funds 2021-04-28 10:41:11.273387\n",
      "sharadar-funds 2021-04-27 11:40:32.773359\n",
      "sharadar-prices 2021-05-03 17:55:35.167794\n",
      "sharadar-prices 2021-04-30 11:05:17.426278\n",
      "sharadar-prices 2021-04-28 10:46:30.686137\n",
      "sharadar-prices 2021-04-27 11:46:14.197600\n",
      "yahoo_csv <no ingestions>\n",
      "yahoo_direct 2021-04-18 23:01:33.726689\n"
     ]
    }
   ],
   "source": [
    "!zipline bundles"
   ]
  },
  {
   "cell_type": "code",
   "execution_count": 5,
   "metadata": {},
   "outputs": [
    {
     "data": {
      "text/plain": [
       "'ADBE,ADSK,APPF,AVLR,BL,BOX,VEEV,WDAY,WORK,ZEN,ZM'"
      ]
     },
     "execution_count": 5,
     "metadata": {},
     "output_type": "execute_result"
    }
   ],
   "source": [
    " saastech_syms =['ADBE', \n",
    "    'ADSK', \n",
    "    'APPF', \n",
    "    'AVLR', \n",
    "    'BL', \n",
    "    'BOX', \n",
    "    'VEEV', \n",
    "    'WDAY', \n",
    "    'WORK',\n",
    "    'ZEN',\n",
    "    'ZM'\n",
    "]\n",
    "#saastech_syms_str = str(saastech_syms)\n",
    "saastech_syms_list = \",\".join(saastech_syms)\n",
    "saastech_syms_list"
   ]
  },
  {
   "cell_type": "markdown",
   "metadata": {},
   "source": [
    "## Run Bundle Ingest\n",
    "\n",
    "Uncomment one or more lines in the following cell and run it.\n",
    "\n",
    "Notice that they take varying amounts of time to complete.\n",
    "\n",
    "If doing live trading that needs current bundle data,\n",
    "you need to do this *before* live trading with zipline."
   ]
  },
  {
   "cell_type": "code",
   "execution_count": 6,
   "metadata": {},
   "outputs": [],
   "source": [
    "#------- Uncomment the bundles you want to create current ingestions -----#\n",
    "\n",
    "#!zipline ingest -b sharadar-prices # ~10 minutes running time\n",
    "#!zipline ingest -b sharadar-funds  # ~05 minutes running time\n",
    "#!zipline ingest -b sharadar-eqfd   # ~20 minutes running time\n",
    "# !zipline ingest -b hca-symbols     # ~01 minutes running time\n",
    "# !zipline ingest -b yahoo_csv     # ~01 minutes running time\n",
    "# \n",
    "\n",
    "#!export YAHOO_SYM_LST='SPY','ZSL','KOLD','GLD','SHY';zipline ingest -b yahoo_direct\n",
    "\n",
    "#!export YAHOO_SYM_LST='SPY','ZSL','KOLD','GLD','SHY';zipline ingest -b yahoo_direct\n",
    "#!export YAHOO_SYM_LST=$saastech_syms_list;zipline ingest -b yahoo_direct"
   ]
  },
  {
   "cell_type": "code",
   "execution_count": 7,
   "metadata": {},
   "outputs": [],
   "source": [
    "#!export YAHOO_SYM_LST=MOBL;zipline ingest -b yahoo_direct"
   ]
  },
  {
   "cell_type": "code",
   "execution_count": 8,
   "metadata": {},
   "outputs": [
    {
     "name": "stdout",
     "output_type": "stream",
     "text": [
      "/home/hca-ws2004/zipline-broker\n",
      "['setup.cfg', '.coveragerc', 'zipline_pip_install.log', 'Vagrantfile', '.eggs', 'etc', 'build', 'tests', 'data', '.appveyor.yml', 'zipline_live.egg-info', 'versioneer.py', 'LICENSE', '_config.yml', 'docs', 'Dockerfile-dev', 'AUTHORS', 'MANIFEST.in', '.gitattributes', 'conda', 'vagrant_init.sh', '.github', '.gitignore', 'ci', 'zipline-live_tests_output-2019-10-10.ans', '.dir-locals.el', '.git', '.dockerignore', '.travis.yml', 'extension.py', '__pycache__', 'Dockerfile', 'data-zlb-2021-04-12.tar.gz', 'setup.py', 'README.rst', 'CONTRIBUTING.rst', 'zipline']\n"
     ]
    }
   ],
   "source": [
    "#Y=data.history(symbol('MOBL'))\n",
    "#data = data.fillna(method='ffill')\n",
    "\n",
    "import os\n",
    "\n",
    "print(os.environ['ZIPLINE_ROOT'])\n",
    "print(os.listdir(os.environ['ZIPLINE_ROOT']))\n"
   ]
  },
  {
   "cell_type": "code",
   "execution_count": 9,
   "metadata": {},
   "outputs": [],
   "source": [
    "import zipline\n",
    "from zipline.data import bundles\n",
    "\n",
    "bundle_name = 'sharadar-prices' #'sharadar-funds' #'yahoo_direct' #'sharadar-prices'   #'yahoo_direct' #'alpaca_api'\n",
    "bundle_data = bundles.load(bundle_name)"
   ]
  },
  {
   "cell_type": "code",
   "execution_count": 10,
   "metadata": {},
   "outputs": [],
   "source": [
    "#dir(bundle_data)"
   ]
  },
  {
   "cell_type": "code",
   "execution_count": 11,
   "metadata": {},
   "outputs": [],
   "source": [
    "from zipline.pipeline.loaders import USEquityPricingLoader\n",
    "from zipline.utils.calendars import get_calendar\n",
    "from zipline.pipeline.data import USEquityPricing\n",
    "from zipline.data.data_portal import DataPortal\n",
    "\n",
    "import pandas as pd\n",
    "\n",
    "# Set the dataloader\n",
    "pricing_loader = USEquityPricingLoader(bundle_data.equity_daily_bar_reader, bundle_data.adjustment_reader)\n",
    "#pricing_loader = USEquityPricingLoader.without_fx(bundle_data.equity_daily_bar_reader, bundle_data.adjustment_reader)\n",
    "\n",
    "\n",
    "# Define the function for the get_loader parameter\n",
    "def choose_loader(column):\n",
    "    if column not in USEquityPricing.columns:\n",
    "        raise Exception('Column not in USEquityPricing')\n",
    "    return pricing_loader\n",
    "\n",
    "# Set the trading calendar\n",
    "trading_calendar = get_calendar('NYSE')\n",
    "\n",
    "start_date = pd.Timestamp('2019-07-05', tz='utc')\n",
    "end_date = pd.Timestamp('2021-04-10', tz='utc')\n",
    "\n",
    "# Create a data portal\n",
    "data_portal = DataPortal(bundle_data.asset_finder,\n",
    "                         trading_calendar = trading_calendar,\n",
    "                         first_trading_day = start_date,\n",
    "                         equity_daily_reader = bundle_data.equity_daily_bar_reader,\n",
    "                         adjustment_reader = bundle_data.adjustment_reader)\n"
   ]
  },
  {
   "cell_type": "code",
   "execution_count": 12,
   "metadata": {},
   "outputs": [
    {
     "name": "stdout",
     "output_type": "stream",
     "text": [
      "GE\n",
      "FB\n"
     ]
    }
   ],
   "source": [
    "saastech_syms\n",
    "for sym in[\"GE\", \"FB\"]:\n",
    "    print(sym)"
   ]
  },
  {
   "cell_type": "code",
   "execution_count": 13,
   "metadata": {},
   "outputs": [],
   "source": [
    "equity = bundle_data.asset_finder.lookup_symbols(saastech_syms, end_date)\n",
    "#equity = bundle_data.asset_finder.lookup_symbols([\"FB\", \"GE\"], end_date)\n",
    "#equity = bundle_data.asset_finder.lookup_symbol(\"fb\", end_date)\n",
    "#data_portal.get_history_window(assets=[equity], end_dt=end_date, bar_count=10,\n",
    "prices=data_portal.get_history_window(assets=equity, end_dt=end_date, bar_count=100,\n",
    "                               frequency='1d',\n",
    "                               field='close',\n",
    "                               data_frequency='daily')"
   ]
  },
  {
   "cell_type": "markdown",
   "metadata": {},
   "source": [
    "prices.plot()"
   ]
  },
  {
   "cell_type": "code",
   "execution_count": 14,
   "metadata": {},
   "outputs": [
    {
     "data": {
      "text/html": [
       "<div>\n",
       "<style scoped>\n",
       "    .dataframe tbody tr th:only-of-type {\n",
       "        vertical-align: middle;\n",
       "    }\n",
       "\n",
       "    .dataframe tbody tr th {\n",
       "        vertical-align: top;\n",
       "    }\n",
       "\n",
       "    .dataframe thead th {\n",
       "        text-align: right;\n",
       "    }\n",
       "</style>\n",
       "<table border=\"1\" class=\"dataframe\">\n",
       "  <thead>\n",
       "    <tr style=\"text-align: right;\">\n",
       "      <th></th>\n",
       "      <th>Equity(188 [ADBE])</th>\n",
       "      <th>Equity(234 [ADSK])</th>\n",
       "      <th>Equity(828 [APPF])</th>\n",
       "      <th>Equity(1203 [AVLR])</th>\n",
       "      <th>Equity(1628 [BL])</th>\n",
       "      <th>Equity(1757 [BOX])</th>\n",
       "      <th>Equity(11736 [VEEV])</th>\n",
       "      <th>Equity(12074 [WDAY])</th>\n",
       "      <th>Equity(12217 [WORK])</th>\n",
       "      <th>Equity(12495 [ZEN])</th>\n",
       "      <th>Equity(12527 [ZM])</th>\n",
       "    </tr>\n",
       "  </thead>\n",
       "  <tbody>\n",
       "    <tr>\n",
       "      <th>2021-04-06 00:00:00+00:00</th>\n",
       "      <td>491.34</td>\n",
       "      <td>285.50</td>\n",
       "      <td>142.79</td>\n",
       "      <td>141.57</td>\n",
       "      <td>112.26</td>\n",
       "      <td>24.11</td>\n",
       "      <td>265.43</td>\n",
       "      <td>254.90</td>\n",
       "      <td>41.41</td>\n",
       "      <td>139.33</td>\n",
       "      <td>329.79</td>\n",
       "    </tr>\n",
       "    <tr>\n",
       "      <th>2021-04-07 00:00:00+00:00</th>\n",
       "      <td>493.41</td>\n",
       "      <td>286.12</td>\n",
       "      <td>141.99</td>\n",
       "      <td>140.46</td>\n",
       "      <td>111.01</td>\n",
       "      <td>24.27</td>\n",
       "      <td>260.38</td>\n",
       "      <td>251.93</td>\n",
       "      <td>41.50</td>\n",
       "      <td>137.62</td>\n",
       "      <td>323.08</td>\n",
       "    </tr>\n",
       "    <tr>\n",
       "      <th>2021-04-08 00:00:00+00:00</th>\n",
       "      <td>499.84</td>\n",
       "      <td>293.43</td>\n",
       "      <td>143.01</td>\n",
       "      <td>143.15</td>\n",
       "      <td>113.29</td>\n",
       "      <td>22.00</td>\n",
       "      <td>263.38</td>\n",
       "      <td>257.04</td>\n",
       "      <td>41.67</td>\n",
       "      <td>142.04</td>\n",
       "      <td>331.28</td>\n",
       "    </tr>\n",
       "    <tr>\n",
       "      <th>2021-04-09 00:00:00+00:00</th>\n",
       "      <td>504.04</td>\n",
       "      <td>297.57</td>\n",
       "      <td>142.47</td>\n",
       "      <td>142.56</td>\n",
       "      <td>112.88</td>\n",
       "      <td>21.70</td>\n",
       "      <td>264.23</td>\n",
       "      <td>257.61</td>\n",
       "      <td>42.29</td>\n",
       "      <td>144.34</td>\n",
       "      <td>322.65</td>\n",
       "    </tr>\n",
       "    <tr>\n",
       "      <th>2021-04-12 00:00:00+00:00</th>\n",
       "      <td>506.03</td>\n",
       "      <td>294.50</td>\n",
       "      <td>142.50</td>\n",
       "      <td>143.39</td>\n",
       "      <td>113.27</td>\n",
       "      <td>21.55</td>\n",
       "      <td>263.04</td>\n",
       "      <td>259.51</td>\n",
       "      <td>41.94</td>\n",
       "      <td>146.36</td>\n",
       "      <td>321.51</td>\n",
       "    </tr>\n",
       "  </tbody>\n",
       "</table>\n",
       "</div>"
      ],
      "text/plain": [
       "                           Equity(188 [ADBE])  Equity(234 [ADSK])  \\\n",
       "2021-04-06 00:00:00+00:00              491.34              285.50   \n",
       "2021-04-07 00:00:00+00:00              493.41              286.12   \n",
       "2021-04-08 00:00:00+00:00              499.84              293.43   \n",
       "2021-04-09 00:00:00+00:00              504.04              297.57   \n",
       "2021-04-12 00:00:00+00:00              506.03              294.50   \n",
       "\n",
       "                           Equity(828 [APPF])  Equity(1203 [AVLR])  \\\n",
       "2021-04-06 00:00:00+00:00              142.79               141.57   \n",
       "2021-04-07 00:00:00+00:00              141.99               140.46   \n",
       "2021-04-08 00:00:00+00:00              143.01               143.15   \n",
       "2021-04-09 00:00:00+00:00              142.47               142.56   \n",
       "2021-04-12 00:00:00+00:00              142.50               143.39   \n",
       "\n",
       "                           Equity(1628 [BL])  Equity(1757 [BOX])  \\\n",
       "2021-04-06 00:00:00+00:00             112.26               24.11   \n",
       "2021-04-07 00:00:00+00:00             111.01               24.27   \n",
       "2021-04-08 00:00:00+00:00             113.29               22.00   \n",
       "2021-04-09 00:00:00+00:00             112.88               21.70   \n",
       "2021-04-12 00:00:00+00:00             113.27               21.55   \n",
       "\n",
       "                           Equity(11736 [VEEV])  Equity(12074 [WDAY])  \\\n",
       "2021-04-06 00:00:00+00:00                265.43                254.90   \n",
       "2021-04-07 00:00:00+00:00                260.38                251.93   \n",
       "2021-04-08 00:00:00+00:00                263.38                257.04   \n",
       "2021-04-09 00:00:00+00:00                264.23                257.61   \n",
       "2021-04-12 00:00:00+00:00                263.04                259.51   \n",
       "\n",
       "                           Equity(12217 [WORK])  Equity(12495 [ZEN])  \\\n",
       "2021-04-06 00:00:00+00:00                 41.41               139.33   \n",
       "2021-04-07 00:00:00+00:00                 41.50               137.62   \n",
       "2021-04-08 00:00:00+00:00                 41.67               142.04   \n",
       "2021-04-09 00:00:00+00:00                 42.29               144.34   \n",
       "2021-04-12 00:00:00+00:00                 41.94               146.36   \n",
       "\n",
       "                           Equity(12527 [ZM])  \n",
       "2021-04-06 00:00:00+00:00              329.79  \n",
       "2021-04-07 00:00:00+00:00              323.08  \n",
       "2021-04-08 00:00:00+00:00              331.28  \n",
       "2021-04-09 00:00:00+00:00              322.65  \n",
       "2021-04-12 00:00:00+00:00              321.51  "
      ]
     },
     "execution_count": 14,
     "metadata": {},
     "output_type": "execute_result"
    }
   ],
   "source": [
    "prices.tail()"
   ]
  },
  {
   "cell_type": "code",
   "execution_count": 15,
   "metadata": {},
   "outputs": [
    {
     "data": {
      "text/plain": [
       "<matplotlib.axes._subplots.AxesSubplot at 0x7f9108401550>"
      ]
     },
     "execution_count": 15,
     "metadata": {},
     "output_type": "execute_result"
    },
    {
     "data": {
      "image/png": "[encoded data removed]",
      "text/plain": [
       "<Figure size 432x288 with 1 Axes>"
      ]
     },
     "metadata": {
      "needs_background": "light"
     },
     "output_type": "display_data"
    }
   ],
   "source": [
    "prices.plot()"
   ]
  },
  {
   "cell_type": "code",
   "execution_count": null,
   "metadata": {},
   "outputs": [],
   "source": []
  }
 ],
 "metadata": {
  "kernelspec": {
   "display_name": "hca-py3.6.7",
   "language": "python",
   "name": "hca"
  },
  "language_info": {
   "codemirror_mode": {
    "name": "ipython",
    "version": 3
   },
   "file_extension": ".py",
   "mimetype": "text/x-python",
   "name": "python",
   "nbconvert_exporter": "python",
   "pygments_lexer": "ipython3",
   "version": "3.6.7"
  }
 },
 "nbformat": 4,
 "nbformat_minor": 4
}
