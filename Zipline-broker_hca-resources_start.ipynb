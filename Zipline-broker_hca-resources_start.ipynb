{
 "cells": [
  {
   "cell_type": "code",
   "execution_count": 1,
   "metadata": {},
   "outputs": [
    {
     "data": {
      "text/html": [
       "<style>table {margin-left: 0 !important;}</style>\n",
       "<style>td {font-size: 15px}</style>\n"
      ],
      "text/plain": [
       "<IPython.core.display.HTML object>"
      ]
     },
     "metadata": {},
     "output_type": "display_data"
    }
   ],
   "source": [
    "%%html\n",
    "<style>table {margin-left: 0 !important;}</style>\n",
    "<style>td {font-size: 15px}</style>"
   ]
  },
  {
   "cell_type": "markdown",
   "metadata": {},
   "source": [
    "|  |  |\n",
    "|:---|:---|\n",
    "| <div style=\"img-align: left\"><img src=\"http://drive.google.com/uc?export=view&id=1zJjN-vEjutF__7wpEq5Yibxv9BRZeC74\" alt=\"HCA\" height=\"275\" width=\"275\"><div> | hca-resources, from <a href=\"https://www.hotchilianalytics.com\">Hot Chili Analytics</a> | \n",
    "|  | Date:    2021-05-03 |\n",
    "|  | **DISCLAIMER:** Common Sense Caution: *We take no responsibility for you running any of the software or using any of the suggestions described in any of these packages.* ALWAYS use paper trading first to test your trading algorithms. We typically use paper trading for from 1-6 months before transitioning over to live-trading.|"
   ]
  },
  {
   "cell_type": "markdown",
   "metadata": {},
   "source": [
    "### \n",
    "    \n",
    "    "
   ]
  },
  {
   "cell_type": "markdown",
   "metadata": {},
   "source": [
    "## **hca-resources**\n",
    "\n",
    "Examples with Code\n",
    "------------------\n",
    "\n",
    "This directory contains example resources that go with the open source <a href=\"https://github.com/hotchilianalytics/zipline-broker\">zipline-broker</a> repository:\n",
    "\n",
    "These examples concentrate on investment-grade algorithms with a complete economic thesis, research, backtest, and live-trading with Interactive Brokers.  Here are the steps to take to effectively use these examples\n",
    "\n",
    "1. Browse the  the HCA YouTube Channel for tips. [Video](https://www.youtube.com/channel/UCu-TXGTS-AdRW0Nl0HVsViw)\n",
    "2. Pop up JupyterLab/Jupyter and read this document and the zipline bundles one in  [hca-resources](./hca-resources)\n",
    "3. Develop and run your own flow to Research, Backtest, and Live-Trade. Use the examples in the [hca-resources](./hca-resources) directory to get started. Click on one of the example directories and start up the file *HCA_<example_name>.ipynb*\n",
    "4. Run the [Zipline_bundle notebook](./Zipline_bundle.ipynb) in this directory to get learn how to use other data pricing bundles.\n",
    "5. (Optional) Install IB-TWS using script <a href=\"https://github.com/hotchilianalytics/zipline-broker/blob/master/install/download_install_tws.sh\">download_install_tws.sh</a> , so that you can live trade with IB. \n",
    "6. **Common Sense Caution**: ALWAYS use paper trading first to test your trading algorithms.  We take no responsibility for you running any of the software or using any of the suggestions described in any of these packages. We typically use paper trading for from 1-6 months before transitioning over to live-trading.\n",
    "6. (Optional) Install Wing-IDE Python coding and debugging platform, or any other one, for line-by-line code debugging. \n",
    "4. Edit IB account number(s)(See below section).  ***MAKE SURE THAT YOU RUN INSIDE A PAPER TRADING ACCOUNT AND VALIDATE YOUR ALGO BEFOR RUNNING A LIVE TRADING ACCOUNT!***\n",
    "5. Start IB TWS, and execute the live-trading cell inside the example notebook. Remember, use an IB Paper Trading Account first.\n",
    "\n",
    "Data\n",
    "----\n",
    "The `yahoo_direct` bundle is very simple to use, and the symbols in the bundle can be listed by looking at the value of the system variable. To ingest and then list out the symbols you ingested execute the followowing in a notebook cell(remove the  !  to execute on a commandline.)  This list of symbols is from the Trend_Following example.(see below for link)\n",
    "\n",
    "    !export YAHOO_SYM_LST=SPY,ZSL,KOLD,GLD,SHY;zipline ingest -b yahoo_direct\n",
    "    !echo $YAHOO_SYM_LST\n",
    "\n",
    "The Quandl data ingestion is there to demonstrate the connection to zipline and does **not** require the Quandl API key.\n",
    "\n",
    "The Sharadar ingestion requires the Quandl API key (see **first task** above), and requires a Qandl Sharadar SEP (Equities) and/or SFP (Funds) subscription. \n",
    "\n",
    "\n",
    "## **HCA working examples**\n",
    "- **Fixed ratio allocations:**  [notebook](./hca-resources/HCA_Fixed_Ratio_Allocations/HCA_Fixed_Ratio_Allocations.ipynb) and \n",
    "- **All weather optimize volatility:** [notebook](./hca-resources/HCA_AllWeatherOptimizeVolatility/HCA_AllWeatherOptimizeVolatility.ipynb)\n",
    "- **Trend following:**  [notebook](./hca-resources/HCA_Trendfollowing/HCA_Trendfollowing.ipynb)\n",
    "- **In and Out Algo:**  [video](https://youtu.be/_gGY3GplL7c) and [algo](../hca-resources/HCA_In_and_Out/HCA_In_and_Out_Live.py)\n",
    "- **HCA_Fundamentals:**  [algo](./hca-resources/HCA_Fundamentals/HCA_Fundamentals.py)\n",
    "\n",
    "The ***Free and Broker Data Bundles*** There are now two ways to get at free and broker supplied data.\n",
    "\n",
    "1. **Yahoo Finance and IEX coverage.** <br>  By  integrating  the opensource [zipline_bundles](https://github.com/hotchilianalytics/zipline_bundles) functionality inside of zipline-broker [zipline-broker](https://github.com/hotchilianalytics/zipline-broker), we now can get free daily data for a variety of assets, over a variety of time frames.  This is useful for both backtesting and live trading.  See the updated `hca-resources` directory for examples of usage of the new `yahoo_direct` and `yahoo_csv` bundles.  The new iex bundle has not been tested yet.\n",
    "\n",
    "2. **In-And-Out Strategy** <br>\n",
    "The In_and_Out Strategy, from Quantopian, has been transformed from Quantopian code to zipline-broker backtest code, to zipline-broker live trading code with the IB API at\n",
    "- [live-strategy](./HCA_In_and_Out/HCA_In_and_Out_Live.py )\n",
    "- [HCA_In_and_Out](./HCA_In_and_Out)\n",
    "\n",
    "```\n",
    "\n",
    "```\n",
    "\n",
    "## **Set up Quandl and IB API keys for data and live trading access**\n",
    "\n",
    "The **first** required task is to enter your IB account and Quandl API key.  Click the file called hca.env to edit it as a text file.   You will need to edit the below two lines by adding your own IB account number and Quandl API key:\n",
    "\n",
    "```\n",
    "IB_ACCOUNTS=\n",
    "QUANDL_API_KEY=\n",
    "```\n",
    "\n",
    "You will need to turn those two lines into something like:\n",
    "\n",
    "```\n",
    "# IB_ACCOUNTS=DU1234567\n",
    "# QUANDL_API_KEY=bEx90ss9xlad-sj9clsl\n",
    "```\n",
    "\n",
    "or, if you have multiple accounts:\n",
    "\n",
    "```\n",
    "# IB_ACCOUNTS=DU1234567,U9876543,DU38383838,U92929292\n",
    "# QUANDL_API_KEY=bEx90ss9xlad-sj9clsl\n",
    "```\n",
    "\n",
    "After you edit, click \"Save\" and close editor. \n",
    "\n",
    "\n"
   ]
  },
  {
   "cell_type": "code",
   "execution_count": null,
   "metadata": {},
   "outputs": [],
   "source": []
  }
 ],
 "metadata": {
  "kernelspec": {
   "display_name": "hca-py3.6.7",
   "language": "python",
   "name": "hca"
  },
  "language_info": {
   "codemirror_mode": {
    "name": "ipython",
    "version": 3
   },
   "file_extension": ".py",
   "mimetype": "text/x-python",
   "name": "python",
   "nbconvert_exporter": "python",
   "pygments_lexer": "ipython3",
   "version": "3.6.7"
  }
 },
 "nbformat": 4,
 "nbformat_minor": 4
}
