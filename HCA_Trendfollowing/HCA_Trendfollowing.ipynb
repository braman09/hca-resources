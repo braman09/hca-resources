{
 "cells": [
  {
   "cell_type": "markdown",
   "metadata": {},
   "source": [
    "## HotChili Analytics trading notebook template\n",
    "#### Configure by setting ALGO_NAME in cell below.\n",
    "#### Run various options (backtest, ingest, live) by uncommenting one cell "
   ]
  },
  {
   "cell_type": "code",
   "execution_count": null,
   "metadata": {},
   "outputs": [],
   "source": [
    "%matplotlib inline\n",
    "%load_ext zipline\n",
    "\n",
    "# %reload_ext zipline # Uncomment and use this when already loaded zipline extension for magic cell usage."
   ]
  },
  {
   "cell_type": "code",
   "execution_count": null,
   "metadata": {},
   "outputs": [],
   "source": [
    "import pandas as pd\n",
    "\n",
    "# Options you can uncomment and set:\n",
    "\n",
    "# pd.set_option(\"max_colwidth\", 300)\n",
    "# pd.set_option(\"display.max_rows\", 300)\n",
    "# pd.set_option(\"display.max_columns\", 50)\n",
    "# pd.set_option('precision', 2)\n",
    "# pd.options.display.float_format = '{:20,.2f}'.format"
   ]
  },
  {
   "cell_type": "code",
   "execution_count": null,
   "metadata": {},
   "outputs": [],
   "source": [
    "import os\n",
    "\n",
    "hca_root_path = os.environ['HCA_ROOT']\n",
    "print(f\"hca_root_path = {hca_root_path}\")"
   ]
  },
  {
   "cell_type": "markdown",
   "metadata": {},
   "source": [
    "# Construct algorithm strategy path names\n",
    "\n",
    "Assumptions:\n",
    "\n",
    "- the strategy is in a directory with the same name as the strategy in `ALGO_NAME` below\n",
    "- the strategy is located in the hca-resources directory, which is located relative to `hca_root_path`, found above"
   ]
  },
  {
   "cell_type": "code",
   "execution_count": null,
   "metadata": {},
   "outputs": [],
   "source": [
    "ALGO_NAME = \"HCA_Trendfollowing\" # <--- Supply name here"
   ]
  },
  {
   "cell_type": "markdown",
   "metadata": {},
   "source": [
    "Other variables are derived from `ALGO_NAME`:"
   ]
  },
  {
   "cell_type": "code",
   "execution_count": null,
   "metadata": {},
   "outputs": [],
   "source": [
    "HCA_RESOURCES_PATH = hca_root_path + \"/hca-resources/\" \n",
    "ALGO_PATH          = HCA_RESOURCES_PATH + ALGO_NAME + \"/\" \n",
    "ALGO_BT            = ALGO_PATH + ALGO_NAME + \".py\"\n",
    "ALGO_BT_OUT        = ALGO_PATH + ALGO_NAME + \".pkl\"\n",
    "ALGO_LIVE          = ALGO_PATH + ALGO_NAME + \"_Live\" + \".py\"\n",
    "\n",
    "print(f\"\"\"\n",
    "ALGO_NAME          = {ALGO_NAME}\n",
    "HCA_RESOURCES_PATH = {HCA_RESOURCES_PATH}\n",
    "ALGO_PATH          = {ALGO_PATH}\n",
    "ALGO_BT            = {ALGO_BT}\n",
    "ALGO_BT_OUT        = {ALGO_BT_OUT}\n",
    "ALGO_LIVE          = {ALGO_LIVE}\n",
    "\n",
    "Contents of algo directory:\n",
    "\"\"\")\n",
    "\n",
    "!ls $ALGO_PATH"
   ]
  },
  {
   "cell_type": "markdown",
   "metadata": {},
   "source": [
    "## Zipline backtest: \n",
    "\n",
    "- Method: Jupyter magic cell (%%) \n",
    "- Execution of zipline code in cell containing command line command\n",
    "- Uncomment first line and hit (shift-enter) inside the cell to run simulation backtest"
   ]
  },
  {
   "cell_type": "code",
   "execution_count": null,
   "metadata": {},
   "outputs": [],
   "source": [
    "# %%zipline --start=2018-1-1 --end=2020-8-10 -b sharadar-funds -o $ALGO_BT_OUT\n",
    "\n",
    "# Source: adapted from various algos on quantopian\n",
    "# HCA Conversion Date: 08-14-2020\n",
    "# Conversion Author: Anthony garner\n",
    "\n",
    "# Simple trend following portfolio\n",
    "\n",
    "\n",
    "import matplotlib.pyplot as plt\n",
    "import pandas as pd\n",
    "import logging as log\n",
    "\n",
    "from zipline.api import (order, cancel_order, get_open_orders, symbol, symbols, \n",
    "                         date_rules, time_rules, order_target_percent, \n",
    "                         record, schedule_function, get_datetime)\n",
    "from trading_calendars import get_calendar\n",
    "\n",
    "\n",
    "def initialize(context):\n",
    "    schedule_function(func=trade, date_rule=date_rules.every_day(),\n",
    "                      time_rule=time_rules.market_open(),half_days=True)\n",
    "    schedule_function(func=cancel,time_rule=time_rules.market_close(minutes=5),  \n",
    "                      date_rule=date_rules.every_day(),half_days=True)  \n",
    "    schedule_function(func=reorder, time_rule=time_rules.market_open(minutes=5),  \n",
    "                      date_rule=date_rules.every_day(),half_days=True)\n",
    "    context.assets = symbols('SPY')\n",
    "    context.bonds = symbol('SHY') \n",
    "    context.rebalance_date = 0\n",
    "    context.fired = False\n",
    "    context.rebalance_inteval = 'M'#'Q', #'D', #'M' #'Q' #'Y'\n",
    "    context.top_n_by_momentum = pd.Series()  \n",
    "    #Choose X stocks out of portfolio of Y stocks- how many stocks to hold - top X by momentum \n",
    "    context.stocks=1\n",
    "    #Lookback for momentum calculation\n",
    "    context.momentum_days=60\n",
    "    #set at less than 1 to ensure no leverage\n",
    "    context.leverage_buffer=0.99\n",
    "    #Set to 0 to reject any stocks with negative momentum, set to -1 to accept stocks with negative momentum\n",
    "    context.trend =0.0\n",
    "    context.reorder_dict = {}  \n",
    "\n",
    "\n",
    "def handle_data(context, data):\n",
    "    record(SPY=data[symbol('SPY')].price)\n",
    "\n",
    "\n",
    "def is_new_day(context, now):\n",
    "    return ( (now.year > context.rebalance_date.year) or (now.month > context.rebalance_date.month) or((now.month == context.rebalance_date.month) and (now.day > context.rebalance_date.day)))             \n",
    "\n",
    "\n",
    "def is_new_month(context, now):\n",
    "    return ((now.year > context.rebalance_date.year) or ((now.year == context.rebalance_date.year) and (now.month > context.rebalance_date.month)))\n",
    "\n",
    "\n",
    "def is_new_quarter(context, now):\n",
    "    return ((now.year > context.rebalance_date.year) or ((now.year == context.rebalance_date.year) and (now.month == context.rebalance_date.month + 3)))\n",
    "\n",
    "\n",
    "def is_new_year(context, now):\n",
    "    return (now.year > context.rebalance_date.year)\n",
    "\n",
    "\n",
    "def need_rebalance(context, now):\n",
    "    return ((context.rebalance_inteval == 'Y' and is_new_year(context, now))or \n",
    "           (context.rebalance_inteval == 'Q' and is_new_quarter(context, now)) or \n",
    "           (context.rebalance_inteval == 'M' and is_new_month(context, now)) or \n",
    "           (context.rebalance_inteval == 'D' and is_new_day(context, now)))\n",
    "\n",
    "\n",
    "def compute_momentum(context,data):  \n",
    "    price_history = data.history(context.assets, \"price\", context.momentum_days+5, \"1d\")\n",
    "    momentum = price_history.pct_change(context.momentum_days).iloc[-1]\n",
    "    #for index,value in momentum.items():\n",
    "        #log.debug(\"unfiltered momentun\"+\" \"+ str(index)+\" \"+ str(value) )\n",
    "    context.top_n_by_momentum = momentum.nlargest(context.stocks).where(momentum>context.trend).dropna()\n",
    "    #for index,value in context.top_n_by_momentum.items():\n",
    "        #log.debug(\"context.top_n_by_momentun\"+\" \"+str(index)+\" \" + str(value) )\n",
    "    return context.top_n_by_momentum\n",
    "\n",
    "\n",
    "def init_portfolio(context, data):\n",
    "    weights=0.0\n",
    "    reserve_allocation=0.0\n",
    "    compute_momentum(context, data)\n",
    "    for index,value in context.top_n_by_momentum.items():\n",
    "        if data.can_trade(index):\n",
    "            weights =weights +1/context.stocks\n",
    "            order_target_percent(index, (1/context.stocks)* context.leverage_buffer)\n",
    "    #Assign weighting and an order to the reserve asset if and when appropriate\n",
    "    if weights <1 and data.can_trade(context.bonds):\n",
    "        reserve_allocation=1-weights\n",
    "        order_target_percent(context.bonds, reserve_allocation* context.leverage_buffer)     \n",
    "\n",
    "\n",
    "def rebalance(context, data):\n",
    "    weights=0.0\n",
    "    reserve_allocation=0.0\n",
    "    compute_momentum(context, data)\n",
    "    for x in context.portfolio.positions:\n",
    "        if (x not in context.top_n_by_momentum and x != context.bonds):\n",
    "            order_target_percent(x, 0)            \n",
    "    \n",
    "    for index,value in context.top_n_by_momentum.items():\n",
    "        if data.can_trade(index)and index != context.bonds:\n",
    "            weights =weights +1/context.stocks\n",
    "            order_target_percent(index, (1/context.stocks)*context.leverage_buffer)\n",
    "        elif data.can_trade(index) and index != context.bonds: \n",
    "            order_target_percent(index, 0)\n",
    "    #Assign weighting and an order to the reserve asset if and when appropriate        \n",
    "    if data.can_trade(context.bonds):\n",
    "        reserve_allocation=1-weights\n",
    "        order_target_percent(context.bonds, reserve_allocation* context.leverage_buffer)        \n",
    "\n",
    "\n",
    "# Will be called daily. \n",
    "def trade(context, data):\n",
    "    if not context.fired:\n",
    "        context.rebalance_date = get_datetime()\n",
    "        log.info(\"build portfolio at \" + str(context.rebalance_date))\n",
    "        init_portfolio(context, data)\n",
    "        context.fired = True\n",
    "        now = get_datetime()\n",
    "    else:\n",
    "        now = get_datetime()\n",
    "        if (need_rebalance(context, now)):\n",
    "            log.info(\"new rebalance arrivied:\" + str(now))\n",
    "            rebalance(context, data)\n",
    "            context.rebalance_date = now\n",
    "\n",
    "# orphan:\n",
    "# open_orders = get_all_open_orders()  \n",
    "# for order in open_orders:  \n",
    "# log.info(\"Rebalance Order {0:s} for {1:,d} shares\" .format(order.sid.symbol,order.amount))\n",
    "\n",
    "\n",
    "# Called Daily to replace/re-order partially or unfilled orders\n",
    "def cancel(context, data):  \n",
    "    open_orders = get_all_open_orders()  \n",
    "    for order in open_orders:  \n",
    "        log.info(\"X CANCELED {0:s} with {1:,d} / {2:,d} filled\" \n",
    "            .format(order.sid.symbol,  \n",
    "                    order.filled,  \n",
    "                    order.amount))  \n",
    "        cancel_order(order)  \n",
    "        context.reorder_dict[order.sid] = order.amount - order.filled\n",
    "\n",
    "\n",
    "def get_all_open_orders():  \n",
    "    from itertools import chain  \n",
    "    orders = chain.from_iterable(get_open_orders().values())  \n",
    "    return list(orders)  \n",
    "\n",
    "\n",
    "# Called Daily to replace/re-order partially or unfilled orders\n",
    "def reorder(context, data):  \n",
    "    for stock, amount in context.reorder_dict.items():  \n",
    "        order(stock, amount)  \n",
    "        log.info(\"Reorder {stock} {amount}\".format(stock=stock, amount=amount))  \n",
    "    context.reorder_dict = {}\n",
    "\n",
    "\n",
    "def analyze(context, perf):\n",
    "    ax1 = plt.subplot(211)\n",
    "    perf.portfolio_value.plot(ax=ax1)\n",
    "    ax2 = plt.subplot(212, sharex=ax1)\n",
    "    perf.SPY.plot(ax=ax2)\n",
    "    plt.gcf().set_size_inches(18, 8)\n",
    "    plt.show()"
   ]
  },
  {
   "cell_type": "markdown",
   "metadata": {},
   "source": [
    "## Display your current bundles"
   ]
  },
  {
   "cell_type": "code",
   "execution_count": null,
   "metadata": {},
   "outputs": [],
   "source": [
    "!zipline bundles # Finds all bundles"
   ]
  },
  {
   "cell_type": "markdown",
   "metadata": {},
   "source": [
    "## Ingest Bundle funds assets. "
   ]
  },
  {
   "cell_type": "code",
   "execution_count": null,
   "metadata": {},
   "outputs": [],
   "source": [
    "# Ingest Sharadar funds assets for today, if needed.\n",
    "\n",
    "# Only need to ingest Funds for this algo, and this takes less processing time and system memory than ingesting\n",
    "# all of Sharadar Equities plus Funds bundle (sharadar-eqfd)\n",
    "\n",
    "# Yahoo Direct Data Bundle Ingest\n",
    "!export YAHOO_SYM_LST=SPY,ZSL,KOLD,GLD,SHY;zipline ingest -b yahoo_direct\n",
    "\n",
    "# !zipline ingest -b sharadar-funds \n",
    "##### !zipline ingest -b hca-symbol\n"
   ]
  },
  {
   "cell_type": "markdown",
   "metadata": {},
   "source": [
    "## Zipline backtest, alternative method\n",
    "\n",
    "- Method: command line\n",
    "- Execution of zipline code, located in a file, using below command line execution with magic (`!`) invocation\n",
    "- This line can also be run in a terminal by copying everything past the `!` and pasting (shift-insert) it into the target terminal"
   ]
  },
  {
   "cell_type": "code",
   "execution_count": null,
   "metadata": {
    "scrolled": true
   },
   "outputs": [],
   "source": [
    "# !zipline run -f $ALGO_BT  --start=2018-1-1 --end=2020-10-02 -b sharadar-funds -o $ALGO_BT_OUT"
   ]
  },
  {
   "cell_type": "markdown",
   "metadata": {},
   "source": [
    "## Run Zipline live on IB-TWS via command line\n",
    "\n",
    "- Method: command line\n",
    "- Execution of zipline code using below command line execution using magic (`!`) invocation\n",
    "\n",
    "**Notes:** \n",
    "- IB-TWS or IB-Gateway must be running, with `IB_ACCT` and `IB_URI` port being correct to live trade\n",
    "- Change `I_WANT_TO_RUN_THIS_CODE` to `True` below to run zipline live on IB-TWS/IB-Gateway"
   ]
  },
  {
   "cell_type": "code",
   "execution_count": null,
   "metadata": {},
   "outputs": [],
   "source": [
    "TODAY = pd.datetime.today().strftime(\"%Y-%m-%d\")\n",
    "print(\"TODAY = {}\".format(TODAY))"
   ]
  },
  {
   "cell_type": "code",
   "execution_count": null,
   "metadata": {},
   "outputs": [],
   "source": [
    "ALGO_STATE = ALGO_PATH + \"strategy.state\" \n",
    "ALGO_RTB   = ALGO_PATH + \"realtime-bars/\"\n",
    "\n",
    "# Edit the following URI to match your IB account and port info.\n",
    "IB_ACCT = \"DU1568488\"\n",
    "IB_URI = \"127.0.0.1:7497:1301\"\n",
    "BUNDLE = 'yahoo_direct'\n",
    "#BUNDLE = 'hca_symbol'\n",
    "\n",
    "# Change following to 'True' and run cell (control-enter) to execute live run.\n",
    "I_WANT_TO_RUN_THIS_CODE = True\n",
    "# I_WANT_TO_RUN_THIS_CODE = True\n",
    "\n",
    "if I_WANT_TO_RUN_THIS_CODE:\n",
    "    \n",
    "    !zipline run \\\n",
    "        -s $TODAY \\\n",
    "        -f $ALGO_LIVE \\\n",
    "        --bundle $BUNDLE \\\n",
    "        --broker ib \\\n",
    "        --broker-uri $IB_URI \\\n",
    "        --broker-acct $IB_ACCT \\\n",
    "        --data-frequency daily \\\n",
    "        --state-file $ALGO_STATE \\\n",
    "        --realtime-bar-target $ALGO_RTB "
   ]
  },
  {
   "cell_type": "code",
   "execution_count": null,
   "metadata": {},
   "outputs": [],
   "source": []
  }
 ],
 "metadata": {
  "hide_input": false,
  "kernelspec": {
   "display_name": "hca-py3.6.7",
   "language": "python",
   "name": "hca"
  },
  "language_info": {
   "codemirror_mode": {
    "name": "ipython",
    "version": 3
   },
   "file_extension": ".py",
   "mimetype": "text/x-python",
   "name": "python",
   "nbconvert_exporter": "python",
   "pygments_lexer": "ipython3",
   "version": "3.6.7"
  }
 },
 "nbformat": 4,
 "nbformat_minor": 4
}
